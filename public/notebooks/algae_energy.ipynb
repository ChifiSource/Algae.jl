{
 "cells": [
  {
   "cell_type": "markdown",
   "metadata": {},
   "source": [
    "# Algae energy\n",
    "future text will go here :)"
   ]
  },
  {
   "cell_type": "code",
   "execution_count": 1,
   "metadata": {},
   "outputs": [
    {
     "name": "stderr",
     "output_type": "stream",
     "text": [
      "\u001b[32m\u001b[1m  Activating\u001b[22m\u001b[39m project at `~/dev/toolips/Algae`\n"
     ]
    }
   ],
   "source": [
    "using Pkg; Pkg.activate(\"../../.\")"
   ]
  },
  {
   "cell_type": "code",
   "execution_count": 2,
   "metadata": {},
   "outputs": [
    {
     "data": {
      "text/html": [
       "<table class=\"data-frame\"><thead><tr><th></th><th>ExperimentID</th><th>SiteID</th><th>PondID</th><th>StrainID</th><th>Date</th><th>pH</th><th>Temp.avg (C)</th><th>Temp.max (C)</th></tr><tr><th></th><th>String15</th><th>String7</th><th>String3</th><th>String15</th><th>String15</th><th>Float64?</th><th>Float64?</th><th>Float64?</th></tr></thead><tbody><p>11,920 rows × 14 columns (omitted printing of 6 columns)</p><tr><th>1</th><td>SEP102014</td><td>ASU</td><td>P1</td><td>KA32</td><td>09-10-2014</td><td>7.84</td><td>29.47</td><td>33.0</td></tr><tr><th>2</th><td>SEP102014</td><td>ASU</td><td>P2</td><td>KA32</td><td>09-10-2014</td><td>7.76</td><td>29.9</td><td>33.3</td></tr><tr><th>3</th><td>SEP102014</td><td>ASU</td><td>P3</td><td>KA32</td><td>09-10-2014</td><td>7.85</td><td>29.68</td><td>33.0</td></tr><tr><th>4</th><td>SEP102014</td><td>ASU</td><td>P4</td><td>KA32</td><td>09-10-2014</td><td>7.91</td><td><em>missing</em></td><td><em>missing</em></td></tr><tr><th>5</th><td>SEP102014</td><td>ASU</td><td>P5</td><td>KA32</td><td>09-10-2014</td><td>7.24</td><td>29.15</td><td>32.7</td></tr><tr><th>6</th><td>SEP102014</td><td>ASU</td><td>P6</td><td>KA32</td><td>09-10-2014</td><td>0.08</td><td>29.46</td><td>33.0</td></tr><tr><th>7</th><td>SEP102014</td><td>ASU</td><td>P1</td><td>KA32</td><td>09-11-2014</td><td>7.85</td><td>27.25</td><td>32.6</td></tr><tr><th>8</th><td>SEP102014</td><td>ASU</td><td>P2</td><td>KA32</td><td>09-11-2014</td><td>7.86</td><td>27.39</td><td>32.8</td></tr><tr><th>9</th><td>SEP102014</td><td>ASU</td><td>P3</td><td>KA32</td><td>09-11-2014</td><td>7.94</td><td>27.33</td><td>32.7</td></tr><tr><th>10</th><td>SEP102014</td><td>ASU</td><td>P4</td><td>KA32</td><td>09-11-2014</td><td>7.91</td><td><em>missing</em></td><td><em>missing</em></td></tr><tr><th>11</th><td>SEP102014</td><td>ASU</td><td>P5</td><td>KA32</td><td>09-11-2014</td><td>7.65</td><td>27.14</td><td>32.6</td></tr><tr><th>12</th><td>SEP102014</td><td>ASU</td><td>P6</td><td>KA32</td><td>09-11-2014</td><td>1.47</td><td>27.36</td><td>32.8</td></tr><tr><th>13</th><td>SEP102014</td><td>ASU</td><td>P1</td><td>KA32</td><td>09-12-2014</td><td>7.86</td><td>24.87</td><td>30.0</td></tr><tr><th>14</th><td>SEP102014</td><td>ASU</td><td>P2</td><td>KA32</td><td>09-12-2014</td><td>7.81</td><td>27.4</td><td>32.9</td></tr><tr><th>15</th><td>SEP102014</td><td>ASU</td><td>P3</td><td>KA32</td><td>09-12-2014</td><td>7.93</td><td>27.43</td><td>32.9</td></tr><tr><th>16</th><td>SEP102014</td><td>ASU</td><td>P4</td><td>KA32</td><td>09-12-2014</td><td>7.91</td><td><em>missing</em></td><td><em>missing</em></td></tr><tr><th>17</th><td>SEP102014</td><td>ASU</td><td>P5</td><td>KA32</td><td>09-12-2014</td><td>7.82</td><td>27.32</td><td>32.8</td></tr><tr><th>18</th><td>SEP102014</td><td>ASU</td><td>P6</td><td>KA32</td><td>09-12-2014</td><td>6.63</td><td>27.71</td><td>33.4</td></tr><tr><th>19</th><td>SEP102014</td><td>ASU</td><td>P1</td><td>KA32</td><td>09-13-2014</td><td>7.82</td><td>23.59</td><td>25.3</td></tr><tr><th>20</th><td>SEP102014</td><td>ASU</td><td>P2</td><td>KA32</td><td>09-13-2014</td><td>7.89</td><td>25.23</td><td>30.0</td></tr><tr><th>21</th><td>SEP102014</td><td>ASU</td><td>P3</td><td>KA32</td><td>09-13-2014</td><td>7.94</td><td>25.28</td><td>30.2</td></tr><tr><th>22</th><td>SEP102014</td><td>ASU</td><td>P4</td><td>KA32</td><td>09-13-2014</td><td>7.92</td><td><em>missing</em></td><td><em>missing</em></td></tr><tr><th>23</th><td>SEP102014</td><td>ASU</td><td>P5</td><td>KA32</td><td>09-13-2014</td><td>7.85</td><td>25.05</td><td>29.9</td></tr><tr><th>24</th><td>SEP102014</td><td>ASU</td><td>P6</td><td>KA32</td><td>09-13-2014</td><td>7.6</td><td>25.5</td><td>30.3</td></tr><tr><th>25</th><td>SEP102014</td><td>ASU</td><td>P1</td><td>KA32</td><td>09-14-2014</td><td>7.91</td><td>25.91</td><td>30.9</td></tr><tr><th>26</th><td>SEP102014</td><td>ASU</td><td>P2</td><td>KA32</td><td>09-14-2014</td><td>7.89</td><td>25.93</td><td>31.2</td></tr><tr><th>27</th><td>SEP102014</td><td>ASU</td><td>P3</td><td>KA32</td><td>09-14-2014</td><td>7.95</td><td>25.93</td><td>31.0</td></tr><tr><th>28</th><td>SEP102014</td><td>ASU</td><td>P4</td><td>KA32</td><td>09-14-2014</td><td>7.92</td><td><em>missing</em></td><td><em>missing</em></td></tr><tr><th>29</th><td>SEP102014</td><td>ASU</td><td>P5</td><td>KA32</td><td>09-14-2014</td><td>7.81</td><td>25.74</td><td>30.8</td></tr><tr><th>30</th><td>SEP102014</td><td>ASU</td><td>P6</td><td>KA32</td><td>09-14-2014</td><td>7.74</td><td>26.14</td><td>31.3</td></tr><tr><th>&vellip;</th><td>&vellip;</td><td>&vellip;</td><td>&vellip;</td><td>&vellip;</td><td>&vellip;</td><td>&vellip;</td><td>&vellip;</td><td>&vellip;</td></tr></tbody></table>"
      ],
      "text/latex": [
       "\\begin{tabular}{r|ccccccccc}\n",
       "\t& ExperimentID & SiteID & PondID & StrainID & Date & pH & Temp.avg (C) & Temp.max (C) & \\\\\n",
       "\t\\hline\n",
       "\t& String15 & String7 & String3 & String15 & String15 & Float64? & Float64? & Float64? & \\\\\n",
       "\t\\hline\n",
       "\t1 & SEP102014 & ASU & P1 & KA32 & 09-10-2014 & 7.84 & 29.47 & 33.0 & $\\dots$ \\\\\n",
       "\t2 & SEP102014 & ASU & P2 & KA32 & 09-10-2014 & 7.76 & 29.9 & 33.3 & $\\dots$ \\\\\n",
       "\t3 & SEP102014 & ASU & P3 & KA32 & 09-10-2014 & 7.85 & 29.68 & 33.0 & $\\dots$ \\\\\n",
       "\t4 & SEP102014 & ASU & P4 & KA32 & 09-10-2014 & 7.91 & \\emph{missing} & \\emph{missing} & $\\dots$ \\\\\n",
       "\t5 & SEP102014 & ASU & P5 & KA32 & 09-10-2014 & 7.24 & 29.15 & 32.7 & $\\dots$ \\\\\n",
       "\t6 & SEP102014 & ASU & P6 & KA32 & 09-10-2014 & 0.08 & 29.46 & 33.0 & $\\dots$ \\\\\n",
       "\t7 & SEP102014 & ASU & P1 & KA32 & 09-11-2014 & 7.85 & 27.25 & 32.6 & $\\dots$ \\\\\n",
       "\t8 & SEP102014 & ASU & P2 & KA32 & 09-11-2014 & 7.86 & 27.39 & 32.8 & $\\dots$ \\\\\n",
       "\t9 & SEP102014 & ASU & P3 & KA32 & 09-11-2014 & 7.94 & 27.33 & 32.7 & $\\dots$ \\\\\n",
       "\t10 & SEP102014 & ASU & P4 & KA32 & 09-11-2014 & 7.91 & \\emph{missing} & \\emph{missing} & $\\dots$ \\\\\n",
       "\t11 & SEP102014 & ASU & P5 & KA32 & 09-11-2014 & 7.65 & 27.14 & 32.6 & $\\dots$ \\\\\n",
       "\t12 & SEP102014 & ASU & P6 & KA32 & 09-11-2014 & 1.47 & 27.36 & 32.8 & $\\dots$ \\\\\n",
       "\t13 & SEP102014 & ASU & P1 & KA32 & 09-12-2014 & 7.86 & 24.87 & 30.0 & $\\dots$ \\\\\n",
       "\t14 & SEP102014 & ASU & P2 & KA32 & 09-12-2014 & 7.81 & 27.4 & 32.9 & $\\dots$ \\\\\n",
       "\t15 & SEP102014 & ASU & P3 & KA32 & 09-12-2014 & 7.93 & 27.43 & 32.9 & $\\dots$ \\\\\n",
       "\t16 & SEP102014 & ASU & P4 & KA32 & 09-12-2014 & 7.91 & \\emph{missing} & \\emph{missing} & $\\dots$ \\\\\n",
       "\t17 & SEP102014 & ASU & P5 & KA32 & 09-12-2014 & 7.82 & 27.32 & 32.8 & $\\dots$ \\\\\n",
       "\t18 & SEP102014 & ASU & P6 & KA32 & 09-12-2014 & 6.63 & 27.71 & 33.4 & $\\dots$ \\\\\n",
       "\t19 & SEP102014 & ASU & P1 & KA32 & 09-13-2014 & 7.82 & 23.59 & 25.3 & $\\dots$ \\\\\n",
       "\t20 & SEP102014 & ASU & P2 & KA32 & 09-13-2014 & 7.89 & 25.23 & 30.0 & $\\dots$ \\\\\n",
       "\t21 & SEP102014 & ASU & P3 & KA32 & 09-13-2014 & 7.94 & 25.28 & 30.2 & $\\dots$ \\\\\n",
       "\t22 & SEP102014 & ASU & P4 & KA32 & 09-13-2014 & 7.92 & \\emph{missing} & \\emph{missing} & $\\dots$ \\\\\n",
       "\t23 & SEP102014 & ASU & P5 & KA32 & 09-13-2014 & 7.85 & 25.05 & 29.9 & $\\dots$ \\\\\n",
       "\t24 & SEP102014 & ASU & P6 & KA32 & 09-13-2014 & 7.6 & 25.5 & 30.3 & $\\dots$ \\\\\n",
       "\t25 & SEP102014 & ASU & P1 & KA32 & 09-14-2014 & 7.91 & 25.91 & 30.9 & $\\dots$ \\\\\n",
       "\t26 & SEP102014 & ASU & P2 & KA32 & 09-14-2014 & 7.89 & 25.93 & 31.2 & $\\dots$ \\\\\n",
       "\t27 & SEP102014 & ASU & P3 & KA32 & 09-14-2014 & 7.95 & 25.93 & 31.0 & $\\dots$ \\\\\n",
       "\t28 & SEP102014 & ASU & P4 & KA32 & 09-14-2014 & 7.92 & \\emph{missing} & \\emph{missing} & $\\dots$ \\\\\n",
       "\t29 & SEP102014 & ASU & P5 & KA32 & 09-14-2014 & 7.81 & 25.74 & 30.8 & $\\dots$ \\\\\n",
       "\t30 & SEP102014 & ASU & P6 & KA32 & 09-14-2014 & 7.74 & 26.14 & 31.3 & $\\dots$ \\\\\n",
       "\t$\\dots$ & $\\dots$ & $\\dots$ & $\\dots$ & $\\dots$ & $\\dots$ & $\\dots$ & $\\dots$ & $\\dots$ &  \\\\\n",
       "\\end{tabular}\n"
      ],
      "text/plain": [
       "\u001b[1m11920×14 DataFrame\u001b[0m\n",
       "\u001b[1m   Row \u001b[0m│\u001b[1m ExperimentID \u001b[0m\u001b[1m SiteID  \u001b[0m\u001b[1m PondID  \u001b[0m\u001b[1m StrainID \u001b[0m\u001b[1m Date       \u001b[0m\u001b[1m pH       \u001b[0m\u001b[1m Temp.\u001b[0m ⋯\n",
       "\u001b[1m       \u001b[0m│\u001b[90m String15     \u001b[0m\u001b[90m String7 \u001b[0m\u001b[90m String3 \u001b[0m\u001b[90m String15 \u001b[0m\u001b[90m String15   \u001b[0m\u001b[90m Float64? \u001b[0m\u001b[90m Float\u001b[0m ⋯\n",
       "───────┼────────────────────────────────────────────────────────────────────────\n",
       "     1 │ SEP102014     ASU      P1       KA32      09-10-2014      7.84        ⋯\n",
       "     2 │ SEP102014     ASU      P2       KA32      09-10-2014      7.76\n",
       "     3 │ SEP102014     ASU      P3       KA32      09-10-2014      7.85\n",
       "     4 │ SEP102014     ASU      P4       KA32      09-10-2014      7.91 \u001b[90m   mis\u001b[0m\n",
       "     5 │ SEP102014     ASU      P5       KA32      09-10-2014      7.24        ⋯\n",
       "     6 │ SEP102014     ASU      P6       KA32      09-10-2014      0.08\n",
       "     7 │ SEP102014     ASU      P1       KA32      09-11-2014      7.85\n",
       "     8 │ SEP102014     ASU      P2       KA32      09-11-2014      7.86\n",
       "     9 │ SEP102014     ASU      P3       KA32      09-11-2014      7.94        ⋯\n",
       "    10 │ SEP102014     ASU      P4       KA32      09-11-2014      7.91 \u001b[90m   mis\u001b[0m\n",
       "    11 │ SEP102014     ASU      P5       KA32      09-11-2014      7.65\n",
       "   ⋮   │      ⋮           ⋮        ⋮        ⋮          ⋮          ⋮            ⋱\n",
       " 11911 │ OCT172013     TRL      P3       KA32      12-10-2013      7.96\n",
       " 11912 │ OCT172013     TRL      P4       KA32      12-10-2013      7.93        ⋯\n",
       " 11913 │ OCT172013     TRL      P5       KA32      12-10-2013      7.98\n",
       " 11914 │ OCT172013     TRL      P6       KA32      12-10-2013      7.98\n",
       " 11915 │ OCT172013     TRL      P1       KA32      12-11-2013      7.96\n",
       " 11916 │ OCT172013     TRL      P2       KA32      12-11-2013      7.96        ⋯\n",
       " 11917 │ OCT172013     TRL      P3       KA32      12-11-2013      7.96\n",
       " 11918 │ OCT172013     TRL      P4       KA32      12-11-2013      7.95\n",
       " 11919 │ OCT172013     TRL      P5       KA32      12-11-2013      7.99\n",
       " 11920 │ OCT172013     TRL      P6       KA32      12-11-2013      7.99        ⋯\n",
       "\u001b[36m                                                8 columns and 11899 rows omitted\u001b[0m"
      ]
     },
     "execution_count": 2,
     "metadata": {},
     "output_type": "execute_result"
    }
   ],
   "source": [
    "using Makie, WGLMakie\n",
    "using HypothesisTests\n",
    "using Lathe.preprocess: TrainTestSplit\n",
    "using Lathe.models: LinearRegression\n",
    "using DataFrames\n",
    "using CSV; df = CSV.read(\"../data/energy/atp3ufs_doe_instrumentation.csv\", DataFrame)"
   ]
  },
  {
   "cell_type": "code",
   "execution_count": 3,
   "metadata": {},
   "outputs": [
    {
     "data": {
      "text/plain": [
       "14-element Vector{String}:\n",
       " \"ExperimentID\"\n",
       " \"SiteID\"\n",
       " \"PondID\"\n",
       " \"StrainID\"\n",
       " \"Date\"\n",
       " \"pH\"\n",
       " \"Temp.avg (C)\"\n",
       " \"Temp.max (C)\"\n",
       " \"Temp.min (C)\"\n",
       " \"Cond (mS.cm)\"\n",
       " \"DO (mg.L)\"\n",
       " \"DO (%sat)\"\n",
       " \"Sal (g.L)\"\n",
       " \"PAR (umol.m2.s)\""
      ]
     },
     "execution_count": 3,
     "metadata": {},
     "output_type": "execute_result"
    }
   ],
   "source": [
    "names(df)"
   ]
  },
  {
   "cell_type": "code",
   "execution_count": 4,
   "metadata": {},
   "outputs": [
    {
     "name": "stdout",
     "output_type": "stream",
     "text": [
      "Union{Missing, Float64}[missing, missing, missing, missing, missing, 831.9, missing, missing, missing, missing, missing, 576.3, missing, missing, missing, missing, missing, 573.22, missing, missing, missing, missing, missing, 559.07, missing, missing, missing, missing, missing, 572.18, missing, missing, missing, missing, missing, 556.01, missing, missing, missing, missing, missing, 171.24, missing, missing, missing, missing, missing, 283.66, missing, missing, missing, missing, missing, 530.46, missing, missing, missing, missing, missing, 510.54, missing, missing, missing, missing, missing, 464.7, missing, missing, missing, missing, missing, 513.24, missing, missing, missing, missing, missing, 535.02, missing, missing, missing, missing, missing, 538.86, missing, missing, missing, missing, missing, 530.45, missing, missing, missing, missing, missing, 524.07, missing, missing, missing, missing, missing, 436.72, missing, missing, missing, missing, missing, 337.85, missing, missing, missing, missing, missing, 515.92, missing, missing, missing, missing, missing, 515.86, missing, missing, missing, missing, missing, 511.79, missing, missing, missing, missing, missing, 508.22, missing, missing, missing, missing, missing, 505.22, missing, missing, missing, missing, missing, 502.49, missing, missing, missing, missing, missing, 497.75, missing, missing, missing, missing, missing, 494.03, missing, missing, missing, missing, missing, 386.81, missing, missing, missing, missing, missing, 267.35, missing, missing, missing, missing, missing, 116.31, missing, missing, missing, missing, missing, 320.39, missing, missing, missing, missing, missing, 463.54, missing, missing, missing, missing, missing, 458.96, missing, missing, missing, missing, missing, 463.83, missing, missing, missing, missing, missing, 465.38, missing, missing, missing, missing, missing, 461.31, missing, missing, missing, missing, missing, 355.76, missing, missing, missing, missing, missing, 443.78, missing, missing, missing, missing, missing, 333.96, missing, missing, missing, missing, missing, 395.56, missing, missing, missing, missing, missing, 392.12, missing, missing, missing, missing, missing, 40.47, missing, missing, missing, missing, missing, 587.93, missing, missing, missing, missing, missing, 408.22, missing, missing, missing, missing, missing, 415.84, missing, missing, missing, missing, missing, 405.96, missing, missing, missing, missing, missing, 384.06, missing, missing, missing, missing, missing, 401.08, missing, missing, missing, missing, missing, 400.96, missing, missing, missing, missing, missing, 397.93, missing, missing, missing, missing, missing, 344.71, missing, missing, missing, missing, missing, 371.2, missing, missing, missing, missing, missing, 388.64, missing, missing, missing, missing, missing, 276.31, missing, missing, missing, missing, missing, 378.72, missing, missing, missing, missing, missing, 377.5, missing, missing, missing, missing, missing, 377.93, missing, missing, missing, missing, missing, 375.49, missing, missing, missing, missing, missing, 373.4, missing, missing, missing, missing, missing, 374.02, missing, missing, missing, missing, missing, 370.75, missing, missing, missing, missing, missing, 363.48, missing, missing, missing, missing, missing, 363.57, missing, missing, missing, missing, missing, 357.14, missing, missing, missing, missing, missing, 344.36, missing, missing, missing, missing, missing, 178.94, missing, missing, missing, missing, missing, 325.89, missing, missing, missing, missing, missing, 346.96, missing, missing, missing, missing, missing, 347.8, missing, missing, missing, missing, missing, 339.25, missing, missing, missing, missing, missing, 290.97, missing, missing, missing, missing, missing, 331.17, missing, missing, missing, missing, missing, 184.68, missing, missing, missing, missing, missing, 317.59, missing, missing, missing, missing, missing, 314.9, missing, missing, missing, missing, missing, 322.08, missing, missing, missing, missing, missing, 324.33, missing, missing, missing, missing, missing, 318.78, missing, missing, missing, missing, missing, 317.82, missing, missing, missing, missing, missing, 316.67, missing, missing, missing, missing, missing, 313.15, missing, missing, missing, missing, missing, 301.11, missing, missing, missing, missing, missing, 234.15, missing, missing, missing, missing, missing, 134.48, missing, missing, missing, missing, missing, 222.52, missing, missing, missing, missing, missing, missing, missing, missing, missing, missing, missing, missing, missing, missing, missing, 562.93, missing, missing, missing, missing, missing, 650.23, missing, missing, missing, missing, missing, 659.04, missing, missing, missing, missing, missing, 657.27, missing, missing, missing, missing, missing, 596.26, missing, missing, missing, missing, missing, 656.43, missing, missing, missing, missing, missing, 560.78, missing, missing, missing, missing, missing, 618.69, missing, missing, missing, missing, missing, 669.72, missing, missing, missing, missing, missing, 679.35, missing, missing, missing, missing, missing, 634.91, missing, missing, missing, missing, missing, 681.74, missing, missing, missing, missing, missing, 670.82, missing, missing, missing, missing, missing, 242.22, missing, missing, missing, missing, missing, 403.06, missing, missing, missing, missing, missing, 690.11, missing, missing, missing, missing, missing, 693.8, missing, missing, missing, missing, missing, 662.47, missing, missing, missing, missing, missing, 694.22, missing, missing, missing, missing, missing, 693.36, missing, missing, missing, missing, missing, 626.56, missing, missing, missing, missing, missing, 438.71, missing, missing, missing, missing, missing, 690.77, missing, missing, missing, missing, missing, 711.22, missing, missing, missing, missing, missing, 713.7, missing, missing, missing, missing, missing, 717.51, missing, missing, missing, missing, missing, 685.45, missing, missing, missing, missing, missing, 715.76, missing, missing, missing, missing, missing, 715.46, missing, missing, missing, missing, missing, 713.71, missing, missing, missing, missing, missing, 689.47, missing, missing, missing, missing, missing, 570.26, missing, missing, missing, missing, missing, 626.06, missing, missing, missing, missing, missing, 679.32, missing, missing, missing, missing, missing, 605.46, missing, missing, missing, missing, missing, 692.19, missing, missing, missing, missing, missing, 660.24, missing, missing, missing, missing, missing, 691.67, missing, missing, missing, missing, missing, 700.57, missing, missing, missing, missing, missing, 695.56, missing, missing, missing, missing, missing, 692.27, missing, missing, missing, missing, missing, 692.07, missing, missing, missing, missing, missing, 676.59, missing, missing, missing, missing, missing, 577.71, missing, missing, missing, missing, missing, 710.94, missing, missing, missing, missing, missing, 706.06, missing, missing, missing, missing, missing, 699.45, missing, missing, missing, missing, missing, 696.34, missing, missing, missing, missing, missing, 700.52, missing, missing, missing, missing, missing, 692.72, missing, missing, missing, missing, missing, 627.43, missing, missing, missing, missing, missing, 665.02, missing, missing, missing, missing, missing, 690.05, missing, missing, missing, missing, missing, 265.23, missing, missing, missing, missing, missing, 209.58, missing, missing, missing, missing, missing, 560.69, missing, missing, missing, missing, missing, 382.75, missing, missing, missing, missing, missing, 523.36, missing, missing, missing, missing, missing, 689.9, missing, missing, missing, missing, missing, 667.99, missing, missing, missing, missing, missing, 694.03, missing, missing, missing, missing, missing, 601.62, missing, missing, missing, missing, missing, 637.83, missing, missing, missing, missing, missing, 621.46, missing, missing, missing, missing, missing, 656.22, missing, missing, missing, missing, missing, 617.75, missing, missing, missing, missing, missing, 698.91, missing, missing, missing, missing, missing, 658.83, missing, missing, missing, missing, missing, 589.25, missing, missing, missing, missing, missing, 704.41, missing, missing, missing, missing, missing, 706.1, missing, missing, missing, missing, missing, 701.33, missing, missing, missing, missing, missing, 701.17, missing, missing, missing, missing, missing, 709.49, missing, missing, missing, missing, missing, 678.12, missing, missing, missing, missing, missing, 706.57, missing, missing, missing, missing, missing, 372.77, missing, missing, missing, missing, missing, 310.04, missing, missing, missing, missing, missing, 404.85, missing, missing, missing, missing, missing, 719.53, missing, missing, missing, missing, missing, 449.34, missing, missing, missing, missing, missing, 348.12, missing, missing, missing, missing, missing, 634.4, missing, missing, missing, missing, missing, 694.81, missing, missing, missing, missing, missing, 708.11, missing, missing, missing, missing, missing, 706.71, missing, missing, missing, missing, missing, 711.96, missing, missing, missing, missing, missing, 706.71, missing, missing, missing, missing, missing, 267.2, missing, missing, missing, missing, missing, 520.25, missing, missing, missing, missing, missing, 473.19, missing, missing, missing, missing, missing, 530.12, missing, missing, missing, missing, missing, 532.36, missing, missing, missing, missing, missing, 526.46, missing, missing, missing, missing, missing, 251.76, missing, missing, missing, missing, missing, 418.22, missing, missing, missing, missing, missing, 544.83, missing, missing, missing, missing, missing, 549.97, missing, missing, missing, missing, missing, 538.06, missing, missing, missing, missing, missing, 560.75, missing, missing, missing, missing, missing, 552.48, missing, missing, missing, missing, missing, 553.74, missing, missing, missing, missing, missing, 568.69, missing, missing, missing, missing, missing, 570.42, missing, missing, missing, missing, missing, 573.17, missing, missing, missing, missing, missing, 543.2, missing, missing, missing, missing, missing, 506.67, missing, missing, missing,"
     ]
    },
    {
     "name": "stdout",
     "output_type": "stream",
     "text": [
      " missing, missing, 95.64, missing, missing, missing, missing, missing, 0.0, missing, missing, missing, missing, missing, 0.0, missing, missing, missing, missing, missing, 0.0, missing, missing, missing, missing, missing, 0.0, missing, missing, missing, missing, missing, 0.0, missing, missing, missing, missing, missing, 0.0, missing, missing, missing, missing, missing, 0.0, missing, missing, missing, missing, missing, 0.0, missing, missing, missing, missing, missing, 0.0, missing, missing, missing, missing, missing, 0.0, missing, missing, missing, missing, missing, 0.0, missing, missing, missing, missing, missing, 0.0, missing, missing, missing, missing, missing, 0.0, missing, missing, missing, missing, missing, 0.0, missing, 0.0, missing, 0.0, missing, 0.0, missing, 0.0, missing, 0.0, missing, 0.0, missing, 0.0, missing, 0.0, missing, 0.0, missing, 8.63, missing, 496.58, missing, 390.64, missing, 657.44, missing, 663.9, missing, 669.82, missing, 654.02, missing, 758.86, missing, missing, missing, missing, missing, 914.17, missing, missing, missing, missing, missing, 720.84, missing, missing, missing, missing, missing, 716.94, missing, missing, missing, missing, missing, 725.83, missing, missing, missing, missing, missing, 573.79, missing, missing, missing, missing, missing, 738.43, missing, missing, missing, missing, missing, 686.81, missing, missing, missing, missing, missing, 719.02, missing, missing, missing, missing, missing, 723.2, missing, missing, missing, missing, missing, 715.88, missing, missing, missing, missing, missing, 717.64, missing, missing, missing, missing, missing, 721.61, missing, missing, missing, missing, missing, 719.66, missing, missing, missing, missing, missing, 719.28, missing, missing, missing, missing, missing, 721.66, missing, missing, missing, missing, missing, 660.37, missing, missing, missing, missing, missing, 718.97, missing, missing, missing, missing, missing, 713.24, missing, missing, missing, missing, missing, 711.21, missing, missing, missing, missing, missing, 719.4, missing, missing, missing, missing, missing, 706.12, missing, missing, missing, missing, missing, 697.93, missing, missing, missing, missing, missing, 700.7, missing, missing, missing, missing, missing, 462.8, missing, missing, missing, missing, missing, 669.96, missing, missing, missing, missing, missing, 665.44, missing, missing, missing, missing, missing, 632.25, missing, missing, missing, missing, missing, 647.11, missing, missing, missing, missing, missing, 563.74, missing, missing, missing, missing, missing, 668.33, missing, missing, missing, missing, missing, 700.45, missing, missing, missing, missing, missing, 647.9, missing, missing, missing, missing, missing, 623.54, missing, missing, missing, missing, missing, 664.11, missing, missing, missing, missing, missing, 503.74, missing, missing, missing, missing, missing, 677.54, missing, missing, missing, missing, missing, 607.67, missing, 652.95, missing, 662.75, missing, 652.72, missing, 151.65, missing, missing, missing, missing, missing, 725.6, missing, missing, missing, missing, missing, 678.07, missing, missing, missing, missing, missing, 604.84, missing, missing, missing, missing, missing, 681.71, missing, missing, missing, missing, missing, 697.86, missing, missing, missing, missing, missing, 679.55, missing, missing, missing, missing, missing, 553.62, missing, missing, missing, missing, missing, 453.48, missing, missing, missing, missing, missing, 469.84, missing, missing, missing, missing, missing, 630.83, missing, missing, missing, missing, missing, 687.59, missing, missing, missing, missing, missing, 676.85, missing, missing, missing, missing, missing, 671.78, missing, missing, missing, missing, missing, 672.73, missing, missing, missing, missing, missing, 660.84, missing, missing, missing, missing, missing, 617.6, missing, missing, missing, missing, missing, 654.2, missing, missing, missing, missing, missing, 779.63, missing, missing, missing, missing, missing, missing, 5.95, missing, missing, missing, missing, missing, 648.16, missing, missing, missing, missing, missing, 645.72, missing, missing, missing, missing, missing, 601.02, missing, missing, missing, missing, missing, 362.06, missing, missing, missing, missing, missing, 686.64, missing, missing, missing, missing, missing, 233.61, missing, missing, missing, missing, missing, 300.02, missing, missing, missing, missing, missing, 302.92, missing, missing, missing, missing, missing, 307.53, missing, missing, missing, missing, missing, 308.76, missing, missing, missing, missing, missing, 310.11, missing, missing, missing, missing, missing, 274.89, missing, missing, missing, missing, missing, 153.4, missing, missing, missing, missing, missing, 307.76, missing, missing, missing, missing, missing, 149.07, missing, missing, missing, missing, missing, 255.23, missing, missing, missing, missing, missing, 228.0, missing, missing, missing, missing, missing, 158.46, missing, missing, missing, missing, missing, 322.07, missing, missing, missing, missing, missing, 327.15, missing, missing, missing, missing, missing, 329.53, missing, missing, missing, missing, missing, 332.53, missing, missing, missing, missing, missing, 306.5, missing, missing, missing, missing, missing, 307.35, missing, missing, missing, missing, missing, 309.02, missing, missing, missing, missing, missing, 311.53, missing, missing, missing, missing, missing, 342.78, missing, missing, missing, missing, missing, 308.82, missing, missing, missing, missing, missing, 348.15, missing, missing, missing, missing, missing, 271.2, missing, missing, missing, missing, missing, 157.57, missing, missing, missing, missing, missing, 262.44, missing, missing, missing, missing, missing, 59.16, missing, missing, missing, missing, missing, 85.53, missing, missing, missing, missing, missing, 145.67, missing, missing, missing, missing, missing, 223.8, missing, missing, missing, missing, missing, 288.66, missing, missing, missing, missing, missing, 266.95, missing, missing, missing, missing, missing, 277.59, missing, missing, missing, missing, missing, 290.71, missing, missing, missing, missing, missing, 300.14, missing, missing, missing, missing, missing, 283.54, missing, missing, missing, missing, missing, 223.0, missing, missing, missing, missing, missing, 297.55, missing, missing, missing, missing, missing, 296.77, missing, missing, missing, missing, missing, 271.85, missing, missing, missing, missing, missing, 298.67, missing, missing, missing, missing, missing, 301.14, missing, missing, missing, missing, missing, 82.47, missing, missing, missing, missing, missing, 12.42, missing, missing, missing, missing, missing, 43.33, missing, missing, missing, missing, missing, 93.3, missing, missing, missing, missing, missing, 298.55, missing, missing, missing, missing, missing, 368.03, missing, missing, missing, missing, missing, 372.33, missing, missing, missing, missing, missing, 373.77, missing, missing, missing, missing, missing, 383.3, missing, missing, missing, missing, missing, 386.35, missing, missing, missing, missing, missing, 391.23, missing, missing, missing, missing, missing, 395.18, missing, missing, missing, missing, missing, 397.91, missing, missing, missing, missing, missing, 398.61, missing, missing, missing, missing, missing, 404.58, missing, missing, missing, missing, missing, 410.71, missing, missing, missing, missing, missing, 411.57, missing, missing, missing, missing, missing, 339.65, missing, missing, missing, missing, missing, 286.94, missing, missing, missing, missing, missing, 416.25, missing, missing, missing, 423.05, missing, missing, missing, 412.43, missing, missing, missing, 347.04, missing, missing, missing, 289.0, missing, missing, 374.76, missing, missing, 315.72, missing, missing, 343.53, missing, missing, 367.85, missing, missing, missing, missing, missing, missing, missing, 946.88, missing, missing, missing, missing, missing, 702.03, missing, missing, missing, missing, missing, 692.08, missing, missing, missing, missing, missing, 698.46, missing, missing, missing, missing, missing, 681.9, missing, missing, missing, missing, missing, 690.94, missing, missing, missing, missing, missing, 676.84, missing, missing, missing, missing, missing, 652.39, missing, missing, missing, missing, missing, 682.53, missing, missing, missing, missing, missing, 670.02, missing, missing, missing, missing, missing, 636.39, missing, missing, missing, missing, missing, 665.15, missing, missing, missing, missing, missing, 664.8, missing, missing, missing, missing, missing, 660.21, missing, missing, missing, missing, missing, 636.89, missing, missing, missing, missing, missing, 692.27, missing, missing, missing, missing, missing, 458.86, missing, missing, missing, missing, missing, 590.43, missing, missing, missing, missing, missing, 472.99, missing, missing, missing, missing, missing, 692.74, missing, missing, missing, missing, missing, 689.92, missing, missing, missing, missing, missing, 705.96, missing, missing, missing, missing, missing, 532.83, missing, missing, missing, missing, missing, 609.27, missing, missing, missing, missing, missing, 680.38, missing, missing, missing, missing, missing, 559.89, missing, missing, missing, missing, missing, 682.55, missing, missing, missing, missing, missing, 597.42, missing, missing, missing, missing, missing, 640.31, missing, missing, missing, missing, missing, 684.05, missing, missing, missing, missing, missing, 397.02, missing, missing, missing, missing, missing, 503.39, missing, missing, missing, missing, missing, 577.51, missing, missing, missing, missing, missing, 666.5, missing, missing, missing, missing, missing, 687.39, missing, missing, missing, missing, missing, 688.82, missing, missing, missing, missing, missing, 668.93, missing, missing, missing, missing, missing, 519.18, missing, missing, missing, missing, missing, 522.2, missing, missing, missing, missing, missing, 647.75, missing, missing, missing, missing, missing, 675.97, missing, missing, 102.54, missing, missing, missing, missing, missing, 591.99, missing, missing, missing, missing, missing, 461.82, missing, missing, missing, missing, missing, 598.79, missing, missing"
     ]
    },
    {
     "name": "stdout",
     "output_type": "stream",
     "text": [
      ", missing, missing, missing, 532.78, missing, missing, missing, missing, missing, 585.98, missing, missing, missing, missing, missing, 582.84, missing, missing, missing, missing, missing, 590.52, missing, missing, missing, missing, missing, 581.45, missing, missing, missing, missing, missing, 529.6, missing, missing, missing, missing, missing, 543.03, missing, missing, missing, missing, missing, 456.45, missing, missing, missing, missing, missing, 516.53, missing, missing, missing, missing, missing, 559.44, missing, missing, missing, missing, missing, 324.18, missing, missing, missing, missing, missing, 342.2, missing, missing, missing, missing, missing, 342.55, missing, missing, missing, missing, missing, 279.78, missing, missing, missing, missing, missing, 534.57, missing, missing, missing, missing, missing, 552.09, missing, missing, missing, missing, missing, 465.73, missing, missing, missing, missing, missing, 410.73, missing, missing, missing, missing, missing, 493.07, missing, missing, missing, missing, missing, 527.53, missing, missing, missing, missing, missing, 519.87, missing, missing, missing, missing, missing, 537.51, missing, missing, missing, missing, missing, 492.08, missing, missing, missing, missing, missing, 438.69, missing, missing, missing, missing, missing, 508.69, missing, missing, missing, missing, missing, 448.32, missing, missing, missing, missing, missing, 440.39, missing, missing, missing, missing, missing, 521.51, missing, missing, missing, missing, missing, 342.81, missing, missing, missing, missing, missing, 495.78, missing, missing, missing, missing, missing, 416.09, missing, missing, missing, missing, missing, 467.28, missing, missing, missing, missing, missing, 58.45, missing, missing, missing, missing, missing, missing, missing, missing, missing, missing, missing, missing, missing, missing, missing, missing, missing, missing, missing, missing, missing, missing, missing, missing, missing, missing, missing, missing, missing, missing, missing, missing, missing, missing, missing, missing, missing, missing, missing, missing, missing, missing, missing, missing, missing, missing, missing, 502.59, missing, missing, missing, missing, missing, 414.59, missing, missing, missing, missing, missing, 279.1, missing, missing, missing, missing, missing, 270.62, missing, missing, missing, missing, missing, 393.82, missing, missing, missing, missing, missing, 429.99, missing, missing, missing, missing, missing, 426.85, missing, missing, missing, missing, missing, 413.95, missing, missing, missing, missing, missing, 35.94, missing, missing, missing, missing, missing, missing, missing, missing, missing, missing, missing, missing, missing, 550.04, missing, missing, missing, missing, missing, 396.12, missing, missing, missing, missing, missing, 292.59, missing, missing, missing, missing, missing, 254.21, missing, missing, missing, missing, missing, 365.56, missing, missing, missing, missing, missing, 358.55, missing, missing, missing, missing, missing, 416.39, missing, missing, missing, missing, missing, 34.21, missing, missing, missing, missing, missing, missing, missing, missing, missing, missing, missing, missing, missing, missing, missing, missing, missing, missing, missing, 777.87, missing, missing, missing, missing, missing, 505.98, missing, missing, missing, missing, missing, 551.67, missing, missing, missing, missing, missing, 555.39, missing, missing, missing, missing, missing, 500.87, missing, missing, missing, missing, missing, 380.38, missing, missing, missing, missing, missing, 446.69, missing, missing, missing, missing, missing, 743.12, missing, missing, missing, missing, missing, 759.8, missing, missing, missing, missing, missing, 716.29, missing, missing, missing, missing, missing, 470.86, missing, missing, missing, missing, missing, 568.06, missing, missing, missing, missing, missing, 689.15, missing, missing, missing, missing, missing, 750.82, missing, missing, missing, missing, missing, 760.9, missing, missing, missing, missing, missing, 673.15, missing, missing, missing, missing, missing, 468.29, missing, missing, missing, missing, missing, 520.51, missing, missing, missing, missing, missing, 566.71, missing, missing, missing, missing, missing, 559.65, missing, missing, missing, missing, missing, 636.93, missing, missing, missing, missing, missing, 554.69, missing, missing, missing, missing, missing, 608.16, missing, missing, missing, missing, missing, 583.91, missing, missing, missing, missing, missing, 603.21, missing, missing, missing, missing, missing, 601.48, missing, missing, missing, missing, missing, 390.06, missing, missing, missing, missing, missing, 570.77, missing, missing, missing, missing, missing, 560.12, missing, missing, missing, missing, missing, 318.4, missing, missing, missing, missing, missing, 526.6, missing, missing, missing, missing, missing, 658.27, missing, missing, missing, missing, missing, 477.38, missing, missing, missing, missing, missing, 612.15, missing, missing, missing, missing, missing, 603.84, missing, missing, missing, missing, missing, 623.92, missing, missing, missing, missing, missing, 536.75, missing, missing, missing, missing, missing, 622.09, missing, missing, missing, missing, missing, 556.35, missing, missing, missing, missing, missing, 619.58, missing, missing, missing, missing, missing, 414.95, missing, missing, missing, missing, missing, 380.08, missing, missing, missing, missing, missing, 488.21, missing, missing, missing, missing, missing, 458.68, missing, missing, missing, missing, missing, 595.13, missing, missing, missing, missing, missing, 475.51, missing, missing, missing, missing, missing, 344.62, missing, missing, missing, missing, missing, 553.54, missing, missing, missing, missing, missing, 478.44, missing, missing, missing, missing, missing, 360.64, missing, missing, missing, missing, missing, 491.8, missing, missing, missing, missing, missing, 385.0, missing, missing, missing, missing, missing, 469.09, missing, missing, missing, missing, missing, 490.98, missing, missing, missing, missing, missing, 357.43, missing, missing, missing, missing, missing, 609.34, missing, missing, missing, missing, missing, 555.91, missing, missing, missing, missing, missing, 544.86, missing, missing, missing, missing, missing, 429.34, missing, missing, missing, missing, missing, 299.59, missing, missing, missing, missing, missing, 578.28, missing, missing, missing, missing, missing, 592.5, missing, missing, missing, missing, missing, 577.63, missing, missing, missing, missing, missing, 586.59, missing, missing, missing, missing, missing, 514.54, missing, missing, missing, missing, missing, 508.31, missing, missing, missing, missing, missing, 579.91, missing, missing, missing, missing, missing, 549.37, missing, missing, missing, missing, missing, 585.75, missing, missing, missing, missing, missing, 517.43, missing, missing, missing, missing, missing, 562.69, missing, missing, missing, missing, missing, 387.9, missing, missing, missing, missing, missing, 539.21, missing, missing, missing, missing, missing, 514.78, missing, missing, missing, missing, missing, 569.96, missing, missing, missing, missing, missing, 587.02, missing, missing, missing, missing, missing, 369.24, missing, missing, missing, missing, missing, 469.76, missing, missing, missing, missing, missing, 439.21, missing, missing, missing, missing, missing, 524.12, missing, missing, missing, missing, missing, 595.65, missing, missing, missing, missing, missing, 539.7, missing, missing, missing, missing, missing, 521.11, missing, missing, missing, missing, missing, 441.9, missing, missing, missing, missing, missing, 634.19, missing, missing, missing, missing, missing, 612.82, missing, missing, missing, missing, missing, 623.71, missing, missing, missing, missing, missing, 504.54, missing, missing, missing, missing, missing, 620.74, missing, missing, missing, missing, missing, 483.68, missing, missing, missing, missing, missing, 639.24, missing, missing, missing, missing, missing, 455.74, missing, missing, missing, missing, missing, 598.42, missing, missing, missing, missing, missing, 629.49, missing, missing, missing, missing, missing, 666.17, missing, missing, missing, missing, missing, 622.82, missing, missing, missing, missing, missing, 648.01, missing, missing, missing, missing, missing, 560.12, missing, missing, missing, missing, missing, 479.73, missing, missing, missing, missing, missing, 498.41, missing, missing, missing, missing, missing, 649.72, missing, missing, missing, missing, missing, 501.18, missing, missing, missing, missing, missing, 523.32, missing, missing, missing, missing, missing, 577.33, missing, missing, missing, missing, missing, 579.37, missing, missing, missing, missing, missing, 617.44, missing, missing, missing, missing, missing, 479.15, missing, missing, missing, missing, missing, 563.57, missing, missing, missing, missing, missing, 494.2, missing, missing, missing, missing, missing, 509.29, missing, missing, missing, missing, missing, 589.33, missing, missing, missing, missing, missing, 616.38, missing, missing, missing, missing, missing, 517.69, missing, missing, missing, missing, missing, 597.01, missing, missing, missing, missing, missing, 584.95, missing, missing, missing, missing, 492.85, missing, missing, missing, 78.56, missing, missing, missing, missing, 604.8, missing, missing, missing, missing, missing, 589.31, missing, missing, missing, missing, missing, 621.23, missing, missing, missing, missing, missing, 561.16, missing, missing, missing, missing, missing, 593.71, missing, missing, missing, missing, missing, 522.4, missing, missing, missing, missing, missing, 580.26, missing, missing, missing, missing, missing, 638.28, missing, missing, missing, missing, missing, 391.01, missing, missing, missing, missing, missing, 558.26, missing, missing, missing, missing, missing, 282.59, missing, missing, missing, missing, missing, 556.33, missing, missing, missing, missing, missing, 608.75, missing, missing, missing, missing, missing, 637.35, missing, missing, missing, missing, missing, 627.58, missing, missing, missing, missing, missing, 525.57, missing, missing, missing, missing, missing,"
     ]
    },
    {
     "name": "stdout",
     "output_type": "stream",
     "text": [
      " 593.02, missing, missing, missing, missing, missing, 615.05, missing, missing, missing, missing, missing, 477.99, missing, missing, missing, missing, missing, 543.98, missing, missing, missing, missing, missing, 568.81, missing, missing, missing, missing, missing, 589.44, missing, missing, missing, missing, missing, 630.68, missing, missing, missing, missing, missing, 597.54, missing, missing, missing, missing, missing, 550.89, missing, missing, missing, missing, missing, 556.8, missing, missing, missing, missing, missing, 564.03, missing, missing, missing, missing, missing, 75.65, missing, missing, missing, missing, missing, 330.73, missing, missing, missing, missing, missing, 314.1, missing, missing, missing, missing, missing, 341.79, missing, missing, missing, missing, missing, 384.51, missing, missing, missing, missing, missing, 357.78, missing, missing, missing, missing, missing, 332.39, missing, missing, missing, missing, missing, 279.83, missing, missing, missing, missing, 261.65, missing, missing, missing, missing, 377.92, missing, missing, missing, missing, 385.79, missing, missing, 379.27, missing, missing, 377.27, missing, missing, missing, 387.45, missing, missing, 390.14, missing, missing, 358.74, missing, missing, 389.32, missing, missing, 390.22, missing, missing, 393.48, missing, missing, missing, 344.14, missing, missing, missing, missing, 391.39, missing, missing, missing, missing, 257.12, missing, missing, missing, missing, 388.2, missing, missing, missing, missing, 409.3, missing, missing, missing, missing, 410.17, missing, missing, missing, missing, 213.17, missing, missing, missing, missing, 351.26, missing, missing, missing, missing, 407.46, missing, missing, missing, missing, 12.39, missing, missing, missing, missing, missing, 373.46, missing, missing, missing, missing, missing, 364.01, missing, missing, missing, missing, missing, 348.18, missing, missing, missing, missing, missing, 374.01, missing, missing, missing, missing, missing, 366.75, missing, missing, missing, missing, missing, 138.84, missing, missing, missing, missing, missing, 247.7, missing, missing, missing, missing, missing, 372.97, missing, missing, missing, missing, missing, 381.58, missing, missing, missing, missing, missing, 373.11, missing, missing, missing, missing, missing, 374.26, missing, missing, missing, missing, missing, 301.86, missing, missing, missing, missing, missing, 302.09, missing, missing, missing, missing, missing, 368.35, missing, missing, missing, missing, missing, 472.43, missing, missing, missing, missing, missing, 419.9, missing, missing, missing, missing, missing, 461.47, missing, missing, missing, missing, missing, 480.41, missing, missing, missing, missing, missing, 452.49, missing, missing, missing, missing, missing, 460.4, missing, missing, missing, missing, missing, 425.94, missing, missing, missing, missing, missing, 470.59, missing, missing, missing, missing, missing, 315.42, missing, missing, missing, missing, missing, 466.66, missing, missing, missing, missing, missing, 403.41, missing, missing, missing, missing, 211.54, missing, missing, missing, 466.52, missing, missing, missing, missing, 426.51, missing, missing, missing, missing, missing, 445.64, missing, missing, missing, missing, missing, 105.68, missing, missing, missing, missing, 379.77, missing, missing, missing, 395.94, missing, missing, missing, 127.49, missing, missing, missing, 82.31, missing, missing, missing, 145.5, missing, missing, missing, 412.71, missing, missing, missing, 88.5, missing, missing, missing, 265.6, missing, missing, missing, 515.12, missing, missing, missing, 484.69, missing, missing, missing, 490.83, missing, missing, missing, 440.19, missing, missing, missing, 37.53, missing, missing, missing, missing, missing, 158.46, missing, missing, missing, missing, 491.3, missing, missing, missing, missing, 475.24, missing, missing, missing, missing, 534.84, missing, missing, missing, missing, 583.56, missing, missing, missing, missing, 492.34, missing, missing, missing, missing, missing, 568.92, missing, missing, missing, missing, missing, 555.77, missing, missing, missing, missing, missing, 533.08, missing, missing, missing, missing, missing, 513.46, missing, missing, missing, missing, missing, 526.16, missing, missing, missing, missing, missing, 567.86, missing, missing, missing, missing, missing, 522.09, missing, missing, missing, missing, missing, 326.24, missing, missing, missing, missing, missing, 404.78, missing, missing, missing, missing, missing, 519.78, missing, missing, missing, missing, missing, 475.37, missing, missing, missing, missing, missing, 554.38, missing, missing, missing, missing, missing, 541.21, missing, missing, missing, missing, missing, 467.88, missing, missing, missing, missing, missing, 522.92, missing, missing, missing, missing, missing, 541.83, missing, missing, missing, missing, missing, 511.95, missing, missing, missing, missing, missing, 522.3, missing, missing, missing, missing, missing, 477.3, missing, missing, missing, missing, missing, 518.06, missing, missing, missing, missing, missing, 482.37, missing, missing, missing, missing, missing, missing, missing, missing, missing, missing, missing, missing, missing, missing, missing, missing, missing, missing, missing, missing, missing, missing, missing, missing, missing, missing, missing, missing, missing, missing, 0.0, missing, missing, missing, missing, 0.0, missing, missing, missing, missing, missing, missing, missing, missing, missing, missing, missing, missing, missing, missing, missing, missing, missing, missing, missing, missing, missing, missing, missing, missing, 0.0, missing, missing, missing, missing, missing, 0.0, missing, missing, missing, missing, 0.0, missing, missing, missing, 0.0, missing, missing, missing, 0.0, missing, missing, missing, missing, missing, 0.0, missing, missing, missing, 0.0, missing, missing, missing, missing, 0.0, missing, missing, missing, missing, 0.0, missing, missing, missing, missing, 0.0, missing, missing, missing, missing, 239.46, missing, missing, 516.55, missing, missing, 387.62, missing, missing, missing, 391.7, missing, missing, missing, missing, 418.37, missing, missing, missing, missing, missing, 0.11, missing, missing, missing, missing, missing, 298.59, missing, missing, missing, missing, missing, 348.55, missing, missing, missing, missing, missing, 391.34, missing, missing, missing, missing, missing, 325.28, missing, missing, missing, missing, 332.02, missing, missing, missing, missing, 384.48, missing, missing, missing, missing, 360.87, missing, missing, missing, missing, 273.57, missing, missing, missing, missing, 425.31, missing, missing, missing, missing, 349.76, missing, missing, missing, missing, missing, 328.28, missing, missing, missing, missing, missing, 276.91, missing, missing, missing, missing, missing, 351.97, missing, missing, missing, missing, 382.27, missing, missing, missing, missing, missing, 344.89, missing, missing, missing, missing, missing, 342.62, missing, missing, missing, missing, missing, missing, missing, missing, missing, missing, missing, missing, missing, missing, missing, 458.88, missing, missing, missing, missing, missing, 325.52, missing, missing, missing, missing, missing, 59.52, missing, missing, missing, missing, missing, 0.0, missing, missing, missing, missing, missing, 0.0, missing, missing, missing, missing, missing, 0.0, missing, missing, missing, missing, missing, 181.11, missing, missing, missing, missing, missing, 273.41, missing, missing, missing, missing, missing, 94.17, missing, missing, missing, missing, missing, 145.2, missing, missing, missing, missing, missing, 276.12, missing, missing, missing, missing, missing, 113.7, missing, missing, missing, missing, missing, 294.06, missing, missing, missing, missing, missing, 289.94, missing, missing, missing, missing, missing, 233.71, missing, missing, missing, missing, missing, 268.9, missing, missing, missing, missing, missing, 225.31, missing, missing, missing, missing, missing, 180.35, missing, missing, missing, missing, 114.23, missing, missing, missing, missing, missing, 285.2, missing, missing, missing, missing, missing, 0.0, missing, missing, missing, missing, missing, 0.0, missing, missing, missing, missing, missing, 277.05, missing, missing, missing, missing, missing, 276.93, missing, missing, missing, missing, 273.85, missing, missing, missing, missing, 317.69, missing, missing, missing, missing, 300.26, missing, missing, missing, missing, 238.23, missing, missing, missing, missing, 102.45, missing, missing, missing, missing, missing, missing, missing, missing, 0.0, missing, missing, missing, missing, 6.84, missing, missing, missing, 122.67, missing, missing, missing, 94.06, missing, missing, missing, 0.0, missing, missing, missing, missing, missing, 0.0, missing, missing, missing, missing, 0.0, missing, missing, missing, missing, missing, 0.0, missing, missing, missing, missing, missing, 0.0, missing, missing, missing, missing, missing, 0.0, missing, missing, missing, missing, missing, 0.0, missing, missing, missing, missing, missing, 0.0, missing, missing, missing, missing, missing, 0.0, missing, missing, missing, missing, missing, 0.0, missing, missing, missing, missing, missing, 0.0, missing, missing, missing, missing, missing, 0.0, missing, missing, missing, missing, missing, 0.0, missing, missing, missing, missing, missing, 0.0, missing, missing, missing, missing, missing, 0.0, missing, missing, missing, missing, missing, 0.0, missing, missing, missing, missing, missing, 0.0, missing, missing, missing, missing, missing, 94.48, missing, missing, missing, missing, missing, 605.11, missing, missing, missing, missing, missing, 914.43, missing, missing, missing, missing, missing, 609.06, missing, missing, missing, missing, missing, 557.1, missing, missing, missing, missing, missing, 599.14, missing, missing, missing, missing, missing, 431.32, missing, missing, missing, missing, missing, 623.04, missing, missing, missing, missing, missing, 612.06, missing, missing, missing, missing, missing, 638.1, missing, missing, missing, missing, missing, 601.32, missing, missing, missing, missing, missing, 505.67, missing,"
     ]
    },
    {
     "name": "stdout",
     "output_type": "stream",
     "text": [
      " missing, missing, missing, missing, 560.07, missing, missing, missing, missing, missing, 592.06, missing, missing, missing, missing, missing, missing, missing, missing, missing, missing, missing, missing, missing, missing, missing, missing, missing, missing, missing, missing, missing, missing, missing, missing, missing, missing, missing, missing, missing, missing, missing, missing, missing, missing, missing, missing, missing, missing, missing, missing, missing, missing, missing, missing, missing, missing, missing, missing, missing, missing, missing, missing, missing, missing, missing, missing, missing, missing, 0.0, missing, missing, missing, missing, missing, 0.0, missing, missing, missing, missing, missing, 0.0, missing, missing, missing, missing, missing, 0.0, missing, missing, missing, missing, missing, 0.0, missing, missing, missing, missing, missing, 0.0, missing, missing, missing, missing, missing, 0.0, missing, missing, missing, missing, missing, 0.0, missing, missing, missing, missing, missing, 0.0, missing, missing, missing, missing, missing, 0.0, missing, missing, missing, missing, missing, 0.0, missing, missing, missing, missing, missing, missing, missing, missing, missing, missing, missing, missing, missing, missing, 0.0, missing, missing, missing, missing, missing, 393.25, missing, missing, missing, missing, missing, 257.31, missing, missing, missing, missing, missing, 348.7, missing, missing, missing, missing, missing, 554.79, missing, missing, missing, missing, missing, 592.17, missing, missing, missing, missing, missing, 536.8, missing, missing, missing, missing, missing, 584.77, missing, missing, missing, missing, missing, 545.77, missing, missing, missing, missing, missing, 444.08, missing, missing, missing, missing, missing, 556.94, missing, missing, missing, missing, missing, 264.86, missing, missing, missing, missing, missing, 422.33, missing, missing, missing, missing, missing, 577.0, missing, missing, missing, missing, missing, 575.39, missing, missing, missing, missing, missing, 450.59, missing, missing, missing, missing, missing, 289.04, missing, missing, missing, missing, missing, 602.56, missing, missing, missing, missing, missing, 454.32, missing, missing, missing, missing, missing, 590.07, missing, missing, missing, missing, missing, 442.44, missing, missing, missing, missing, missing, 447.65, missing, missing, missing, missing, missing, 565.69, missing, missing, missing, missing, missing, 577.19, missing, missing, missing, missing, missing, 556.04, missing, missing, missing, missing, missing, 480.15, missing, missing, missing, missing, missing, 516.75, missing, missing, missing, missing, missing, 627.35, missing, missing, missing, missing, missing, 617.83, missing, missing, missing, missing, missing, 572.26, missing, missing, missing, missing, missing, 273.82, missing, missing, missing, missing, missing, 571.55, missing, missing, missing, missing, missing, 515.44, missing, missing, missing, missing, missing, 599.83, missing, missing, missing, missing, missing, 610.66, missing, missing, missing, missing, missing, 155.19, missing, missing, missing, missing, missing, 601.66, missing, missing, missing, missing, missing, 596.46, missing, missing, missing, missing, missing, 608.74, missing, missing, missing, missing, missing, 557.84, missing, missing, missing, missing, 537.53, missing, missing, missing, missing, 590.12, missing, missing, missing, missing, missing, missing, missing, missing, missing, 437.32, missing, missing, missing, missing, missing, 78.01, missing, missing, missing, missing, missing, 0.0, missing, missing, missing, missing, missing, 0.0, missing, missing, missing, missing, missing, 0.0, missing, missing, missing, missing, missing, 0.0, missing, missing, missing, missing, missing, 0.0, missing, missing, missing, missing, missing, 0.0, missing, missing, missing, missing, missing, 0.0, missing, missing, missing, missing, missing, 0.0, missing, missing, missing, missing, 0.0, missing, missing, missing, missing, missing, 0.0, missing, missing, missing, missing, missing, 0.0, missing, missing, missing, missing, missing, 0.0, missing, missing, missing, missing, missing, 0.0, missing, missing, missing, missing, missing, 0.0, missing, missing, missing, missing, 0.0, missing, missing, missing, missing, missing, 0.0, missing, missing, missing, missing, missing, 0.0, missing, missing, missing, missing, missing, 0.0, missing, missing, missing, missing, missing, 0.0, missing, missing, missing, missing, missing, 0.0, missing, missing, missing, missing, missing, 0.0, missing, missing, missing, missing, missing, 0.0, missing, missing, missing, missing, missing, 0.0, missing, missing, missing, missing, missing, 0.0, missing, missing, missing, missing, missing, 0.0, missing, missing, missing, missing, missing, 0.0, missing, missing, missing, missing, missing, 0.0, missing, missing, missing, missing, missing, 0.0, missing, missing, missing, missing, missing, 0.0, missing, missing, missing, missing, missing, 0.0, missing, missing, missing, missing, missing, 0.0, missing, missing, missing, missing, missing, 0.0, missing, missing, missing, missing, missing, 0.0, missing, missing, missing, missing, missing, 0.0, missing, missing, missing, missing, missing, 0.0, missing, missing, missing, missing, missing, 0.0, missing, missing, missing, missing, 0.0, missing, missing, missing, missing, 0.0, missing, missing, missing, missing, missing, 0.0, missing, missing, missing, missing, missing, 0.0, missing, missing, missing, missing, missing, 0.0, missing, missing, missing, missing, missing, 533.72, missing, missing, missing, missing, missing, 519.56, missing, missing, missing, missing, missing, 489.89, missing, missing, missing, missing, missing, 483.74, missing, missing, missing, missing, missing, 150.84, missing, missing, missing, missing, missing, 414.59, missing, missing, missing, missing, missing, 381.08, missing, missing, missing, missing, missing, 529.16, missing, missing, missing, missing, missing, 380.08, missing, missing, missing, missing, 576.98, missing, missing, missing, missing, missing, 577.81, missing, missing, missing, missing, missing, 553.8, missing, missing, missing, missing, missing, 539.5, missing, missing, missing, missing, missing, 518.42, missing, missing, missing, missing, missing, 704.67, missing, missing, missing, missing, 519.7, missing, missing, missing, missing, 597.63, missing, missing, 681.53, missing, missing, missing, 699.83, missing, missing, missing, missing, missing, 680.9, missing, missing, missing, missing, 676.85, missing, missing, 646.72, missing, missing, missing, 645.21, missing, missing, missing, 651.83, missing, missing, missing, missing, 695.04, missing, missing, missing, missing, missing, 681.97, missing, missing, missing, missing, missing, 652.31, missing, missing, missing, missing, 686.68, missing, missing, missing, missing, 696.41, missing, missing, missing, 693.77, missing, missing, missing, missing, 649.3, missing, missing, missing, missing, missing, 562.45, missing, missing, missing, missing, 791.92, missing, missing, missing, 833.74, missing, missing, missing, missing, 648.07, missing, missing, missing, 806.82, missing, missing, missing, missing, missing, missing, missing, missing, missing, missing, missing, 849.74, missing, missing, missing, missing, 647.33, missing, missing, missing, missing, 531.87, missing, missing, missing, 601.84, missing, missing, missing, 673.62, missing, missing, missing, 665.42, missing, missing, missing, missing, missing, 329.61, missing, missing, missing, missing, missing, 616.48, missing, missing, missing, missing, missing, 263.4, missing, missing, missing, missing, missing, 655.01, missing, missing, missing, missing, missing, 597.11, missing, missing, missing, missing, missing, 511.86, missing, missing, missing, missing, missing, 607.44, missing, missing, missing, missing, 682.57, missing, missing, missing, missing, missing, 654.23, missing, missing, missing, missing, missing, 258.22, missing, missing, missing, missing, missing, 608.76, missing, missing, missing, missing, missing, 607.74, missing, missing, missing, missing, missing, 616.26, missing, missing, missing, missing, 481.81, missing, missing, missing, missing, missing, 597.17, missing, missing, missing, missing, missing, 439.05, missing, missing, missing, missing, missing, 590.43, missing, missing, missing, missing, missing, 564.03, missing, missing, missing, missing, missing, 570.59, missing, missing, missing, missing, missing, 454.32, missing, missing, missing, missing, missing, 562.06, missing, missing, missing, missing, missing, 607.98, missing, missing, missing, missing, missing, 457.55, missing, missing, missing, missing, missing, 486.85, missing, missing, missing, missing, missing, 514.11, missing, missing, missing, missing, missing, 535.08, missing, missing, missing, missing, missing, 554.76, missing, missing, missing, missing, missing, 567.18, missing, missing, missing, missing, missing, 587.6, missing, missing, missing, missing, missing, 575.98, missing, missing, missing, missing, missing, 536.84, missing, missing, missing, missing, missing, 586.81, missing, missing, missing, missing, missing, 586.55, missing, missing, missing, missing, missing, 569.97, missing, missing, missing, missing, missing, 552.98, missing, missing, missing, missing, missing, 390.47, missing, missing, missing, missing, missing, missing, missing, missing, missing, missing, missing, missing, missing, missing, missing, missing, missing, missing, missing, missing, missing, missing, missing, missing, missing, missing, missing, missing, 339.43, missing, missing, missing, missing, missing, 563.93, missing, missing, missing, missing, missing, 550.21, missing, missing, missing, 77.01, missing, missing, missing, missing, missing, 241.12, missing, missing, missing, missing, missing, 232.61, missing, missing, missing, missing, missing, 242.82, missing, missing, missing, missing, missing, 222.06, missing, missing, missing, missing, 241.63, missing, missing, missing, missing, missing, 245.31, missing, missing, missing, missing, missing, 239.06, missing, missing, missing, missing, missing, 210.33, missing, missing, missing,"
     ]
    },
    {
     "name": "stdout",
     "output_type": "stream",
     "text": [
      " missing, missing, 184.52, missing, missing, missing, missing, missing, 192.2, missing, missing, missing, missing, missing, 206.81, missing, missing, missing, missing, missing, 235.54, missing, missing, missing, missing, missing, 247.38, missing, missing, missing, missing, missing, 260.9, missing, missing, missing, missing, missing, 259.73, missing, missing, missing, missing, missing, 268.32, missing, missing, missing, missing, missing, 268.64, missing, missing, missing, missing, missing, 235.28, missing, missing, missing, missing, missing, 275.11, missing, missing, missing, missing, missing, 218.36, missing, missing, missing, missing, missing, 276.11, missing, missing, missing, missing, missing, 235.12, missing, missing, missing, missing, missing, 0.0, missing, missing, missing, missing, missing, 282.9, missing, missing, missing, missing, missing, 285.83, missing, missing, missing, missing, missing, 205.31, missing, missing, missing, missing, missing, 26.89, missing, missing, missing, missing, missing, 116.95, missing, missing, missing, missing, missing, 198.68, missing, missing, missing, missing, missing, 128.86, missing, missing, missing, missing, missing, 2.9, missing, missing, missing, missing, missing, 157.21, missing, missing, missing, missing, missing, 237.33, missing, missing, missing, missing, 236.58, missing, missing, missing, missing, missing, 239.52, missing, missing, missing, missing, 288.34, missing, missing, missing, missing, missing, missing, missing, missing, 267.37, missing, missing, missing, missing, 238.19, missing, missing, missing, missing, missing, 149.22, missing, missing, missing, missing, missing, 276.46, missing, missing, missing, missing, missing, 291.02, missing, missing, missing, missing, missing, 286.03, missing, missing, missing, missing, missing, 290.59, missing, missing, missing, missing, missing, 289.44, missing, missing, missing, missing, missing, 188.41, missing, missing, missing, missing, missing, 273.81, missing, missing, missing, missing, missing, 217.36, missing, missing, missing, missing, missing, 211.01, missing, missing, missing, missing, missing, 55.82, missing, missing, missing, missing, missing, 69.7, missing, missing, missing, missing, missing, 308.02, missing, missing, missing, missing, missing, 331.76, missing, missing, missing, missing, missing, 335.17, missing, missing, missing, missing, missing, 339.96, missing, missing, missing, missing, missing, 343.49, missing, missing, missing, missing, missing, 325.75, missing, missing, missing, missing, missing, 349.45, missing, missing, missing, missing, missing, 230.54, missing, missing, missing, missing, missing, 78.89, missing, missing, missing, missing, missing, 327.52, missing, missing, missing, missing, missing, 254.15, missing, missing, missing, missing, missing, 293.67, missing, missing, missing, missing, missing, 147.52, missing, missing, missing, missing, missing, 254.49, missing, missing, missing, missing, missing, 284.47, missing, missing, missing, missing, missing, 373.78, missing, missing, missing, missing, missing, 374.62, missing, missing, missing, missing, missing, 364.0, missing, missing, missing, missing, missing, 378.69, missing, missing, missing, missing, missing, 591.72, missing, missing, missing, missing, missing, 611.23, missing, missing, missing, missing, 637.69, missing, missing, missing, missing, 602.25, missing, missing, missing, missing, missing, 625.26, missing, missing, missing, missing, missing, 632.71, missing, missing, missing, missing, missing, 628.0, missing, missing, missing, missing, missing, 612.94, missing, missing, missing, missing, missing, 593.82, missing, missing, missing, missing, missing, 389.35, missing, missing, missing, missing, missing, 570.88, missing, missing, missing, missing, missing, 618.45, missing, missing, missing, missing, missing, 554.3, missing, missing, missing, missing, missing, 329.07, missing, missing, missing, missing, missing, 575.78, missing, missing, missing, missing, missing, 595.56, missing, missing, missing, missing, missing, 750.86, missing, missing, missing, missing, missing, 561.76, missing, missing, missing, missing, missing, 592.62, missing, missing, missing, missing, missing, 529.03, missing, missing, missing, missing, missing, 569.17, missing, missing, missing, missing, missing, 568.95, missing, missing, missing, missing, missing, 577.48, missing, missing, missing, missing, missing, 597.69, missing, missing, missing, missing, missing, 591.97, missing, missing, missing, missing, missing, 593.8, missing, missing, missing, missing, missing, 587.0, missing, missing, missing, missing, missing, 522.85, missing, missing, missing, missing, missing, 587.4, missing, missing, missing, missing, missing, 550.53, missing, missing, missing, missing, missing, 546.31, missing, missing, missing, missing, missing, 196.55, missing, missing, missing, missing, missing, 496.45, missing, missing, missing, missing, missing, 600.05, missing, missing, missing, missing, missing, 507.5, missing, missing, missing, missing, missing, 568.19, missing, missing, missing, missing, missing, 612.52, missing, missing, missing, missing, missing, 614.33, missing, missing, missing, missing, missing, 546.74, missing, missing, missing, missing, missing, 575.14, missing, missing, missing, missing, 295.49, missing, missing, missing, missing, missing, 317.14, missing, missing, missing, missing, missing, 444.65, missing, missing, missing, missing, missing, 391.99, missing, missing, missing, missing, missing, 379.21, missing, missing, missing, missing, missing, 338.2, missing, missing, missing, missing, missing, 465.07, missing, missing, missing, missing, missing, 410.43, missing, missing, missing, missing, missing, 382.66, missing, missing, missing, missing, missing, 449.35, missing, missing, missing, missing, missing, 242.12, missing, missing, missing, missing, missing, 165.18, missing, missing, missing, missing, missing, 203.61, missing, missing, missing, missing, missing, 131.22, missing, missing, missing, missing, missing, 96.47, missing, missing, missing, missing, missing, 6.26, missing, missing, missing, missing, missing, 242.67, missing, missing, missing, missing, missing, 185.02, missing, missing, missing, missing, missing, 341.0, missing, missing, missing, missing, missing, 52.68, 400.48, 387.37, 256.73, 720.39, 256.08, 299.49, 346.9, 250.72, 246.99, missing, missing, missing, missing, missing, 200.51, missing, missing, missing, missing, missing, 135.0, missing, missing, missing, missing, missing, 196.42, missing, missing, missing, missing, missing, 4.0, missing, missing, missing, missing, missing, missing, missing, missing, missing, missing, missing, missing, missing, missing, missing, missing, missing, missing, missing, missing, missing, missing, missing, missing, missing, missing, missing, missing, missing, missing, missing, missing, missing, missing, missing, 700.0, missing, missing, missing, missing, missing, missing, missing, missing, missing, missing, 247.61, missing, missing, missing, missing, missing, 274.59, missing, missing, missing, missing, missing, 98.27, missing, missing, missing, missing, missing, 161.18, missing, missing, missing, missing, missing, 172.2, missing, missing, missing, missing, missing, 188.86, missing, missing, missing, missing, missing, 146.61, missing, missing, missing, missing, missing, 210.41, missing, missing, missing, missing, missing, 238.28, missing, missing, missing, missing, missing, 243.02, missing, missing, missing, missing, missing, 147.38, missing, missing, missing, missing, missing, 128.32, missing, missing, missing, missing, missing, 234.3, missing, missing, missing, missing, missing, 227.54, missing, missing, missing, missing, missing, 224.32, missing, missing, missing, missing, missing, 225.06, missing, missing, missing, missing, missing, 220.49, missing, missing, missing, missing, missing, 169.09, missing, missing, missing, missing, missing, 136.15, missing, missing, missing, missing, missing, 28.1, missing, missing, missing, missing, missing, 584.85, missing, missing, missing, missing, missing, 688.69, missing, missing, missing, missing, missing, 703.35, missing, missing, missing, missing, missing, 7.35, missing, missing, missing, missing, missing, missing, missing, missing, missing, missing, 0.0, missing, missing, missing, missing, missing, 0.0, missing, missing, missing, missing, missing, 0.0, missing, missing, missing, missing, missing, 271.54, missing, missing, missing, missing, missing, 539.64, missing, missing, missing, missing, missing, 102.86, missing, missing, missing, missing, missing, 204.89, missing, missing, missing, missing, missing, 603.55, missing, missing, missing, missing, missing, 589.69, missing, missing, missing, missing, missing, 248.73, missing, missing, missing, missing, missing, 612.59, missing, missing, missing, missing, missing, 575.33, missing, missing, missing, missing, missing, 444.79, missing, missing, missing, missing, missing, 639.92, missing, missing, missing, missing, missing, 415.22, missing, missing, missing, missing, missing, 341.76, missing, missing, missing, missing, missing, 318.81, missing, missing, missing, missing, missing, 172.72, missing, missing, missing, missing, missing, 543.59, missing, missing, missing, missing, missing, 554.23, missing, missing, missing, missing, missing, 619.78, missing, missing, missing, missing, missing, 601.79, missing, missing, missing, missing, missing, 608.59, missing, missing, missing, missing, missing, 583.77, missing, missing, missing, missing, missing, 576.28, missing, missing, missing, missing, missing, 533.76, missing, missing, missing, missing, missing, 198.01, missing, missing, missing, missing, missing, 230.64, missing, missing, missing, missing, missing, 381.5, missing, missing, missing, missing, missing, 409.93, missing, missing, missing, missing, missing, 495.89, missing, missing, missing, missing, missing, 362.06, missing, missing, missing, missing, 244.64, missing, missing, missing, missing, 563.86, missing, missing, missing, missing, 346.94, missing, missing, missing, missing, 117.81, missing, missing, missing, missing, 296.87, missing, missing, missing, missing, 311.62, missing,"
     ]
    },
    {
     "name": "stdout",
     "output_type": "stream",
     "text": [
      " missing, missing, missing, 578.7, missing, missing, missing, missing, 562.96, missing, missing, missing, missing, 542.47, missing, missing, missing, missing, 513.06, missing, missing, missing, missing, 504.9, missing, missing, missing, missing, 388.26, missing, missing, missing, missing, 444.04, missing, missing, missing, missing, 474.25, missing, missing, missing, missing, 478.32, missing, missing, missing, missing, 490.84, missing, missing, missing, missing, 314.12, missing, missing, missing, missing, missing, 357.3, missing, missing, missing, missing, missing, 554.74, missing, missing, missing, missing, missing, 493.46, missing, missing, missing, missing, missing, 364.49, missing, missing, missing, missing, missing, 505.77, missing, missing, missing, missing, missing, 292.1, missing, missing, missing, missing, missing, 290.35, missing, missing, missing, missing, missing, 464.44, missing, missing, missing, missing, missing, 512.74, missing, missing, missing, missing, missing, 540.88, missing, missing, missing, missing, missing, 594.04, missing, missing, missing, missing, missing, 581.41, missing, missing, missing, missing, missing, 459.81, missing, missing, missing, missing, missing, 310.42, missing, missing, missing, missing, missing, 231.89, missing, missing, missing, missing, missing, 313.4, missing, missing, missing, missing, missing, 268.31, missing, missing, missing, missing, missing, 559.15, missing, missing, missing, missing, missing, 511.55, missing, missing, missing, missing, missing, 354.97, missing, missing, missing, missing, missing, 419.53, missing, missing, missing, missing, missing, 589.29, missing, missing, missing, missing, missing, 347.97, missing, missing, missing, missing, missing, 283.89, missing, missing, missing, missing, missing, 531.24, missing, missing, missing, missing, missing, 549.82, missing, missing, missing, missing, missing, 508.81, missing, missing, missing, missing, missing, 533.47, missing, missing, missing, missing, missing, 353.94, missing, missing, missing, missing, missing, 424.67, missing, missing, missing, missing, missing, 375.33, missing, missing, missing, missing, missing, 422.27, missing, missing, missing, missing, missing, 548.94, missing, missing, missing, missing, missing, 596.53, missing, missing, missing, missing, missing, 101.03, missing, missing, missing, missing, 109.73, missing, missing, missing, missing, missing, 78.67, missing, missing, missing, missing, missing, 408.66, missing, missing, missing, missing, missing, 435.75, missing, missing, missing, missing, missing, 393.67, missing, missing, missing, missing, missing, 413.29, missing, missing, missing, missing, missing, 59.45, missing, missing, missing, missing, missing, 255.8, missing, missing, missing, missing, missing, 348.76, missing, missing, missing, missing, missing, 78.14, missing, missing, missing, missing, missing, 281.64, missing, missing, missing, missing, missing, 436.67, missing, missing, missing, missing, missing, 188.87, missing, missing, missing, missing, missing, 251.83, missing, missing, missing, missing, missing, 322.79, missing, missing, missing, missing, missing, 480.62, missing, missing, missing, missing, missing, 482.02, missing, missing, missing, missing, missing, 318.98, missing, missing, missing, missing, missing, 352.28, missing, missing, missing, missing, missing, 463.42, missing, missing, missing, missing, missing, 170.59, missing, missing, missing, missing, missing, 457.62, missing, missing, missing, missing, missing, 489.48, missing, missing, missing, missing, missing, 444.84, missing, missing, missing, missing, missing, 254.74, missing, missing, missing, missing, missing, 306.64, missing, missing, missing, missing, missing, 486.1, missing, missing, missing, missing, missing, 372.88, missing, missing, missing, missing, missing, 191.71, missing, missing, missing, missing, missing, 499.76, missing, missing, missing, missing, missing, 138.96, missing, missing, missing, missing, missing, 210.0, missing, missing, missing, missing, missing, 322.55, missing, missing, missing, missing, missing, 235.0, missing, missing, missing, missing, missing, 137.8, missing, missing, missing, missing, missing, 113.3, missing, missing, missing, missing, missing, 228.14, missing, missing, missing, missing, missing, 123.56, missing, missing, missing, missing, missing, 362.73, missing, missing, missing, missing, missing, 531.29, missing, missing, missing, missing, missing, 527.92, missing, missing, missing, missing, missing, 362.33, missing, missing, missing, missing, missing, 502.71, missing, missing, missing, missing, missing, 266.98, missing, missing, missing, missing, missing, 525.72, missing, missing, missing, missing, missing, 378.17, missing, missing, missing, missing, missing, 491.26, missing, missing, missing, missing, missing, 188.5, missing, missing, missing, missing, missing, 521.81, missing, missing, missing, missing, missing, 556.44, missing, missing, missing, missing, missing, 533.41, missing, missing, missing, missing, missing, 454.53, missing, missing, missing, missing, missing, 436.94, missing, missing, missing, missing, missing, 316.29, missing, missing, missing, missing, missing, 5.0, missing, 458.75, missing, missing, missing, missing, missing, 471.69, missing, missing, missing, missing, missing, 314.79, missing, missing, missing, missing, missing, 525.06, missing, missing, missing, missing, missing, 546.33, missing, missing, missing, missing, missing, 553.33, missing, missing, missing, missing, missing, 509.85, missing, missing, missing, missing, missing, 564.15, missing, missing, missing, missing, missing, 392.58, missing, missing, missing, missing, missing, 549.8, missing, missing, missing, missing, missing, 466.79, missing, missing, missing, missing, missing, 523.53, missing, missing, missing, missing, missing, 475.29, missing, missing, missing, missing, missing, 372.15, missing, missing, missing, missing, missing, 360.61, missing, missing, missing, missing, missing, 479.19, missing, missing, missing, missing, missing, 400.15, missing, missing, missing, missing, missing, 497.35, missing, missing, missing, missing, missing, 590.7, missing, missing, missing, missing, missing, 458.36, missing, missing, missing, missing, missing, 200.58, missing, missing, missing, missing, missing, 254.22, missing, missing, missing, missing, missing, 183.15, missing, missing, missing, missing, missing, 275.84, missing, missing, missing, missing, missing, 317.16, missing, missing, missing, missing, missing, 383.65, missing, missing, missing, missing, missing, 340.08, missing, missing, missing, missing, missing, 581.27, missing, missing, missing, missing, missing, 594.44, missing, missing, missing, missing, missing, 525.64, missing, missing, missing, missing, missing, 526.65, missing, missing, missing, missing, missing, 530.97, missing, missing, missing, missing, missing, 318.75, missing, missing, missing, missing, missing, 180.2, missing, missing, missing, missing, missing, missing, missing, missing, missing, missing, missing, missing, missing, missing, missing, missing, missing, missing, missing, missing, missing, missing, missing, missing, missing, missing, missing, missing, missing, missing, 189.57, missing, missing, missing, missing, missing, 34.69, missing, missing, missing, missing, missing, 47.62, missing, missing, missing, missing, missing, 89.18, missing, missing, missing, missing, missing, 203.82, missing, missing, missing, missing, missing, 209.19, missing, missing, missing, missing, missing, 229.16, missing, missing, missing, missing, missing, missing, missing, missing, 102.03, missing, missing, missing, 80.43, missing, missing, missing, missing, missing, 65.59, missing, missing, missing, missing, missing, 31.86, missing, missing, missing, missing, missing, 32.8, missing, missing, missing, missing, missing, 67.62, missing, missing, missing, missing, missing, 241.6, missing, missing, missing, missing, missing, 203.15, missing, missing, missing, missing, missing, 131.07, missing, missing, missing, missing, missing, 65.26, missing, missing, missing, missing, missing, 199.89, missing, missing, missing, missing, missing, 155.9, missing, missing, missing, missing, missing, 151.49, missing, missing, missing, missing, missing, 830.72, missing, missing, missing, missing, missing, 454.09, missing, missing, missing, missing, missing, 548.57, missing, missing, missing, missing, missing, 509.05, missing, missing, missing, missing, missing, 542.65, missing, missing, missing, missing, missing, 323.25, missing, missing, missing, missing, missing, 564.49, missing, missing, missing, missing, missing, 422.36, missing, missing, missing, missing, missing, 340.31, missing, missing, missing, missing, missing, 540.92, missing, missing, missing, missing, missing, 511.19, missing, missing, missing, missing, missing, 436.54, missing, missing, missing, missing, missing, 304.57, missing, missing, missing, missing, missing, 447.35, missing, missing, missing, missing, missing, 244.08, missing, missing, missing, missing, missing, 408.11, missing, missing, missing, missing, missing, 416.49, missing, missing, missing, missing, missing, 387.77, missing, missing, missing, missing, missing, 504.43, missing, missing, missing, missing, missing, 466.86, missing, missing, missing, missing, missing, 536.09, missing, missing, missing, missing, missing, 519.54, missing, missing, missing, missing, missing, 521.06, missing, missing, missing, missing, missing, 463.97, missing, missing, missing, missing, missing, 530.62, missing, missing, missing, missing, missing, 456.2, missing, missing, missing, missing, missing, 547.69, missing, missing, missing, missing, missing, 479.68, missing, missing, missing, missing, missing, 515.54, missing, missing, missing, missing, missing, 439.32, missing, missing, missing, missing, missing, 459.53, missing, missing, missing, missing, missing, 445.02, missing, missing, missing, missing, missing, 446.48, missing, missing, missing, missing, missing, 500.06, missing, missing, missing, missing, missing, 273.22, missing, missing, missing, missing, missing, 468.1, missing, missing, missing, missing, missing, 377.49, missing, missing, "
     ]
    },
    {
     "name": "stdout",
     "output_type": "stream",
     "text": [
      "missing, missing, missing, 383.46, missing, missing, missing, missing, missing, 74.84, missing, missing, missing, missing, missing, 543.78, missing, missing, missing, missing, missing, 513.67, missing, missing, missing, missing, missing, 174.14, missing, missing, missing, missing, missing, 509.51, missing, missing, missing, missing, missing, 463.92, missing, missing, missing, missing, missing, 499.48, missing, missing, missing, missing, missing, 523.32, missing, missing, missing, missing, missing, 478.16, missing, missing, missing, missing, missing, 299.59, missing, missing, missing, missing, missing, 465.39, missing, missing, missing, missing, missing, 290.41, missing, missing, missing, missing, missing, 233.55, missing, missing, missing, missing, missing, 346.86, missing, missing, missing, missing, missing, 262.95, missing, missing, missing, missing, missing, 284.95, missing, missing, missing, missing, missing, 185.61, missing, missing, missing, missing, missing, 341.08, missing, missing, missing, missing, missing, 233.17, missing, missing, missing, missing, missing, 411.93, missing, missing, missing, missing, missing, 460.35, missing, missing, missing, missing, missing, 384.58, missing, missing, missing, missing, missing, 331.33, missing, missing, missing, missing, missing, 401.34, missing, missing, missing, missing, missing, 456.67, missing, missing, missing, missing, missing, 451.33, missing, missing, missing, missing, missing, 237.47, missing, missing, missing, missing, missing, 454.19, missing, missing, missing, missing, missing, 398.73, missing, missing, missing, missing, missing, 259.57, missing, missing, missing, missing, missing, 304.51, missing, missing, missing, missing, missing, 471.8, missing, missing, missing, missing, missing, 434.51, missing, missing, missing, missing, missing, 444.02, missing, missing, missing, missing, missing, 448.96, missing, missing, missing, missing, missing, 469.79, missing, missing, missing, missing, missing, 394.46, missing, missing, missing, missing, missing, 303.42, missing, missing, missing, missing, missing, 435.22, missing, missing, missing, missing, missing, 435.24, missing, missing, missing, missing, missing, 434.24, missing, missing, missing, missing, missing, 431.28, missing, missing, missing, missing, missing, 427.05, missing, missing, missing, missing, missing, 115.0, missing, missing, missing, missing, missing, 389.14, missing, missing, missing, missing, 388.67, missing, missing, missing, missing, 392.46, missing, missing, missing, missing, 423.24, missing, missing, missing, missing, 417.61, missing, missing, missing, missing, 54.25, missing, missing, missing, missing, 394.6, missing, missing, missing, missing, missing, 398.2, missing, missing, missing, missing, missing, 119.41, missing, missing, missing, missing, missing, 0.0, missing, missing, missing, missing, missing, 324.65, missing, missing, missing, missing, missing, 389.52, missing, missing, missing, missing, missing, 352.97, missing, missing, missing, missing, missing, 295.56, missing, missing, missing, missing, missing, 328.23, missing, missing, missing, missing, missing, 343.18, missing, missing, missing, missing, missing, 357.42, missing, missing, missing, missing, missing, 309.95, missing, missing, missing, missing, missing, 61.91, missing, missing, missing, missing, missing, 246.91, missing, missing, missing, missing, missing, 319.49, missing, missing, missing, missing, missing, 320.57, missing, missing, missing, missing, missing, missing, missing, 4.65, missing, missing, missing, missing, 331.78, missing, missing, missing, missing, missing, 346.0, missing, missing, missing, missing, missing, 299.34, missing, missing, missing, missing, missing, 49.42, missing, missing, missing, missing, missing, 164.18, missing, missing, missing, missing, missing, 297.83, missing, missing, missing, missing, missing, 182.22, missing, missing, missing, missing, missing, 63.46, missing, missing, missing, missing, missing, 304.53, missing, missing, missing, missing, missing, 256.38, missing, missing, missing, missing, missing, 211.97, missing, missing, missing, missing, missing, 85.95, missing, missing, missing, missing, missing, 317.89, missing, missing, missing, missing, missing, 316.23, missing, missing, missing, missing, missing, 282.34, missing, missing, missing, missing, missing, 255.98, missing, missing, missing, missing, missing, 259.76, missing, missing, missing, missing, missing, 201.3, missing, missing, missing, missing, missing, 314.39, missing, missing, missing, missing, missing, 286.34, missing, missing, missing, missing, missing, 253.82, missing, missing, missing, missing, missing, 308.7, missing, missing, missing, missing, missing, 127.19, missing, missing, missing, missing, missing, 91.88, missing, missing, missing, missing, missing, 346.66, missing, missing, missing, missing, missing, 294.19, missing, missing, missing, missing, missing, 288.75, missing, missing, missing, missing, missing, 126.38, missing, missing, missing, missing, missing, 296.98, missing, missing, missing, missing, missing, 299.11, missing, missing, missing, missing, missing, 293.64, missing, missing, missing, missing, missing, 670.96, missing, missing, missing, missing, missing, 238.89, missing, missing, missing, missing, missing, 640.62, missing, missing, missing, missing, missing, 710.41, missing, missing, missing, missing, missing, 431.42, missing, missing, missing, missing, missing, 786.46, missing, missing, missing, missing, missing, 731.34, missing, missing, missing, missing, missing, 772.05, missing, missing, missing, missing, missing, 616.52, missing, missing, missing, missing, missing, 279.96, missing, missing, missing, missing, missing, 367.41, missing, missing, missing, missing, missing, 518.83, missing, missing, missing, missing, missing, 594.55, missing, missing, missing, missing, missing, 487.43, missing, missing, missing, missing, missing, 792.49, missing, missing, missing, missing, missing, 743.18, missing, missing, missing, missing, missing, 803.67, missing, missing, missing, missing, missing, 810.63, missing, missing, missing, missing, missing, 828.56, missing, missing, missing, missing, missing, 835.74, missing, missing, missing, missing, 826.61, missing, missing, missing, missing, 727.11, missing, missing, missing, missing, missing, 652.27, missing, missing, missing, missing, missing, 720.18, missing, missing, missing, missing, missing, 671.85, missing, missing, missing, missing, missing, 544.01, missing, missing, missing, missing, missing, 197.19, missing, missing, missing, missing, missing, 864.22, missing, missing, missing, missing, missing, 857.45, missing, missing, missing, missing, missing, 665.1, missing, missing, missing, missing, missing, 659.83, missing, missing, missing, missing, missing, 669.24, missing, missing, missing, missing, 663.86, missing, missing, missing, missing, 602.73, missing, missing, missing, missing, 552.64, missing, missing, missing, missing, 641.05, missing, missing, missing, missing, 639.19, missing, missing, missing, missing, 672.49, missing, missing, missing, missing, 384.1, missing, missing, missing, missing, 303.76, missing, missing, missing, missing, missing, 598.29, missing, missing, missing, missing, missing, 583.38, missing, missing, missing, missing, missing, 556.76, missing, missing, missing, missing, missing, 594.98, missing, missing, missing, missing, missing, 613.03, missing, missing, missing, missing, missing, 561.15, missing, missing, missing, missing, missing, 559.24, missing, missing, missing, missing, missing, 566.07, missing, missing, missing, missing, missing, 586.35, missing, missing, missing, missing, missing, 540.76, missing, missing, missing, missing, missing, 593.32, missing, missing, missing, missing, missing, 628.0, missing, missing, missing, missing, missing, 583.23, missing, missing, missing, missing, missing, 599.55, missing, missing, missing, missing, missing, 593.84, missing, missing, missing, missing, missing, 606.35, missing, missing, missing, missing, missing, 601.14, missing, missing, missing, missing, missing, 587.78, missing, missing, missing, missing, missing, 625.89, missing, missing, missing, missing, missing, 600.26, missing, missing, missing, missing, missing, 585.24, missing, missing, missing, missing, missing, 526.23, missing, missing, missing, missing, missing, 497.11, missing, missing, missing, missing, missing, 589.66, missing, missing, missing, missing, missing, 522.24, missing, missing, missing, missing, missing, 299.84, missing, missing, missing, missing, missing, 430.07, missing, missing, missing, missing, missing, 599.49, missing, missing, missing, missing, missing, 501.62, missing, missing, missing, missing, missing, 475.4, missing, missing, missing, missing, missing, 639.38, missing, missing, missing, missing, missing, 624.7, missing, missing, missing, missing, missing, 461.91, missing, missing, missing, missing, missing, 271.52, missing, missing, missing, missing, missing, 556.36, missing, missing, missing, missing, missing, 451.67, missing, missing, missing, missing, missing, 562.38, missing, missing, missing, missing, missing, 595.75, missing, missing, missing, missing, missing, 530.19, missing, missing, missing, missing, missing, 129.93, missing, missing, missing, missing, missing, 479.8, missing, missing, missing, missing, missing, 451.75, missing, missing, missing, missing, missing, 78.49, missing, missing, missing, missing, missing, 375.73, missing, missing, missing, missing, missing, 457.34, missing, missing, missing, missing, missing, 419.46, missing, missing, missing, missing, missing, 367.95, missing, missing, missing, missing, missing, 454.25, missing, missing, missing, missing, missing, 394.85, missing, missing, missing, missing, missing, 153.62, missing, missing, missing, missing, missing, 418.57, missing, missing, missing, missing, missing, 295.39, missing, missing, missing, missing, missing, 349.99, missing, missing, missing, missing, missing, 191.97, missing, missing, missing, missing, missing, 430.12, missing, missing, missing, missing, missing, 521.18, missing, missing, missing, missing, missing, 538.49, missing, missing, missing, missing,"
     ]
    },
    {
     "name": "stdout",
     "output_type": "stream",
     "text": [
      " missing, 517.02, missing, missing, missing, missing, missing, 467.32, missing, missing, missing, missing, missing, 459.34, missing, missing, missing, missing, missing, 541.46, missing, missing, missing, missing, missing, 545.71, missing, missing, missing, missing, missing, 551.03, missing, missing, missing, missing, missing, 412.46, missing, missing, missing, missing, missing, 530.86, missing, missing, missing, missing, missing, 564.84, missing, missing, missing, missing, missing, 563.77, missing, missing, missing, missing, missing, 557.59, missing, missing, missing, missing, missing, 492.26, missing, missing, missing, missing, missing, 376.09, missing, missing, missing, missing, missing, 533.0, missing, missing, missing, missing, missing, 552.65, missing, missing, missing, missing, missing, 475.73, missing, missing, missing, missing, missing, 350.05, missing, missing, missing, missing, missing, 412.57, missing, missing, missing, missing, missing, 461.61, missing, missing, missing, missing, missing, 440.36, missing, missing, missing, missing, missing, 177.61, missing, missing, missing, missing, missing, 365.2, missing, missing, missing, missing, missing, 483.06, missing, missing, missing, missing, 333.76, missing, missing, missing, missing, 510.95, missing, missing, missing, missing, 466.07, missing, missing, missing, missing, 547.41, missing, missing, missing, missing, 421.34, missing, missing, missing, missing, 194.78, missing, missing, missing, missing, 166.14, missing, missing, missing, missing, 327.29, missing, missing, missing, missing, missing, 506.03, missing, missing, missing, missing, 327.47, missing, missing, missing, missing, 451.03, missing, missing, missing, missing, missing, 420.89, missing, missing, missing, missing, missing, 394.76, missing, missing, missing, missing, missing, 503.3, missing, missing, missing, missing, missing, 479.51, missing, missing, missing, missing, missing, 567.0, missing, missing, missing, missing, missing, 462.9, missing, missing, missing, missing, missing, 384.07, missing, missing, missing, missing, missing, 343.38, missing, missing, missing, 518.67, missing, missing, missing, 622.17, missing, missing, missing, 561.64, missing, missing, missing, 628.04, missing, missing, missing, 668.54, missing, missing, missing, 624.44, missing, missing, 581.44, missing, missing, 526.55, missing, missing, 515.29, missing, missing, 649.77, missing, missing, 333.73, missing, missing, 538.11, missing, missing, missing, missing, missing, 514.95, missing, missing, missing, missing, missing, 366.32, missing, missing, missing, missing, missing, 518.07, missing, missing, missing, missing, missing, 175.73, missing, missing, missing, missing, missing, 357.9, missing, missing, missing, missing, missing, 471.59, missing, missing, missing, missing, missing, 595.17, missing, missing, missing, missing, missing, 541.65, missing, missing, missing, missing, missing, 624.24, missing, missing, missing, missing, missing, 607.4, missing, missing, missing, missing, missing, 547.5, missing, missing, missing, missing, missing, 508.32, missing, missing, missing, missing, missing, 321.49, missing, missing, missing, missing, missing, 47.84, missing, missing, missing, missing, missing, 437.9, missing, missing, missing, missing, missing, 281.74, missing, missing, missing, missing, missing, 339.05, missing, missing, missing, missing, missing, 488.95, missing, missing, missing, missing, missing, 491.76, missing, missing, missing, missing, missing, 556.94, missing, missing, missing, missing, missing, 396.28, missing, missing, missing, missing, missing, 572.16, missing, missing, missing, missing, missing, 329.55, missing, missing, missing, missing, missing, 382.74, missing, missing, missing, missing, missing, 290.54, missing, missing, missing, missing, missing, 585.61, missing, missing, missing, missing, missing, 598.88, missing, missing, missing, missing, missing, 315.19, missing, missing, missing, missing, missing, 266.61, missing, missing, missing, missing, missing, 182.04, missing, missing, missing, missing, missing, 0.0, missing, missing, missing, missing, missing, 0.0, missing, missing, missing, missing, missing, 0.0, missing, missing, missing, missing, missing, 2.02, missing, missing, missing, missing, missing, 482.84, missing, missing, missing, missing, missing, 550.19, missing, missing, missing, missing, missing, 578.79, missing, missing, missing, missing, missing, 518.47, missing, missing, missing, missing, missing, 270.12, missing, missing, missing, missing, missing, 287.12, missing, missing, missing, missing, missing, 357.71, missing, missing, missing, missing, missing, 560.71, missing, missing, missing, missing, missing, 444.0, missing, missing, missing, missing, missing, 557.92, missing, missing, missing, missing, missing, 57.97, missing, missing, missing, missing, missing, 0.0, missing, missing, missing, missing, missing, 0.0, missing, missing, missing, missing, missing, 0.0, missing, missing, missing, missing, missing, 0.0, missing, missing, missing, missing, missing, 0.0, missing, missing, missing, missing, missing, 0.0, missing, missing, missing, missing, missing, 0.0, missing, missing, missing, missing, missing, 0.0, missing, missing, missing, missing, missing, 0.0, missing, missing, missing, missing, missing, 0.0, missing, missing, missing, missing, missing, 0.0, missing, missing, missing, missing, missing, 0.0, missing, missing, missing, missing, missing, 0.0, missing, missing, missing, missing, missing, 0.0, missing, missing, missing, missing, missing, 0.0, missing, missing, missing, missing, missing, 0.0, missing, missing, missing, missing, missing, 147.69, missing, missing, missing, missing, missing, 134.46, missing, missing, missing, missing, missing, 230.85, missing, missing, missing, missing, missing, 265.93, missing, missing, missing, missing, missing, 116.66, missing, missing, missing, missing, missing, 248.14, missing, missing, missing, missing, missing, 301.5, missing, missing, missing, missing, missing, 167.79, missing, missing, missing, missing, missing, 255.44, missing, missing, missing, missing, missing, 343.38, missing, missing, missing, missing, missing, missing, missing, missing, missing, missing, missing, missing, missing, missing, missing, missing, missing, missing, missing, missing, missing, missing, missing, missing, missing, missing, missing, missing, missing, missing, missing, missing, missing, missing, missing, missing, missing, missing, missing, missing, missing, missing, missing, missing, missing, missing, missing, missing, missing, missing, missing, missing, missing, missing, missing, missing, missing, missing, missing, missing, 293.64, missing, missing, missing, missing, missing, 302.91, missing, missing, missing, missing, missing, 258.72, missing, missing, missing, missing, missing, 300.25, missing, missing, missing, missing, missing, 293.73, missing, missing, missing, missing, missing, 271.39, missing, missing, missing, missing, missing, 245.41, missing, missing, missing, missing, missing, 280.03, missing, missing, missing, missing, missing, 259.54, missing, missing, missing, missing, missing, 236.48, missing, missing, missing, missing, missing, 161.34, missing, missing, missing, missing, missing, 89.58, missing, missing, missing, missing, missing, 210.47, missing, missing, missing, missing, missing, 292.16, missing, missing, missing, missing, missing, 262.16, missing, missing, missing, missing, missing, 202.42, missing, missing, missing, missing, missing, 94.12, missing, missing, missing, missing, missing, 125.0, missing, missing, missing, missing, missing, 314.25, missing, missing, missing, missing, missing, 299.12, missing, missing, missing, missing, missing, 90.66, missing, missing, missing, missing, missing, 325.44, missing, missing, missing, missing, missing, 349.23, missing, missing, missing, missing, missing, 365.08, missing, missing, missing, missing, missing, 195.39, missing, missing, missing, missing, missing, 371.48, missing, missing, missing, missing, missing, 391.1, missing, missing, missing, missing, missing, 392.01, missing, missing, missing, missing, missing, 388.22, missing, missing, missing, missing, missing, 398.75, missing, missing, missing, missing, missing, 400.19, missing, missing, missing, missing, missing, 399.9, missing, missing, missing, missing, missing, 377.11, missing, missing, missing, missing, missing, 383.24, missing, missing, missing, missing, missing, 425.99, missing, missing, missing, missing, missing, 533.26, missing, missing, missing, missing, missing, missing, missing, missing, missing, missing, missing, missing, missing, missing, missing, missing, missing, missing, missing, missing, missing, missing, missing, missing, missing, missing, missing, missing, missing, missing, missing, missing, missing, missing, missing, missing, missing, missing, missing, missing, missing, missing, missing, missing, missing, missing, missing, missing, missing, missing, 628.79, missing, missing, missing, missing, missing, 437.36, missing, missing, missing, missing, missing, 455.09, missing, missing, missing, missing, missing, missing, missing, missing, 734.64, missing, missing, missing, missing, missing, 637.17, missing, missing, missing, missing, missing, 637.18, missing, missing, missing, missing, missing, 23.83, missing, missing, missing, missing, missing, 542.38, missing, missing, missing, missing, missing, 580.0, missing, missing, missing, missing, missing, 539.97, missing, missing, missing, missing, missing, 558.91, missing, missing, missing, missing, missing, 492.04, missing, missing, missing, missing, missing, 501.49, missing, missing, missing, missing, missing, 548.27, missing, missing, missing, missing, missing, 461.04, missing, missing, missing, missing, missing, 597.3, missing, missing, missing, missing, missing, 615.08, missing, missing, missing, missing, missing, 556.62, missing, missing, missing, missing, missing, 565.3, missing, missing, missing, missing, missing, 578.26, missing, missing, missing, missing, missing, 523.68, missing, missing, missing, missing, missing, 533.85, missing, missing, missing, missing, missing, 308.03, missing, missing, missing, missing, missing,"
     ]
    },
    {
     "name": "stdout",
     "output_type": "stream",
     "text": [
      " 273.9, missing, missing, missing, missing, missing, 517.0, missing, missing, missing, missing, missing, 563.03, missing, missing, missing, missing, missing, 470.9, missing, missing, missing, missing, missing, 593.12, missing, missing, missing, missing, missing, 497.93, missing, missing, missing, missing, missing, 408.33, missing, missing, missing, missing, missing, 418.51, missing, missing, missing, missing, missing, 232.08, missing, missing, missing, missing, missing, 316.6, missing, missing, missing, missing, 555.19, missing, missing, missing, missing, 195.15, missing, missing, missing, missing, 0.0, missing, missing, missing, missing, 0.0, 0.0, missing, missing, missing, missing, 0.0, 0.0, missing, missing, missing, missing, 0.0, 0.0, missing, missing, missing, missing, 0.0, 0.0, missing, missing, missing, missing, 0.0, 0.0, missing, missing, missing, missing, 0.0, 0.0, missing, missing, missing, missing, 0.0, 0.0, missing, missing, missing, missing, 0.0, 266.66, missing, missing, missing, missing, 0.0, 253.94, missing, missing, missing, missing, 0.0, 252.98, missing, missing, missing, missing, 0.0, 221.04, missing, missing, missing, missing, 0.0, 4.03, missing, missing, missing, missing, 0.0, missing, missing, missing, missing, missing, 0.0, missing, missing, missing, missing, missing, 0.0, missing, missing, missing, missing, missing, 0.0, missing, missing, missing, missing, missing, 0.0, missing, missing, missing, missing, missing, 0.0, missing, missing, missing, missing, missing, 0.0, missing, missing, missing, missing, missing, 62.42, missing, missing, missing, missing, missing, 541.74, missing, missing, missing, missing, missing, 533.74, missing, missing, missing, missing, missing, 509.58, missing, missing, missing, missing, missing, 521.11, missing, missing, missing, missing, missing, 433.19, missing, missing, missing, missing, missing, 508.27, missing, missing, missing, missing, missing, 452.05, missing, missing, missing, missing, missing, 484.67, missing, missing, missing, missing, missing, 494.05, missing, missing, missing, missing, missing, 314.5, missing, missing, missing, missing, missing, 452.5, missing, missing, missing, missing, missing, 478.97, missing, missing, missing, missing, missing, 468.41, missing, missing, missing, missing, missing, 446.44, missing, missing, missing, missing, missing, 355.03, missing, missing, missing, missing, missing, 224.67, missing, missing, missing, missing, missing, 105.21, missing, missing, missing, missing, missing, 297.01, missing, missing, missing, missing, missing, 359.85, missing, missing, missing, missing, missing, 463.24, missing, missing, missing, missing, missing, 463.09, missing, missing, missing, missing, missing, 304.43, missing, missing, missing, missing, missing, 455.83, missing, missing, missing, missing, missing, 443.19, missing, missing, missing, missing, missing, 348.52, missing, missing, missing, missing, missing, 371.04, missing, missing, missing, missing, missing, 438.86, missing, missing, missing, missing, missing, 443.34, missing, missing, missing, missing, missing, 174.82, missing, missing, missing, missing, missing, 549.17, missing, missing, 7.72, missing, missing, missing, missing, missing, 7.31, missing, missing, missing, missing, missing, 279.8, missing, missing, missing, missing, missing, 284.96, missing, missing, missing, missing, missing, 279.26, missing, missing, missing, missing, missing, 299.97, missing, missing, missing, missing, missing, 267.23, missing, missing, missing, missing, missing, 261.76, missing, missing, missing, missing, missing, 435.52, missing, missing, missing, missing, missing, 311.61, missing, missing, missing, missing, missing, 423.27, missing, missing, missing, missing, missing, 288.59, missing, missing, missing, missing, missing, 134.7, missing, missing, missing, missing, missing, 234.98, missing, missing, missing, missing, missing, 402.92, missing, missing, missing, missing, missing, 348.24, missing, missing, missing, missing, missing, 373.7, missing, missing, missing, missing, missing, 301.84, missing, missing, missing, missing, missing, 335.38, missing, missing, missing, missing, missing, 372.07, missing, missing, missing, missing, missing, 270.29, missing, missing, missing, missing, missing, 380.52, missing, missing, missing, missing, missing, 242.72, missing, missing, missing, missing, missing, 338.03, missing, missing, missing, missing, missing, 276.42, missing, missing, missing, missing, missing, 593.65, missing, missing, missing, missing, missing, 878.01, missing, missing, missing, 0.0, missing, missing, missing, missing, 0.0, missing, missing, missing, missing, missing, 0.0, missing, missing, missing, missing, missing, 0.0, missing, missing, missing, missing, missing, 346.55, missing, missing, missing, missing, missing, 325.17, missing, missing, missing, missing, missing, 444.36, missing, missing, missing, missing, missing, 463.38, missing, missing, missing, missing, missing, 382.6, missing, missing, missing, missing, missing, 388.6, missing, missing, missing, missing, missing, 229.03, missing, missing, missing, missing, missing, 275.25, missing, missing, missing, missing, missing, 306.79, missing, missing, missing, missing, missing, 370.87, missing, missing, missing, missing, missing, 368.49, missing, missing, missing, missing, missing, 369.81, missing, missing, missing, missing, missing, 362.04, missing, missing, missing, missing, missing, 352.97, missing, missing, missing, missing, missing, 343.06, missing, missing, missing, missing, missing, 350.07, missing, missing, missing, missing, missing, 334.08, missing, missing, missing, missing, missing, 259.36, missing, missing, missing, missing, missing, 339.33, missing, missing, missing, missing, 75.54, missing, missing, missing, missing, 301.52, missing, missing, missing, missing, 26.67, missing, missing, missing, missing, 127.41, missing, missing, missing, missing, 327.82, missing, missing, missing, missing, 300.82, missing, missing, missing, missing, 2.13, missing, missing, missing, missing, 2.05, missing, missing, missing, missing, 2.1, missing, missing, missing, missing, 2.16, missing, missing, missing, missing, 202.55, missing, missing, missing, missing, 197.66, missing, missing, missing, missing, 245.04, missing, missing, missing, missing, 218.07, missing, missing, missing, missing, 296.71, missing, missing, missing, missing, missing, 294.33, missing, missing, missing, missing, missing, 291.96, missing, missing, missing, missing, missing, 223.4, missing, missing, missing, missing, missing, 286.36, missing, missing, missing, missing, missing, 180.14, missing, missing, missing, missing, missing, 154.41, missing, missing, missing, missing, missing, 280.11, missing, missing, missing, missing, missing, 280.44, missing, missing, missing, missing, missing, 274.48, missing, missing, missing, missing, missing, 265.11, missing, missing, missing, missing, missing, 276.05, missing, missing, missing, missing, missing, 390.76, missing, missing, missing, missing, missing, 0.0, missing, missing, missing, 0.0, missing, missing, missing, 0.0, missing, missing, missing, 0.0, missing, missing, missing, 0.0, missing, missing, missing, 0.0, missing, missing, missing, 0.0, missing, missing, missing, missing, 0.0, missing, missing, missing, missing, 0.0, missing, missing, missing, missing, 0.0, missing, missing, missing, missing, 0.0, missing, missing, missing, missing, 0.0, missing, missing, missing, missing, 0.0, missing, missing, missing, missing, 0.0, missing, missing, missing, missing, 191.05, missing, missing, missing, missing, 133.14, missing, missing, missing, missing, 286.84, missing, missing, missing, missing, 323.17, missing, missing, missing, missing, 325.85, missing, missing, missing, missing, missing, 366.43, missing, missing, missing, missing, missing, 345.66, missing, missing, missing, missing, missing, 247.17, missing, missing, missing, missing, missing, 505.02, missing, missing, missing, missing, missing, 67.52, missing, missing, missing, 389.85, missing, missing, missing, missing, missing, 347.46, missing, missing, missing, missing, missing, 389.61, missing, missing, missing, missing, missing, 389.62, missing, missing, missing, missing, missing, 117.05, missing, missing, missing, missing, missing, 190.32, missing, missing, missing, missing, missing, 88.74, missing, missing, missing, missing, missing, 363.26, missing, missing, missing, missing, missing, 357.57, missing, missing, missing, missing, missing, 433.0, missing, missing, missing, missing, missing, 5.92, missing, missing, missing, missing, missing, 172.68, missing, missing, missing, missing, missing, 196.34, missing, missing, missing, missing, missing, 363.88, missing, missing, missing, missing, missing, 247.56, missing, missing, missing, missing, missing, 48.26, missing, missing, missing, missing, missing, 146.59, missing, missing, missing, missing, missing, 350.96, missing, missing, missing, missing, missing, 343.07, missing, missing, missing, missing, missing, 394.31, missing, missing, missing, missing, missing, 281.26, missing, missing, missing, missing, missing, 45.42, missing, missing, missing, missing, missing, 87.47, missing, missing, missing, missing, missing, 206.96, missing, missing, missing, missing, missing, 125.5, missing, missing, missing, missing, missing, 158.0, missing, missing, missing, missing, missing, 169.55, missing, missing, missing, missing, missing, 57.71, missing, missing, missing, missing, missing, 52.28, missing, missing, missing, missing, missing, 178.94, missing, missing, missing, missing, missing, 419.27, missing, missing, missing, missing, missing, 0.0, missing, missing, missing, missing, missing, 0.0, missing, missing, missing, missing, missing, 0.0, missing, missing, missing, missing, missing, 0.0, missing, missing, missing, missing, missing, 0.72, missing, missing, missing, missing, missing, 161.22, missing, missing, missing, missing, missing, 157.47, missing, missing, missing, missing, missing, 53.31, missing, missing, missing, missing, missing, 104.48, missing, missing, missing, missing, missing, 60.34, missing, missing, missing, missing, missing, 197.52, missing, missing, missing, missing,"
     ]
    },
    {
     "name": "stdout",
     "output_type": "stream",
     "text": [
      " missing, 97.67, missing, missing, missing, missing, missing, 108.39, missing, missing, missing, missing, missing, 90.66, missing, missing, missing, missing, missing, 110.21, missing, missing, missing, missing, missing, 104.22, missing, missing, missing, missing, missing, 156.22, missing, missing, missing, missing, missing, 62.1, missing, missing, missing, missing, missing, 73.05, missing, missing, missing, missing, missing, 119.99, missing, missing, missing, missing, missing, 164.11, missing, missing, missing, missing, missing, 159.27, missing, missing, missing, missing, missing, 112.95, missing, missing, missing, missing, missing, 87.54, missing, missing, missing, missing, missing, 35.01, missing, missing, missing, missing, missing, 134.06, missing, missing, missing, missing, missing, 88.14, missing, missing, missing, missing, missing, 132.89, missing, missing, missing, missing, missing, 51.77, missing, missing, missing, missing, missing, 21.35, missing, missing, missing, missing, missing, 77.04, missing, missing, missing, missing, missing, 113.65, missing, missing, missing, missing, missing, 83.6, missing, missing, missing, missing, missing, 35.58, missing, missing, missing, missing, missing, 87.11, missing, missing, missing, missing, missing, 88.2, missing, missing, missing, missing, missing, 139.1, missing, missing, missing, missing, missing, 119.58, missing, missing, missing, missing, missing, 56.28, missing, missing, missing, missing, missing, 63.22, missing, missing, missing, missing, missing, 101.29, missing, missing, missing, missing, missing, 85.82, missing, missing, missing, missing, missing, 48.99, missing, missing, missing, missing, missing, 37.21, missing, missing, missing, missing, missing, 132.04, missing, missing, missing, missing, missing, 75.35, missing, missing, missing, missing, missing, 48.35, missing, missing, missing, missing, missing, 99.68, missing, missing, missing, missing, missing, 121.99, missing, missing, missing, missing, missing]"
     ]
    }
   ],
   "source": [
    "print(df[!, \"PAR (umol.m2.s)\"])"
   ]
  },
  {
   "cell_type": "code",
   "execution_count": 5,
   "metadata": {},
   "outputs": [
    {
     "data": {
      "text/html": [
       "<table class=\"data-frame\"><thead><tr><th></th><th>ExperimentID</th><th>SiteID</th><th>PondID</th><th>StrainID</th><th>Date</th><th>pH</th><th>Temp.avg (C)</th><th>Temp.max (C)</th></tr><tr><th></th><th>String15</th><th>String7</th><th>String3</th><th>String15</th><th>String15</th><th>Float64?</th><th>Float64?</th><th>Float64?</th></tr></thead><tbody><p>11,920 rows × 13 columns (omitted printing of 5 columns)</p><tr><th>1</th><td>SEP102014</td><td>ASU</td><td>P1</td><td>KA32</td><td>09-10-2014</td><td>7.84</td><td>29.47</td><td>33.0</td></tr><tr><th>2</th><td>SEP102014</td><td>ASU</td><td>P2</td><td>KA32</td><td>09-10-2014</td><td>7.76</td><td>29.9</td><td>33.3</td></tr><tr><th>3</th><td>SEP102014</td><td>ASU</td><td>P3</td><td>KA32</td><td>09-10-2014</td><td>7.85</td><td>29.68</td><td>33.0</td></tr><tr><th>4</th><td>SEP102014</td><td>ASU</td><td>P4</td><td>KA32</td><td>09-10-2014</td><td>7.91</td><td><em>missing</em></td><td><em>missing</em></td></tr><tr><th>5</th><td>SEP102014</td><td>ASU</td><td>P5</td><td>KA32</td><td>09-10-2014</td><td>7.24</td><td>29.15</td><td>32.7</td></tr><tr><th>6</th><td>SEP102014</td><td>ASU</td><td>P6</td><td>KA32</td><td>09-10-2014</td><td>0.08</td><td>29.46</td><td>33.0</td></tr><tr><th>7</th><td>SEP102014</td><td>ASU</td><td>P1</td><td>KA32</td><td>09-11-2014</td><td>7.85</td><td>27.25</td><td>32.6</td></tr><tr><th>8</th><td>SEP102014</td><td>ASU</td><td>P2</td><td>KA32</td><td>09-11-2014</td><td>7.86</td><td>27.39</td><td>32.8</td></tr><tr><th>9</th><td>SEP102014</td><td>ASU</td><td>P3</td><td>KA32</td><td>09-11-2014</td><td>7.94</td><td>27.33</td><td>32.7</td></tr><tr><th>10</th><td>SEP102014</td><td>ASU</td><td>P4</td><td>KA32</td><td>09-11-2014</td><td>7.91</td><td><em>missing</em></td><td><em>missing</em></td></tr><tr><th>11</th><td>SEP102014</td><td>ASU</td><td>P5</td><td>KA32</td><td>09-11-2014</td><td>7.65</td><td>27.14</td><td>32.6</td></tr><tr><th>12</th><td>SEP102014</td><td>ASU</td><td>P6</td><td>KA32</td><td>09-11-2014</td><td>1.47</td><td>27.36</td><td>32.8</td></tr><tr><th>13</th><td>SEP102014</td><td>ASU</td><td>P1</td><td>KA32</td><td>09-12-2014</td><td>7.86</td><td>24.87</td><td>30.0</td></tr><tr><th>14</th><td>SEP102014</td><td>ASU</td><td>P2</td><td>KA32</td><td>09-12-2014</td><td>7.81</td><td>27.4</td><td>32.9</td></tr><tr><th>15</th><td>SEP102014</td><td>ASU</td><td>P3</td><td>KA32</td><td>09-12-2014</td><td>7.93</td><td>27.43</td><td>32.9</td></tr><tr><th>16</th><td>SEP102014</td><td>ASU</td><td>P4</td><td>KA32</td><td>09-12-2014</td><td>7.91</td><td><em>missing</em></td><td><em>missing</em></td></tr><tr><th>17</th><td>SEP102014</td><td>ASU</td><td>P5</td><td>KA32</td><td>09-12-2014</td><td>7.82</td><td>27.32</td><td>32.8</td></tr><tr><th>18</th><td>SEP102014</td><td>ASU</td><td>P6</td><td>KA32</td><td>09-12-2014</td><td>6.63</td><td>27.71</td><td>33.4</td></tr><tr><th>19</th><td>SEP102014</td><td>ASU</td><td>P1</td><td>KA32</td><td>09-13-2014</td><td>7.82</td><td>23.59</td><td>25.3</td></tr><tr><th>20</th><td>SEP102014</td><td>ASU</td><td>P2</td><td>KA32</td><td>09-13-2014</td><td>7.89</td><td>25.23</td><td>30.0</td></tr><tr><th>21</th><td>SEP102014</td><td>ASU</td><td>P3</td><td>KA32</td><td>09-13-2014</td><td>7.94</td><td>25.28</td><td>30.2</td></tr><tr><th>22</th><td>SEP102014</td><td>ASU</td><td>P4</td><td>KA32</td><td>09-13-2014</td><td>7.92</td><td><em>missing</em></td><td><em>missing</em></td></tr><tr><th>23</th><td>SEP102014</td><td>ASU</td><td>P5</td><td>KA32</td><td>09-13-2014</td><td>7.85</td><td>25.05</td><td>29.9</td></tr><tr><th>24</th><td>SEP102014</td><td>ASU</td><td>P6</td><td>KA32</td><td>09-13-2014</td><td>7.6</td><td>25.5</td><td>30.3</td></tr><tr><th>25</th><td>SEP102014</td><td>ASU</td><td>P1</td><td>KA32</td><td>09-14-2014</td><td>7.91</td><td>25.91</td><td>30.9</td></tr><tr><th>26</th><td>SEP102014</td><td>ASU</td><td>P2</td><td>KA32</td><td>09-14-2014</td><td>7.89</td><td>25.93</td><td>31.2</td></tr><tr><th>27</th><td>SEP102014</td><td>ASU</td><td>P3</td><td>KA32</td><td>09-14-2014</td><td>7.95</td><td>25.93</td><td>31.0</td></tr><tr><th>28</th><td>SEP102014</td><td>ASU</td><td>P4</td><td>KA32</td><td>09-14-2014</td><td>7.92</td><td><em>missing</em></td><td><em>missing</em></td></tr><tr><th>29</th><td>SEP102014</td><td>ASU</td><td>P5</td><td>KA32</td><td>09-14-2014</td><td>7.81</td><td>25.74</td><td>30.8</td></tr><tr><th>30</th><td>SEP102014</td><td>ASU</td><td>P6</td><td>KA32</td><td>09-14-2014</td><td>7.74</td><td>26.14</td><td>31.3</td></tr><tr><th>&vellip;</th><td>&vellip;</td><td>&vellip;</td><td>&vellip;</td><td>&vellip;</td><td>&vellip;</td><td>&vellip;</td><td>&vellip;</td><td>&vellip;</td></tr></tbody></table>"
      ],
      "text/latex": [
       "\\begin{tabular}{r|ccccccccc}\n",
       "\t& ExperimentID & SiteID & PondID & StrainID & Date & pH & Temp.avg (C) & Temp.max (C) & \\\\\n",
       "\t\\hline\n",
       "\t& String15 & String7 & String3 & String15 & String15 & Float64? & Float64? & Float64? & \\\\\n",
       "\t\\hline\n",
       "\t1 & SEP102014 & ASU & P1 & KA32 & 09-10-2014 & 7.84 & 29.47 & 33.0 & $\\dots$ \\\\\n",
       "\t2 & SEP102014 & ASU & P2 & KA32 & 09-10-2014 & 7.76 & 29.9 & 33.3 & $\\dots$ \\\\\n",
       "\t3 & SEP102014 & ASU & P3 & KA32 & 09-10-2014 & 7.85 & 29.68 & 33.0 & $\\dots$ \\\\\n",
       "\t4 & SEP102014 & ASU & P4 & KA32 & 09-10-2014 & 7.91 & \\emph{missing} & \\emph{missing} & $\\dots$ \\\\\n",
       "\t5 & SEP102014 & ASU & P5 & KA32 & 09-10-2014 & 7.24 & 29.15 & 32.7 & $\\dots$ \\\\\n",
       "\t6 & SEP102014 & ASU & P6 & KA32 & 09-10-2014 & 0.08 & 29.46 & 33.0 & $\\dots$ \\\\\n",
       "\t7 & SEP102014 & ASU & P1 & KA32 & 09-11-2014 & 7.85 & 27.25 & 32.6 & $\\dots$ \\\\\n",
       "\t8 & SEP102014 & ASU & P2 & KA32 & 09-11-2014 & 7.86 & 27.39 & 32.8 & $\\dots$ \\\\\n",
       "\t9 & SEP102014 & ASU & P3 & KA32 & 09-11-2014 & 7.94 & 27.33 & 32.7 & $\\dots$ \\\\\n",
       "\t10 & SEP102014 & ASU & P4 & KA32 & 09-11-2014 & 7.91 & \\emph{missing} & \\emph{missing} & $\\dots$ \\\\\n",
       "\t11 & SEP102014 & ASU & P5 & KA32 & 09-11-2014 & 7.65 & 27.14 & 32.6 & $\\dots$ \\\\\n",
       "\t12 & SEP102014 & ASU & P6 & KA32 & 09-11-2014 & 1.47 & 27.36 & 32.8 & $\\dots$ \\\\\n",
       "\t13 & SEP102014 & ASU & P1 & KA32 & 09-12-2014 & 7.86 & 24.87 & 30.0 & $\\dots$ \\\\\n",
       "\t14 & SEP102014 & ASU & P2 & KA32 & 09-12-2014 & 7.81 & 27.4 & 32.9 & $\\dots$ \\\\\n",
       "\t15 & SEP102014 & ASU & P3 & KA32 & 09-12-2014 & 7.93 & 27.43 & 32.9 & $\\dots$ \\\\\n",
       "\t16 & SEP102014 & ASU & P4 & KA32 & 09-12-2014 & 7.91 & \\emph{missing} & \\emph{missing} & $\\dots$ \\\\\n",
       "\t17 & SEP102014 & ASU & P5 & KA32 & 09-12-2014 & 7.82 & 27.32 & 32.8 & $\\dots$ \\\\\n",
       "\t18 & SEP102014 & ASU & P6 & KA32 & 09-12-2014 & 6.63 & 27.71 & 33.4 & $\\dots$ \\\\\n",
       "\t19 & SEP102014 & ASU & P1 & KA32 & 09-13-2014 & 7.82 & 23.59 & 25.3 & $\\dots$ \\\\\n",
       "\t20 & SEP102014 & ASU & P2 & KA32 & 09-13-2014 & 7.89 & 25.23 & 30.0 & $\\dots$ \\\\\n",
       "\t21 & SEP102014 & ASU & P3 & KA32 & 09-13-2014 & 7.94 & 25.28 & 30.2 & $\\dots$ \\\\\n",
       "\t22 & SEP102014 & ASU & P4 & KA32 & 09-13-2014 & 7.92 & \\emph{missing} & \\emph{missing} & $\\dots$ \\\\\n",
       "\t23 & SEP102014 & ASU & P5 & KA32 & 09-13-2014 & 7.85 & 25.05 & 29.9 & $\\dots$ \\\\\n",
       "\t24 & SEP102014 & ASU & P6 & KA32 & 09-13-2014 & 7.6 & 25.5 & 30.3 & $\\dots$ \\\\\n",
       "\t25 & SEP102014 & ASU & P1 & KA32 & 09-14-2014 & 7.91 & 25.91 & 30.9 & $\\dots$ \\\\\n",
       "\t26 & SEP102014 & ASU & P2 & KA32 & 09-14-2014 & 7.89 & 25.93 & 31.2 & $\\dots$ \\\\\n",
       "\t27 & SEP102014 & ASU & P3 & KA32 & 09-14-2014 & 7.95 & 25.93 & 31.0 & $\\dots$ \\\\\n",
       "\t28 & SEP102014 & ASU & P4 & KA32 & 09-14-2014 & 7.92 & \\emph{missing} & \\emph{missing} & $\\dots$ \\\\\n",
       "\t29 & SEP102014 & ASU & P5 & KA32 & 09-14-2014 & 7.81 & 25.74 & 30.8 & $\\dots$ \\\\\n",
       "\t30 & SEP102014 & ASU & P6 & KA32 & 09-14-2014 & 7.74 & 26.14 & 31.3 & $\\dots$ \\\\\n",
       "\t$\\dots$ & $\\dots$ & $\\dots$ & $\\dots$ & $\\dots$ & $\\dots$ & $\\dots$ & $\\dots$ & $\\dots$ &  \\\\\n",
       "\\end{tabular}\n"
      ],
      "text/plain": [
       "\u001b[1m11920×13 DataFrame\u001b[0m\n",
       "\u001b[1m   Row \u001b[0m│\u001b[1m ExperimentID \u001b[0m\u001b[1m SiteID  \u001b[0m\u001b[1m PondID  \u001b[0m\u001b[1m StrainID \u001b[0m\u001b[1m Date       \u001b[0m\u001b[1m pH       \u001b[0m\u001b[1m Temp.\u001b[0m ⋯\n",
       "\u001b[1m       \u001b[0m│\u001b[90m String15     \u001b[0m\u001b[90m String7 \u001b[0m\u001b[90m String3 \u001b[0m\u001b[90m String15 \u001b[0m\u001b[90m String15   \u001b[0m\u001b[90m Float64? \u001b[0m\u001b[90m Float\u001b[0m ⋯\n",
       "───────┼────────────────────────────────────────────────────────────────────────\n",
       "     1 │ SEP102014     ASU      P1       KA32      09-10-2014      7.84        ⋯\n",
       "     2 │ SEP102014     ASU      P2       KA32      09-10-2014      7.76\n",
       "     3 │ SEP102014     ASU      P3       KA32      09-10-2014      7.85\n",
       "     4 │ SEP102014     ASU      P4       KA32      09-10-2014      7.91 \u001b[90m   mis\u001b[0m\n",
       "     5 │ SEP102014     ASU      P5       KA32      09-10-2014      7.24        ⋯\n",
       "     6 │ SEP102014     ASU      P6       KA32      09-10-2014      0.08\n",
       "     7 │ SEP102014     ASU      P1       KA32      09-11-2014      7.85\n",
       "     8 │ SEP102014     ASU      P2       KA32      09-11-2014      7.86\n",
       "     9 │ SEP102014     ASU      P3       KA32      09-11-2014      7.94        ⋯\n",
       "    10 │ SEP102014     ASU      P4       KA32      09-11-2014      7.91 \u001b[90m   mis\u001b[0m\n",
       "    11 │ SEP102014     ASU      P5       KA32      09-11-2014      7.65\n",
       "   ⋮   │      ⋮           ⋮        ⋮        ⋮          ⋮          ⋮            ⋱\n",
       " 11911 │ OCT172013     TRL      P3       KA32      12-10-2013      7.96\n",
       " 11912 │ OCT172013     TRL      P4       KA32      12-10-2013      7.93        ⋯\n",
       " 11913 │ OCT172013     TRL      P5       KA32      12-10-2013      7.98\n",
       " 11914 │ OCT172013     TRL      P6       KA32      12-10-2013      7.98\n",
       " 11915 │ OCT172013     TRL      P1       KA32      12-11-2013      7.96\n",
       " 11916 │ OCT172013     TRL      P2       KA32      12-11-2013      7.96        ⋯\n",
       " 11917 │ OCT172013     TRL      P3       KA32      12-11-2013      7.96\n",
       " 11918 │ OCT172013     TRL      P4       KA32      12-11-2013      7.95\n",
       " 11919 │ OCT172013     TRL      P5       KA32      12-11-2013      7.99\n",
       " 11920 │ OCT172013     TRL      P6       KA32      12-11-2013      7.99        ⋯\n",
       "\u001b[36m                                                7 columns and 11899 rows omitted\u001b[0m"
      ]
     },
     "execution_count": 5,
     "metadata": {},
     "output_type": "execute_result"
    }
   ],
   "source": [
    "select!(df, Not(\"PAR (umol.m2.s)\"))"
   ]
  },
  {
   "cell_type": "code",
   "execution_count": 6,
   "metadata": {},
   "outputs": [
    {
     "data": {
      "text/html": [
       "<table class=\"data-frame\"><thead><tr><th></th><th>ExperimentID</th><th>SiteID</th><th>PondID</th><th>StrainID</th><th>Date</th><th>pH</th><th>Temp.avg (C)</th><th>Temp.max (C)</th></tr><tr><th></th><th>String15</th><th>String7</th><th>String3</th><th>String15</th><th>String15</th><th>Float64</th><th>Float64</th><th>Float64</th></tr></thead><tbody><p>10,192 rows × 13 columns (omitted printing of 5 columns)</p><tr><th>1</th><td>SEP102014</td><td>ASU</td><td>P1</td><td>KA32</td><td>09-10-2014</td><td>7.84</td><td>29.47</td><td>33.0</td></tr><tr><th>2</th><td>SEP102014</td><td>ASU</td><td>P2</td><td>KA32</td><td>09-10-2014</td><td>7.76</td><td>29.9</td><td>33.3</td></tr><tr><th>3</th><td>SEP102014</td><td>ASU</td><td>P3</td><td>KA32</td><td>09-10-2014</td><td>7.85</td><td>29.68</td><td>33.0</td></tr><tr><th>4</th><td>SEP102014</td><td>ASU</td><td>P5</td><td>KA32</td><td>09-10-2014</td><td>7.24</td><td>29.15</td><td>32.7</td></tr><tr><th>5</th><td>SEP102014</td><td>ASU</td><td>P6</td><td>KA32</td><td>09-10-2014</td><td>0.08</td><td>29.46</td><td>33.0</td></tr><tr><th>6</th><td>SEP102014</td><td>ASU</td><td>P1</td><td>KA32</td><td>09-11-2014</td><td>7.85</td><td>27.25</td><td>32.6</td></tr><tr><th>7</th><td>SEP102014</td><td>ASU</td><td>P2</td><td>KA32</td><td>09-11-2014</td><td>7.86</td><td>27.39</td><td>32.8</td></tr><tr><th>8</th><td>SEP102014</td><td>ASU</td><td>P3</td><td>KA32</td><td>09-11-2014</td><td>7.94</td><td>27.33</td><td>32.7</td></tr><tr><th>9</th><td>SEP102014</td><td>ASU</td><td>P5</td><td>KA32</td><td>09-11-2014</td><td>7.65</td><td>27.14</td><td>32.6</td></tr><tr><th>10</th><td>SEP102014</td><td>ASU</td><td>P6</td><td>KA32</td><td>09-11-2014</td><td>1.47</td><td>27.36</td><td>32.8</td></tr><tr><th>11</th><td>SEP102014</td><td>ASU</td><td>P1</td><td>KA32</td><td>09-12-2014</td><td>7.86</td><td>24.87</td><td>30.0</td></tr><tr><th>12</th><td>SEP102014</td><td>ASU</td><td>P2</td><td>KA32</td><td>09-12-2014</td><td>7.81</td><td>27.4</td><td>32.9</td></tr><tr><th>13</th><td>SEP102014</td><td>ASU</td><td>P3</td><td>KA32</td><td>09-12-2014</td><td>7.93</td><td>27.43</td><td>32.9</td></tr><tr><th>14</th><td>SEP102014</td><td>ASU</td><td>P5</td><td>KA32</td><td>09-12-2014</td><td>7.82</td><td>27.32</td><td>32.8</td></tr><tr><th>15</th><td>SEP102014</td><td>ASU</td><td>P6</td><td>KA32</td><td>09-12-2014</td><td>6.63</td><td>27.71</td><td>33.4</td></tr><tr><th>16</th><td>SEP102014</td><td>ASU</td><td>P1</td><td>KA32</td><td>09-13-2014</td><td>7.82</td><td>23.59</td><td>25.3</td></tr><tr><th>17</th><td>SEP102014</td><td>ASU</td><td>P2</td><td>KA32</td><td>09-13-2014</td><td>7.89</td><td>25.23</td><td>30.0</td></tr><tr><th>18</th><td>SEP102014</td><td>ASU</td><td>P3</td><td>KA32</td><td>09-13-2014</td><td>7.94</td><td>25.28</td><td>30.2</td></tr><tr><th>19</th><td>SEP102014</td><td>ASU</td><td>P5</td><td>KA32</td><td>09-13-2014</td><td>7.85</td><td>25.05</td><td>29.9</td></tr><tr><th>20</th><td>SEP102014</td><td>ASU</td><td>P6</td><td>KA32</td><td>09-13-2014</td><td>7.6</td><td>25.5</td><td>30.3</td></tr><tr><th>21</th><td>SEP102014</td><td>ASU</td><td>P1</td><td>KA32</td><td>09-14-2014</td><td>7.91</td><td>25.91</td><td>30.9</td></tr><tr><th>22</th><td>SEP102014</td><td>ASU</td><td>P2</td><td>KA32</td><td>09-14-2014</td><td>7.89</td><td>25.93</td><td>31.2</td></tr><tr><th>23</th><td>SEP102014</td><td>ASU</td><td>P3</td><td>KA32</td><td>09-14-2014</td><td>7.95</td><td>25.93</td><td>31.0</td></tr><tr><th>24</th><td>SEP102014</td><td>ASU</td><td>P5</td><td>KA32</td><td>09-14-2014</td><td>7.81</td><td>25.74</td><td>30.8</td></tr><tr><th>25</th><td>SEP102014</td><td>ASU</td><td>P6</td><td>KA32</td><td>09-14-2014</td><td>7.74</td><td>26.14</td><td>31.3</td></tr><tr><th>26</th><td>SEP102014</td><td>ASU</td><td>P1</td><td>KA32</td><td>09-15-2014</td><td>7.95</td><td>29.27</td><td>32.7</td></tr><tr><th>27</th><td>SEP102014</td><td>ASU</td><td>P2</td><td>KA32</td><td>09-15-2014</td><td>7.92</td><td>27.52</td><td>32.9</td></tr><tr><th>28</th><td>SEP102014</td><td>ASU</td><td>P3</td><td>KA32</td><td>09-15-2014</td><td>7.95</td><td>27.46</td><td>32.8</td></tr><tr><th>29</th><td>SEP102014</td><td>ASU</td><td>P5</td><td>KA32</td><td>09-15-2014</td><td>7.85</td><td>27.4</td><td>32.7</td></tr><tr><th>30</th><td>SEP102014</td><td>ASU</td><td>P6</td><td>KA32</td><td>09-15-2014</td><td>8.67</td><td>27.63</td><td>33.0</td></tr><tr><th>&vellip;</th><td>&vellip;</td><td>&vellip;</td><td>&vellip;</td><td>&vellip;</td><td>&vellip;</td><td>&vellip;</td><td>&vellip;</td><td>&vellip;</td></tr></tbody></table>"
      ],
      "text/latex": [
       "\\begin{tabular}{r|ccccccccc}\n",
       "\t& ExperimentID & SiteID & PondID & StrainID & Date & pH & Temp.avg (C) & Temp.max (C) & \\\\\n",
       "\t\\hline\n",
       "\t& String15 & String7 & String3 & String15 & String15 & Float64 & Float64 & Float64 & \\\\\n",
       "\t\\hline\n",
       "\t1 & SEP102014 & ASU & P1 & KA32 & 09-10-2014 & 7.84 & 29.47 & 33.0 & $\\dots$ \\\\\n",
       "\t2 & SEP102014 & ASU & P2 & KA32 & 09-10-2014 & 7.76 & 29.9 & 33.3 & $\\dots$ \\\\\n",
       "\t3 & SEP102014 & ASU & P3 & KA32 & 09-10-2014 & 7.85 & 29.68 & 33.0 & $\\dots$ \\\\\n",
       "\t4 & SEP102014 & ASU & P5 & KA32 & 09-10-2014 & 7.24 & 29.15 & 32.7 & $\\dots$ \\\\\n",
       "\t5 & SEP102014 & ASU & P6 & KA32 & 09-10-2014 & 0.08 & 29.46 & 33.0 & $\\dots$ \\\\\n",
       "\t6 & SEP102014 & ASU & P1 & KA32 & 09-11-2014 & 7.85 & 27.25 & 32.6 & $\\dots$ \\\\\n",
       "\t7 & SEP102014 & ASU & P2 & KA32 & 09-11-2014 & 7.86 & 27.39 & 32.8 & $\\dots$ \\\\\n",
       "\t8 & SEP102014 & ASU & P3 & KA32 & 09-11-2014 & 7.94 & 27.33 & 32.7 & $\\dots$ \\\\\n",
       "\t9 & SEP102014 & ASU & P5 & KA32 & 09-11-2014 & 7.65 & 27.14 & 32.6 & $\\dots$ \\\\\n",
       "\t10 & SEP102014 & ASU & P6 & KA32 & 09-11-2014 & 1.47 & 27.36 & 32.8 & $\\dots$ \\\\\n",
       "\t11 & SEP102014 & ASU & P1 & KA32 & 09-12-2014 & 7.86 & 24.87 & 30.0 & $\\dots$ \\\\\n",
       "\t12 & SEP102014 & ASU & P2 & KA32 & 09-12-2014 & 7.81 & 27.4 & 32.9 & $\\dots$ \\\\\n",
       "\t13 & SEP102014 & ASU & P3 & KA32 & 09-12-2014 & 7.93 & 27.43 & 32.9 & $\\dots$ \\\\\n",
       "\t14 & SEP102014 & ASU & P5 & KA32 & 09-12-2014 & 7.82 & 27.32 & 32.8 & $\\dots$ \\\\\n",
       "\t15 & SEP102014 & ASU & P6 & KA32 & 09-12-2014 & 6.63 & 27.71 & 33.4 & $\\dots$ \\\\\n",
       "\t16 & SEP102014 & ASU & P1 & KA32 & 09-13-2014 & 7.82 & 23.59 & 25.3 & $\\dots$ \\\\\n",
       "\t17 & SEP102014 & ASU & P2 & KA32 & 09-13-2014 & 7.89 & 25.23 & 30.0 & $\\dots$ \\\\\n",
       "\t18 & SEP102014 & ASU & P3 & KA32 & 09-13-2014 & 7.94 & 25.28 & 30.2 & $\\dots$ \\\\\n",
       "\t19 & SEP102014 & ASU & P5 & KA32 & 09-13-2014 & 7.85 & 25.05 & 29.9 & $\\dots$ \\\\\n",
       "\t20 & SEP102014 & ASU & P6 & KA32 & 09-13-2014 & 7.6 & 25.5 & 30.3 & $\\dots$ \\\\\n",
       "\t21 & SEP102014 & ASU & P1 & KA32 & 09-14-2014 & 7.91 & 25.91 & 30.9 & $\\dots$ \\\\\n",
       "\t22 & SEP102014 & ASU & P2 & KA32 & 09-14-2014 & 7.89 & 25.93 & 31.2 & $\\dots$ \\\\\n",
       "\t23 & SEP102014 & ASU & P3 & KA32 & 09-14-2014 & 7.95 & 25.93 & 31.0 & $\\dots$ \\\\\n",
       "\t24 & SEP102014 & ASU & P5 & KA32 & 09-14-2014 & 7.81 & 25.74 & 30.8 & $\\dots$ \\\\\n",
       "\t25 & SEP102014 & ASU & P6 & KA32 & 09-14-2014 & 7.74 & 26.14 & 31.3 & $\\dots$ \\\\\n",
       "\t26 & SEP102014 & ASU & P1 & KA32 & 09-15-2014 & 7.95 & 29.27 & 32.7 & $\\dots$ \\\\\n",
       "\t27 & SEP102014 & ASU & P2 & KA32 & 09-15-2014 & 7.92 & 27.52 & 32.9 & $\\dots$ \\\\\n",
       "\t28 & SEP102014 & ASU & P3 & KA32 & 09-15-2014 & 7.95 & 27.46 & 32.8 & $\\dots$ \\\\\n",
       "\t29 & SEP102014 & ASU & P5 & KA32 & 09-15-2014 & 7.85 & 27.4 & 32.7 & $\\dots$ \\\\\n",
       "\t30 & SEP102014 & ASU & P6 & KA32 & 09-15-2014 & 8.67 & 27.63 & 33.0 & $\\dots$ \\\\\n",
       "\t$\\dots$ & $\\dots$ & $\\dots$ & $\\dots$ & $\\dots$ & $\\dots$ & $\\dots$ & $\\dots$ & $\\dots$ &  \\\\\n",
       "\\end{tabular}\n"
      ],
      "text/plain": [
       "\u001b[1m10192×13 DataFrame\u001b[0m\n",
       "\u001b[1m   Row \u001b[0m│\u001b[1m ExperimentID \u001b[0m\u001b[1m SiteID  \u001b[0m\u001b[1m PondID  \u001b[0m\u001b[1m StrainID \u001b[0m\u001b[1m Date       \u001b[0m\u001b[1m pH      \u001b[0m\u001b[1m Temp.a\u001b[0m ⋯\n",
       "\u001b[1m       \u001b[0m│\u001b[90m String15     \u001b[0m\u001b[90m String7 \u001b[0m\u001b[90m String3 \u001b[0m\u001b[90m String15 \u001b[0m\u001b[90m String15   \u001b[0m\u001b[90m Float64 \u001b[0m\u001b[90m Float6\u001b[0m ⋯\n",
       "───────┼────────────────────────────────────────────────────────────────────────\n",
       "     1 │ SEP102014     ASU      P1       KA32      09-10-2014     7.84         ⋯\n",
       "     2 │ SEP102014     ASU      P2       KA32      09-10-2014     7.76\n",
       "     3 │ SEP102014     ASU      P3       KA32      09-10-2014     7.85\n",
       "     4 │ SEP102014     ASU      P5       KA32      09-10-2014     7.24\n",
       "     5 │ SEP102014     ASU      P6       KA32      09-10-2014     0.08         ⋯\n",
       "     6 │ SEP102014     ASU      P1       KA32      09-11-2014     7.85\n",
       "     7 │ SEP102014     ASU      P2       KA32      09-11-2014     7.86\n",
       "     8 │ SEP102014     ASU      P3       KA32      09-11-2014     7.94\n",
       "     9 │ SEP102014     ASU      P5       KA32      09-11-2014     7.65         ⋯\n",
       "    10 │ SEP102014     ASU      P6       KA32      09-11-2014     1.47\n",
       "    11 │ SEP102014     ASU      P1       KA32      09-12-2014     7.86\n",
       "   ⋮   │      ⋮           ⋮        ⋮        ⋮          ⋮          ⋮          ⋮ ⋱\n",
       " 10183 │ OCT172013     TRL      P3       KA32      12-10-2013     7.96\n",
       " 10184 │ OCT172013     TRL      P4       KA32      12-10-2013     7.93         ⋯\n",
       " 10185 │ OCT172013     TRL      P5       KA32      12-10-2013     7.98\n",
       " 10186 │ OCT172013     TRL      P6       KA32      12-10-2013     7.98\n",
       " 10187 │ OCT172013     TRL      P1       KA32      12-11-2013     7.96\n",
       " 10188 │ OCT172013     TRL      P2       KA32      12-11-2013     7.96         ⋯\n",
       " 10189 │ OCT172013     TRL      P3       KA32      12-11-2013     7.96\n",
       " 10190 │ OCT172013     TRL      P4       KA32      12-11-2013     7.95\n",
       " 10191 │ OCT172013     TRL      P5       KA32      12-11-2013     7.99\n",
       " 10192 │ OCT172013     TRL      P6       KA32      12-11-2013     7.99         ⋯\n",
       "\u001b[36m                                                7 columns and 10171 rows omitted\u001b[0m"
      ]
     },
     "execution_count": 6,
     "metadata": {},
     "output_type": "execute_result"
    }
   ],
   "source": [
    "df = dropmissing!(df)"
   ]
  },
  {
   "cell_type": "code",
   "execution_count": 7,
   "metadata": {},
   "outputs": [
    {
     "data": {
      "text/plain": [
       "13-element Vector{String}:\n",
       " \"ExperimentID\"\n",
       " \"SiteID\"\n",
       " \"PondID\"\n",
       " \"StrainID\"\n",
       " \"Date\"\n",
       " \"pH\"\n",
       " \"Temp.avg (C)\"\n",
       " \"Temp.max (C)\"\n",
       " \"Temp.min (C)\"\n",
       " \"Cond (mS.cm)\"\n",
       " \"DO (mg.L)\"\n",
       " \"DO (%sat)\"\n",
       " \"Sal (g.L)\""
      ]
     },
     "execution_count": 7,
     "metadata": {},
     "output_type": "execute_result"
    }
   ],
   "source": [
    "names(df)"
   ]
  },
  {
   "cell_type": "code",
   "execution_count": 8,
   "metadata": {},
   "outputs": [
    {
     "data": {
      "text/plain": [
       "10192-element Vector{Float64}:\n",
       " 7.84\n",
       " 7.76\n",
       " 7.85\n",
       " 7.24\n",
       " 0.08\n",
       " 7.85\n",
       " 7.86\n",
       " 7.94\n",
       " 7.65\n",
       " 1.47\n",
       " 7.86\n",
       " 7.81\n",
       " 7.93\n",
       " ⋮\n",
       " 7.95\n",
       " 7.95\n",
       " 7.96\n",
       " 7.93\n",
       " 7.98\n",
       " 7.98\n",
       " 7.96\n",
       " 7.96\n",
       " 7.96\n",
       " 7.95\n",
       " 7.99\n",
       " 7.99"
      ]
     },
     "execution_count": 8,
     "metadata": {},
     "output_type": "execute_result"
    }
   ],
   "source": [
    "ph = df[!, \"pH\"]"
   ]
  },
  {
   "cell_type": "code",
   "execution_count": 9,
   "metadata": {},
   "outputs": [
    {
     "data": {
      "text/plain": [
       "10192-element Vector{Float64}:\n",
       " 29.47\n",
       " 29.9\n",
       " 29.68\n",
       " 29.15\n",
       " 29.46\n",
       " 27.25\n",
       " 27.39\n",
       " 27.33\n",
       " 27.14\n",
       " 27.36\n",
       " 24.87\n",
       " 27.4\n",
       " 27.43\n",
       "  ⋮\n",
       " 13.03\n",
       " 12.96\n",
       " 12.88\n",
       " 12.95\n",
       " 12.92\n",
       " 12.76\n",
       " 11.5\n",
       " 11.45\n",
       " 11.36\n",
       " 11.4\n",
       " 11.41\n",
       " 11.25"
      ]
     },
     "execution_count": 9,
     "metadata": {},
     "output_type": "execute_result"
    }
   ],
   "source": [
    "average_temps = df[!, \"Temp.avg (C)\"]"
   ]
  },
  {
   "cell_type": "code",
   "execution_count": 10,
   "metadata": {},
   "outputs": [
    {
     "data": {
      "text/plain": [
       "\"destroy the output from above ^^\""
      ]
     },
     "execution_count": 10,
     "metadata": {},
     "output_type": "execute_result"
    }
   ],
   "source": [
    "f = scatter(ph, average_temps, color = :green, axis = (title = \"Algae pH And Temperature\",\n",
    "    xlabel = \"pH of alga\",\n",
    "    ylabel = \"Temperature of alga (C)\"))\n",
    "\"destroy the output from above ^^\""
   ]
  },
  {
   "cell_type": "code",
   "execution_count": 11,
   "metadata": {},
   "outputs": [
    {
     "data": {
      "text/html": [
       "<div data-jscall-id=\"2\"><script data-jscall-id=\"3\" type=\"text/javascript\">\n",
       "    function register_resize_handler(remote_origin) {\n",
       "        function resize_callback(event) {\n",
       "            if (event.origin !== remote_origin) {\n",
       "                return;\n",
       "            }\n",
       "            const uuid = event.data[0];\n",
       "            const width = event.data[1];\n",
       "            const height = event.data[2];\n",
       "            const iframe = document.getElementById('9918f4df-a3ca-46a0-b01c-c1dcd2091da7');\n",
       "            if (iframe) {\n",
       "                iframe.style.width = width + \"px\";\n",
       "                iframe.style.height = height + \"px\";\n",
       "            }\n",
       "        }\n",
       "        if (window.addEventListener) {\n",
       "            window.addEventListener(\"message\", resize_callback, false);\n",
       "        } else if (window.attachEvent) {\n",
       "            window.attachEvent(\"onmessage\", resize_callback);\n",
       "        }\n",
       "    }\n",
       "    register_resize_handler('http://127.0.0.1:9284')\n",
       "\n",
       "</script><iframe scrolling=\"no\" id=\"9918f4df-a3ca-46a0-b01c-c1dcd2091da7\" data-jscall-id=\"1\" src=\"http://127.0.0.1:9284/9918f4df-a3ca-46a0-b01c-c1dcd2091da7\" style=\"position: relative; display: block; width: 100%; height: 100%; padding: 0; overflow: hidden; border: none\"></iframe></div>\n"
      ]
     },
     "metadata": {},
     "output_type": "display_data"
    }
   ],
   "source": [
    "display(\"text/html\", f)"
   ]
  },
  {
   "cell_type": "code",
   "execution_count": 12,
   "metadata": {},
   "outputs": [
    {
     "data": {
      "text/html": [
       "<table class=\"data-frame\"><thead><tr><th></th><th>ExperimentID</th><th>SiteID</th><th>PondID</th><th>StrainID</th><th>Date</th><th>pH</th><th>Temp.avg (C)</th><th>Temp.max (C)</th></tr><tr><th></th><th>String15</th><th>String7</th><th>String3</th><th>String15</th><th>String15</th><th>Float64</th><th>Float64</th><th>Float64</th></tr></thead><tbody><p>10,192 rows × 13 columns (omitted printing of 5 columns)</p><tr><th>1</th><td>SEP102014</td><td>ASU</td><td>P1</td><td>KA32</td><td>09-10-2014</td><td>7.84</td><td>29.47</td><td>33.0</td></tr><tr><th>2</th><td>SEP102014</td><td>ASU</td><td>P2</td><td>KA32</td><td>09-10-2014</td><td>7.76</td><td>29.9</td><td>33.3</td></tr><tr><th>3</th><td>SEP102014</td><td>ASU</td><td>P3</td><td>KA32</td><td>09-10-2014</td><td>7.85</td><td>29.68</td><td>33.0</td></tr><tr><th>4</th><td>SEP102014</td><td>ASU</td><td>P5</td><td>KA32</td><td>09-10-2014</td><td>7.24</td><td>29.15</td><td>32.7</td></tr><tr><th>5</th><td>SEP102014</td><td>ASU</td><td>P6</td><td>KA32</td><td>09-10-2014</td><td>0.08</td><td>29.46</td><td>33.0</td></tr><tr><th>6</th><td>SEP102014</td><td>ASU</td><td>P1</td><td>KA32</td><td>09-11-2014</td><td>7.85</td><td>27.25</td><td>32.6</td></tr><tr><th>7</th><td>SEP102014</td><td>ASU</td><td>P2</td><td>KA32</td><td>09-11-2014</td><td>7.86</td><td>27.39</td><td>32.8</td></tr><tr><th>8</th><td>SEP102014</td><td>ASU</td><td>P3</td><td>KA32</td><td>09-11-2014</td><td>7.94</td><td>27.33</td><td>32.7</td></tr><tr><th>9</th><td>SEP102014</td><td>ASU</td><td>P5</td><td>KA32</td><td>09-11-2014</td><td>7.65</td><td>27.14</td><td>32.6</td></tr><tr><th>10</th><td>SEP102014</td><td>ASU</td><td>P6</td><td>KA32</td><td>09-11-2014</td><td>1.47</td><td>27.36</td><td>32.8</td></tr><tr><th>11</th><td>SEP102014</td><td>ASU</td><td>P1</td><td>KA32</td><td>09-12-2014</td><td>7.86</td><td>24.87</td><td>30.0</td></tr><tr><th>12</th><td>SEP102014</td><td>ASU</td><td>P2</td><td>KA32</td><td>09-12-2014</td><td>7.81</td><td>27.4</td><td>32.9</td></tr><tr><th>13</th><td>SEP102014</td><td>ASU</td><td>P3</td><td>KA32</td><td>09-12-2014</td><td>7.93</td><td>27.43</td><td>32.9</td></tr><tr><th>14</th><td>SEP102014</td><td>ASU</td><td>P5</td><td>KA32</td><td>09-12-2014</td><td>7.82</td><td>27.32</td><td>32.8</td></tr><tr><th>15</th><td>SEP102014</td><td>ASU</td><td>P6</td><td>KA32</td><td>09-12-2014</td><td>6.63</td><td>27.71</td><td>33.4</td></tr><tr><th>16</th><td>SEP102014</td><td>ASU</td><td>P1</td><td>KA32</td><td>09-13-2014</td><td>7.82</td><td>23.59</td><td>25.3</td></tr><tr><th>17</th><td>SEP102014</td><td>ASU</td><td>P2</td><td>KA32</td><td>09-13-2014</td><td>7.89</td><td>25.23</td><td>30.0</td></tr><tr><th>18</th><td>SEP102014</td><td>ASU</td><td>P3</td><td>KA32</td><td>09-13-2014</td><td>7.94</td><td>25.28</td><td>30.2</td></tr><tr><th>19</th><td>SEP102014</td><td>ASU</td><td>P5</td><td>KA32</td><td>09-13-2014</td><td>7.85</td><td>25.05</td><td>29.9</td></tr><tr><th>20</th><td>SEP102014</td><td>ASU</td><td>P6</td><td>KA32</td><td>09-13-2014</td><td>7.6</td><td>25.5</td><td>30.3</td></tr><tr><th>21</th><td>SEP102014</td><td>ASU</td><td>P1</td><td>KA32</td><td>09-14-2014</td><td>7.91</td><td>25.91</td><td>30.9</td></tr><tr><th>22</th><td>SEP102014</td><td>ASU</td><td>P2</td><td>KA32</td><td>09-14-2014</td><td>7.89</td><td>25.93</td><td>31.2</td></tr><tr><th>23</th><td>SEP102014</td><td>ASU</td><td>P3</td><td>KA32</td><td>09-14-2014</td><td>7.95</td><td>25.93</td><td>31.0</td></tr><tr><th>24</th><td>SEP102014</td><td>ASU</td><td>P5</td><td>KA32</td><td>09-14-2014</td><td>7.81</td><td>25.74</td><td>30.8</td></tr><tr><th>25</th><td>SEP102014</td><td>ASU</td><td>P6</td><td>KA32</td><td>09-14-2014</td><td>7.74</td><td>26.14</td><td>31.3</td></tr><tr><th>26</th><td>SEP102014</td><td>ASU</td><td>P1</td><td>KA32</td><td>09-15-2014</td><td>7.95</td><td>29.27</td><td>32.7</td></tr><tr><th>27</th><td>SEP102014</td><td>ASU</td><td>P2</td><td>KA32</td><td>09-15-2014</td><td>7.92</td><td>27.52</td><td>32.9</td></tr><tr><th>28</th><td>SEP102014</td><td>ASU</td><td>P3</td><td>KA32</td><td>09-15-2014</td><td>7.95</td><td>27.46</td><td>32.8</td></tr><tr><th>29</th><td>SEP102014</td><td>ASU</td><td>P5</td><td>KA32</td><td>09-15-2014</td><td>7.85</td><td>27.4</td><td>32.7</td></tr><tr><th>30</th><td>SEP102014</td><td>ASU</td><td>P6</td><td>KA32</td><td>09-15-2014</td><td>8.67</td><td>27.63</td><td>33.0</td></tr><tr><th>&vellip;</th><td>&vellip;</td><td>&vellip;</td><td>&vellip;</td><td>&vellip;</td><td>&vellip;</td><td>&vellip;</td><td>&vellip;</td><td>&vellip;</td></tr></tbody></table>"
      ],
      "text/latex": [
       "\\begin{tabular}{r|ccccccccc}\n",
       "\t& ExperimentID & SiteID & PondID & StrainID & Date & pH & Temp.avg (C) & Temp.max (C) & \\\\\n",
       "\t\\hline\n",
       "\t& String15 & String7 & String3 & String15 & String15 & Float64 & Float64 & Float64 & \\\\\n",
       "\t\\hline\n",
       "\t1 & SEP102014 & ASU & P1 & KA32 & 09-10-2014 & 7.84 & 29.47 & 33.0 & $\\dots$ \\\\\n",
       "\t2 & SEP102014 & ASU & P2 & KA32 & 09-10-2014 & 7.76 & 29.9 & 33.3 & $\\dots$ \\\\\n",
       "\t3 & SEP102014 & ASU & P3 & KA32 & 09-10-2014 & 7.85 & 29.68 & 33.0 & $\\dots$ \\\\\n",
       "\t4 & SEP102014 & ASU & P5 & KA32 & 09-10-2014 & 7.24 & 29.15 & 32.7 & $\\dots$ \\\\\n",
       "\t5 & SEP102014 & ASU & P6 & KA32 & 09-10-2014 & 0.08 & 29.46 & 33.0 & $\\dots$ \\\\\n",
       "\t6 & SEP102014 & ASU & P1 & KA32 & 09-11-2014 & 7.85 & 27.25 & 32.6 & $\\dots$ \\\\\n",
       "\t7 & SEP102014 & ASU & P2 & KA32 & 09-11-2014 & 7.86 & 27.39 & 32.8 & $\\dots$ \\\\\n",
       "\t8 & SEP102014 & ASU & P3 & KA32 & 09-11-2014 & 7.94 & 27.33 & 32.7 & $\\dots$ \\\\\n",
       "\t9 & SEP102014 & ASU & P5 & KA32 & 09-11-2014 & 7.65 & 27.14 & 32.6 & $\\dots$ \\\\\n",
       "\t10 & SEP102014 & ASU & P6 & KA32 & 09-11-2014 & 1.47 & 27.36 & 32.8 & $\\dots$ \\\\\n",
       "\t11 & SEP102014 & ASU & P1 & KA32 & 09-12-2014 & 7.86 & 24.87 & 30.0 & $\\dots$ \\\\\n",
       "\t12 & SEP102014 & ASU & P2 & KA32 & 09-12-2014 & 7.81 & 27.4 & 32.9 & $\\dots$ \\\\\n",
       "\t13 & SEP102014 & ASU & P3 & KA32 & 09-12-2014 & 7.93 & 27.43 & 32.9 & $\\dots$ \\\\\n",
       "\t14 & SEP102014 & ASU & P5 & KA32 & 09-12-2014 & 7.82 & 27.32 & 32.8 & $\\dots$ \\\\\n",
       "\t15 & SEP102014 & ASU & P6 & KA32 & 09-12-2014 & 6.63 & 27.71 & 33.4 & $\\dots$ \\\\\n",
       "\t16 & SEP102014 & ASU & P1 & KA32 & 09-13-2014 & 7.82 & 23.59 & 25.3 & $\\dots$ \\\\\n",
       "\t17 & SEP102014 & ASU & P2 & KA32 & 09-13-2014 & 7.89 & 25.23 & 30.0 & $\\dots$ \\\\\n",
       "\t18 & SEP102014 & ASU & P3 & KA32 & 09-13-2014 & 7.94 & 25.28 & 30.2 & $\\dots$ \\\\\n",
       "\t19 & SEP102014 & ASU & P5 & KA32 & 09-13-2014 & 7.85 & 25.05 & 29.9 & $\\dots$ \\\\\n",
       "\t20 & SEP102014 & ASU & P6 & KA32 & 09-13-2014 & 7.6 & 25.5 & 30.3 & $\\dots$ \\\\\n",
       "\t21 & SEP102014 & ASU & P1 & KA32 & 09-14-2014 & 7.91 & 25.91 & 30.9 & $\\dots$ \\\\\n",
       "\t22 & SEP102014 & ASU & P2 & KA32 & 09-14-2014 & 7.89 & 25.93 & 31.2 & $\\dots$ \\\\\n",
       "\t23 & SEP102014 & ASU & P3 & KA32 & 09-14-2014 & 7.95 & 25.93 & 31.0 & $\\dots$ \\\\\n",
       "\t24 & SEP102014 & ASU & P5 & KA32 & 09-14-2014 & 7.81 & 25.74 & 30.8 & $\\dots$ \\\\\n",
       "\t25 & SEP102014 & ASU & P6 & KA32 & 09-14-2014 & 7.74 & 26.14 & 31.3 & $\\dots$ \\\\\n",
       "\t26 & SEP102014 & ASU & P1 & KA32 & 09-15-2014 & 7.95 & 29.27 & 32.7 & $\\dots$ \\\\\n",
       "\t27 & SEP102014 & ASU & P2 & KA32 & 09-15-2014 & 7.92 & 27.52 & 32.9 & $\\dots$ \\\\\n",
       "\t28 & SEP102014 & ASU & P3 & KA32 & 09-15-2014 & 7.95 & 27.46 & 32.8 & $\\dots$ \\\\\n",
       "\t29 & SEP102014 & ASU & P5 & KA32 & 09-15-2014 & 7.85 & 27.4 & 32.7 & $\\dots$ \\\\\n",
       "\t30 & SEP102014 & ASU & P6 & KA32 & 09-15-2014 & 8.67 & 27.63 & 33.0 & $\\dots$ \\\\\n",
       "\t$\\dots$ & $\\dots$ & $\\dots$ & $\\dots$ & $\\dots$ & $\\dots$ & $\\dots$ & $\\dots$ & $\\dots$ &  \\\\\n",
       "\\end{tabular}\n"
      ],
      "text/plain": [
       "\u001b[1m10192×13 DataFrame\u001b[0m\n",
       "\u001b[1m   Row \u001b[0m│\u001b[1m ExperimentID \u001b[0m\u001b[1m SiteID  \u001b[0m\u001b[1m PondID  \u001b[0m\u001b[1m StrainID \u001b[0m\u001b[1m Date       \u001b[0m\u001b[1m pH      \u001b[0m\u001b[1m Temp.a\u001b[0m ⋯\n",
       "\u001b[1m       \u001b[0m│\u001b[90m String15     \u001b[0m\u001b[90m String7 \u001b[0m\u001b[90m String3 \u001b[0m\u001b[90m String15 \u001b[0m\u001b[90m String15   \u001b[0m\u001b[90m Float64 \u001b[0m\u001b[90m Float6\u001b[0m ⋯\n",
       "───────┼────────────────────────────────────────────────────────────────────────\n",
       "     1 │ SEP102014     ASU      P1       KA32      09-10-2014     7.84         ⋯\n",
       "     2 │ SEP102014     ASU      P2       KA32      09-10-2014     7.76\n",
       "     3 │ SEP102014     ASU      P3       KA32      09-10-2014     7.85\n",
       "     4 │ SEP102014     ASU      P5       KA32      09-10-2014     7.24\n",
       "     5 │ SEP102014     ASU      P6       KA32      09-10-2014     0.08         ⋯\n",
       "     6 │ SEP102014     ASU      P1       KA32      09-11-2014     7.85\n",
       "     7 │ SEP102014     ASU      P2       KA32      09-11-2014     7.86\n",
       "     8 │ SEP102014     ASU      P3       KA32      09-11-2014     7.94\n",
       "     9 │ SEP102014     ASU      P5       KA32      09-11-2014     7.65         ⋯\n",
       "    10 │ SEP102014     ASU      P6       KA32      09-11-2014     1.47\n",
       "    11 │ SEP102014     ASU      P1       KA32      09-12-2014     7.86\n",
       "   ⋮   │      ⋮           ⋮        ⋮        ⋮          ⋮          ⋮          ⋮ ⋱\n",
       " 10183 │ OCT172013     TRL      P3       KA32      12-10-2013     7.96\n",
       " 10184 │ OCT172013     TRL      P4       KA32      12-10-2013     7.93         ⋯\n",
       " 10185 │ OCT172013     TRL      P5       KA32      12-10-2013     7.98\n",
       " 10186 │ OCT172013     TRL      P6       KA32      12-10-2013     7.98\n",
       " 10187 │ OCT172013     TRL      P1       KA32      12-11-2013     7.96\n",
       " 10188 │ OCT172013     TRL      P2       KA32      12-11-2013     7.96         ⋯\n",
       " 10189 │ OCT172013     TRL      P3       KA32      12-11-2013     7.96\n",
       " 10190 │ OCT172013     TRL      P4       KA32      12-11-2013     7.95\n",
       " 10191 │ OCT172013     TRL      P5       KA32      12-11-2013     7.99\n",
       " 10192 │ OCT172013     TRL      P6       KA32      12-11-2013     7.99         ⋯\n",
       "\u001b[36m                                                7 columns and 10171 rows omitted\u001b[0m"
      ]
     },
     "execution_count": 12,
     "metadata": {},
     "output_type": "execute_result"
    }
   ],
   "source": [
    "moderate_temp = copy(df)"
   ]
  },
  {
   "cell_type": "code",
   "execution_count": 13,
   "metadata": {},
   "outputs": [
    {
     "data": {
      "text/html": [
       "<table class=\"data-frame\"><thead><tr><th></th><th>ExperimentID</th><th>SiteID</th><th>PondID</th><th>StrainID</th><th>Date</th><th>pH</th><th>Temp.avg (C)</th></tr><tr><th></th><th>String15</th><th>String7</th><th>String3</th><th>String15</th><th>String15</th><th>Float64</th><th>Float64</th></tr></thead><tbody><p>2,062 rows × 13 columns (omitted printing of 6 columns)</p><tr><th>1</th><td>OCT222014</td><td>ASU</td><td>P5</td><td>LRB-AZ-1201</td><td>11-02-2014</td><td>7.98</td><td>14.94</td></tr><tr><th>2</th><td>OCT222014</td><td>ASU</td><td>P1</td><td>LRB-AZ-1201</td><td>11-03-2014</td><td>7.92</td><td>12.82</td></tr><tr><th>3</th><td>OCT222014</td><td>ASU</td><td>P3</td><td>LRB-AZ-1201</td><td>11-03-2014</td><td>7.94</td><td>12.98</td></tr><tr><th>4</th><td>OCT222014</td><td>ASU</td><td>P4</td><td>LRB-AZ-1201</td><td>11-03-2014</td><td>7.75</td><td>13.07</td></tr><tr><th>5</th><td>OCT222014</td><td>ASU</td><td>P5</td><td>LRB-AZ-1201</td><td>11-03-2014</td><td>7.98</td><td>12.8</td></tr><tr><th>6</th><td>OCT222014</td><td>ASU</td><td>P6</td><td>LRB-AZ-1201</td><td>11-03-2014</td><td>7.98</td><td>13.07</td></tr><tr><th>7</th><td>OCT222014</td><td>ASU</td><td>P1</td><td>LRB-AZ-1201</td><td>11-04-2014</td><td>7.96</td><td>12.88</td></tr><tr><th>8</th><td>OCT222014</td><td>ASU</td><td>P3</td><td>LRB-AZ-1201</td><td>11-04-2014</td><td>7.95</td><td>13.03</td></tr><tr><th>9</th><td>OCT222014</td><td>ASU</td><td>P4</td><td>LRB-AZ-1201</td><td>11-04-2014</td><td>7.78</td><td>13.15</td></tr><tr><th>10</th><td>OCT222014</td><td>ASU</td><td>P5</td><td>LRB-AZ-1201</td><td>11-04-2014</td><td>7.98</td><td>12.91</td></tr><tr><th>11</th><td>OCT222014</td><td>ASU</td><td>P6</td><td>LRB-AZ-1201</td><td>11-04-2014</td><td>7.98</td><td>13.14</td></tr><tr><th>12</th><td>OCT222014</td><td>ASU</td><td>P1</td><td>LRB-AZ-1201</td><td>11-16-2014</td><td>7.59</td><td>12.97</td></tr><tr><th>13</th><td>OCT222014</td><td>ASU</td><td>P3</td><td>LRB-AZ-1201</td><td>11-16-2014</td><td>7.86</td><td>13.11</td></tr><tr><th>14</th><td>OCT222014</td><td>ASU</td><td>P4</td><td>LRB-AZ-1201</td><td>11-16-2014</td><td>7.64</td><td>13.13</td></tr><tr><th>15</th><td>OCT222014</td><td>ASU</td><td>P5</td><td>LRB-AZ-1201</td><td>11-16-2014</td><td>7.77</td><td>13.12</td></tr><tr><th>16</th><td>OCT222014</td><td>ASU</td><td>P6</td><td>LRB-AZ-1201</td><td>11-16-2014</td><td>7.91</td><td>13.25</td></tr><tr><th>17</th><td>OCT222014</td><td>ASU</td><td>P1</td><td>LRB-AZ-1201</td><td>11-17-2014</td><td>7.65</td><td>9.27</td></tr><tr><th>18</th><td>OCT222014</td><td>ASU</td><td>P3</td><td>LRB-AZ-1201</td><td>11-17-2014</td><td>7.85</td><td>9.38</td></tr><tr><th>19</th><td>OCT222014</td><td>ASU</td><td>P4</td><td>LRB-AZ-1201</td><td>11-17-2014</td><td>7.56</td><td>9.64</td></tr><tr><th>20</th><td>OCT222014</td><td>ASU</td><td>P5</td><td>LRB-AZ-1201</td><td>11-17-2014</td><td>7.82</td><td>9.43</td></tr><tr><th>21</th><td>OCT222014</td><td>ASU</td><td>P6</td><td>LRB-AZ-1201</td><td>11-17-2014</td><td>7.87</td><td>9.74</td></tr><tr><th>22</th><td>OCT222014</td><td>ASU</td><td>P1</td><td>LRB-AZ-1201</td><td>11-18-2014</td><td>7.67</td><td>9.6</td></tr><tr><th>23</th><td>OCT222014</td><td>ASU</td><td>P3</td><td>LRB-AZ-1201</td><td>11-18-2014</td><td>7.84</td><td>9.89</td></tr><tr><th>24</th><td>OCT222014</td><td>ASU</td><td>P4</td><td>LRB-AZ-1201</td><td>11-18-2014</td><td>7.58</td><td>9.98</td></tr><tr><th>25</th><td>OCT222014</td><td>ASU</td><td>P5</td><td>LRB-AZ-1201</td><td>11-18-2014</td><td>7.85</td><td>9.86</td></tr><tr><th>26</th><td>OCT222014</td><td>ASU</td><td>P6</td><td>LRB-AZ-1201</td><td>11-18-2014</td><td>7.93</td><td>10.18</td></tr><tr><th>27</th><td>OCT222014</td><td>ASU</td><td>P1</td><td>LRB-AZ-1201</td><td>11-19-2014</td><td>7.69</td><td>9.81</td></tr><tr><th>28</th><td>OCT222014</td><td>ASU</td><td>P3</td><td>LRB-AZ-1201</td><td>11-19-2014</td><td>7.86</td><td>10.0</td></tr><tr><th>29</th><td>OCT222014</td><td>ASU</td><td>P4</td><td>LRB-AZ-1201</td><td>11-19-2014</td><td>7.56</td><td>10.15</td></tr><tr><th>30</th><td>OCT222014</td><td>ASU</td><td>P5</td><td>LRB-AZ-1201</td><td>11-19-2014</td><td>7.85</td><td>9.97</td></tr><tr><th>&vellip;</th><td>&vellip;</td><td>&vellip;</td><td>&vellip;</td><td>&vellip;</td><td>&vellip;</td><td>&vellip;</td><td>&vellip;</td></tr></tbody></table>"
      ],
      "text/latex": [
       "\\begin{tabular}{r|cccccccc}\n",
       "\t& ExperimentID & SiteID & PondID & StrainID & Date & pH & Temp.avg (C) & \\\\\n",
       "\t\\hline\n",
       "\t& String15 & String7 & String3 & String15 & String15 & Float64 & Float64 & \\\\\n",
       "\t\\hline\n",
       "\t1 & OCT222014 & ASU & P5 & LRB-AZ-1201 & 11-02-2014 & 7.98 & 14.94 & $\\dots$ \\\\\n",
       "\t2 & OCT222014 & ASU & P1 & LRB-AZ-1201 & 11-03-2014 & 7.92 & 12.82 & $\\dots$ \\\\\n",
       "\t3 & OCT222014 & ASU & P3 & LRB-AZ-1201 & 11-03-2014 & 7.94 & 12.98 & $\\dots$ \\\\\n",
       "\t4 & OCT222014 & ASU & P4 & LRB-AZ-1201 & 11-03-2014 & 7.75 & 13.07 & $\\dots$ \\\\\n",
       "\t5 & OCT222014 & ASU & P5 & LRB-AZ-1201 & 11-03-2014 & 7.98 & 12.8 & $\\dots$ \\\\\n",
       "\t6 & OCT222014 & ASU & P6 & LRB-AZ-1201 & 11-03-2014 & 7.98 & 13.07 & $\\dots$ \\\\\n",
       "\t7 & OCT222014 & ASU & P1 & LRB-AZ-1201 & 11-04-2014 & 7.96 & 12.88 & $\\dots$ \\\\\n",
       "\t8 & OCT222014 & ASU & P3 & LRB-AZ-1201 & 11-04-2014 & 7.95 & 13.03 & $\\dots$ \\\\\n",
       "\t9 & OCT222014 & ASU & P4 & LRB-AZ-1201 & 11-04-2014 & 7.78 & 13.15 & $\\dots$ \\\\\n",
       "\t10 & OCT222014 & ASU & P5 & LRB-AZ-1201 & 11-04-2014 & 7.98 & 12.91 & $\\dots$ \\\\\n",
       "\t11 & OCT222014 & ASU & P6 & LRB-AZ-1201 & 11-04-2014 & 7.98 & 13.14 & $\\dots$ \\\\\n",
       "\t12 & OCT222014 & ASU & P1 & LRB-AZ-1201 & 11-16-2014 & 7.59 & 12.97 & $\\dots$ \\\\\n",
       "\t13 & OCT222014 & ASU & P3 & LRB-AZ-1201 & 11-16-2014 & 7.86 & 13.11 & $\\dots$ \\\\\n",
       "\t14 & OCT222014 & ASU & P4 & LRB-AZ-1201 & 11-16-2014 & 7.64 & 13.13 & $\\dots$ \\\\\n",
       "\t15 & OCT222014 & ASU & P5 & LRB-AZ-1201 & 11-16-2014 & 7.77 & 13.12 & $\\dots$ \\\\\n",
       "\t16 & OCT222014 & ASU & P6 & LRB-AZ-1201 & 11-16-2014 & 7.91 & 13.25 & $\\dots$ \\\\\n",
       "\t17 & OCT222014 & ASU & P1 & LRB-AZ-1201 & 11-17-2014 & 7.65 & 9.27 & $\\dots$ \\\\\n",
       "\t18 & OCT222014 & ASU & P3 & LRB-AZ-1201 & 11-17-2014 & 7.85 & 9.38 & $\\dots$ \\\\\n",
       "\t19 & OCT222014 & ASU & P4 & LRB-AZ-1201 & 11-17-2014 & 7.56 & 9.64 & $\\dots$ \\\\\n",
       "\t20 & OCT222014 & ASU & P5 & LRB-AZ-1201 & 11-17-2014 & 7.82 & 9.43 & $\\dots$ \\\\\n",
       "\t21 & OCT222014 & ASU & P6 & LRB-AZ-1201 & 11-17-2014 & 7.87 & 9.74 & $\\dots$ \\\\\n",
       "\t22 & OCT222014 & ASU & P1 & LRB-AZ-1201 & 11-18-2014 & 7.67 & 9.6 & $\\dots$ \\\\\n",
       "\t23 & OCT222014 & ASU & P3 & LRB-AZ-1201 & 11-18-2014 & 7.84 & 9.89 & $\\dots$ \\\\\n",
       "\t24 & OCT222014 & ASU & P4 & LRB-AZ-1201 & 11-18-2014 & 7.58 & 9.98 & $\\dots$ \\\\\n",
       "\t25 & OCT222014 & ASU & P5 & LRB-AZ-1201 & 11-18-2014 & 7.85 & 9.86 & $\\dots$ \\\\\n",
       "\t26 & OCT222014 & ASU & P6 & LRB-AZ-1201 & 11-18-2014 & 7.93 & 10.18 & $\\dots$ \\\\\n",
       "\t27 & OCT222014 & ASU & P1 & LRB-AZ-1201 & 11-19-2014 & 7.69 & 9.81 & $\\dots$ \\\\\n",
       "\t28 & OCT222014 & ASU & P3 & LRB-AZ-1201 & 11-19-2014 & 7.86 & 10.0 & $\\dots$ \\\\\n",
       "\t29 & OCT222014 & ASU & P4 & LRB-AZ-1201 & 11-19-2014 & 7.56 & 10.15 & $\\dots$ \\\\\n",
       "\t30 & OCT222014 & ASU & P5 & LRB-AZ-1201 & 11-19-2014 & 7.85 & 9.97 & $\\dots$ \\\\\n",
       "\t$\\dots$ & $\\dots$ & $\\dots$ & $\\dots$ & $\\dots$ & $\\dots$ & $\\dots$ & $\\dots$ &  \\\\\n",
       "\\end{tabular}\n"
      ],
      "text/plain": [
       "\u001b[1m2062×13 DataFrame\u001b[0m\n",
       "\u001b[1m  Row \u001b[0m│\u001b[1m ExperimentID \u001b[0m\u001b[1m SiteID  \u001b[0m\u001b[1m PondID  \u001b[0m\u001b[1m StrainID    \u001b[0m\u001b[1m Date       \u001b[0m\u001b[1m pH      \u001b[0m\u001b[1m Temp\u001b[0m ⋯\n",
       "\u001b[1m      \u001b[0m│\u001b[90m String15     \u001b[0m\u001b[90m String7 \u001b[0m\u001b[90m String3 \u001b[0m\u001b[90m String15    \u001b[0m\u001b[90m String15   \u001b[0m\u001b[90m Float64 \u001b[0m\u001b[90m Floa\u001b[0m ⋯\n",
       "──────┼─────────────────────────────────────────────────────────────────────────\n",
       "    1 │ OCT222014     ASU      P5       LRB-AZ-1201  11-02-2014     7.98       ⋯\n",
       "    2 │ OCT222014     ASU      P1       LRB-AZ-1201  11-03-2014     7.92\n",
       "    3 │ OCT222014     ASU      P3       LRB-AZ-1201  11-03-2014     7.94\n",
       "    4 │ OCT222014     ASU      P4       LRB-AZ-1201  11-03-2014     7.75\n",
       "    5 │ OCT222014     ASU      P5       LRB-AZ-1201  11-03-2014     7.98       ⋯\n",
       "    6 │ OCT222014     ASU      P6       LRB-AZ-1201  11-03-2014     7.98\n",
       "    7 │ OCT222014     ASU      P1       LRB-AZ-1201  11-04-2014     7.96\n",
       "    8 │ OCT222014     ASU      P3       LRB-AZ-1201  11-04-2014     7.95\n",
       "    9 │ OCT222014     ASU      P4       LRB-AZ-1201  11-04-2014     7.78       ⋯\n",
       "   10 │ OCT222014     ASU      P5       LRB-AZ-1201  11-04-2014     7.98\n",
       "   11 │ OCT222014     ASU      P6       LRB-AZ-1201  11-04-2014     7.98\n",
       "  ⋮   │      ⋮           ⋮        ⋮          ⋮           ⋮          ⋮          ⋱\n",
       " 2053 │ OCT172013     TRL      P3       KA32         12-10-2013     7.96\n",
       " 2054 │ OCT172013     TRL      P4       KA32         12-10-2013     7.93       ⋯\n",
       " 2055 │ OCT172013     TRL      P5       KA32         12-10-2013     7.98\n",
       " 2056 │ OCT172013     TRL      P6       KA32         12-10-2013     7.98\n",
       " 2057 │ OCT172013     TRL      P1       KA32         12-11-2013     7.96\n",
       " 2058 │ OCT172013     TRL      P2       KA32         12-11-2013     7.96       ⋯\n",
       " 2059 │ OCT172013     TRL      P3       KA32         12-11-2013     7.96\n",
       " 2060 │ OCT172013     TRL      P4       KA32         12-11-2013     7.95\n",
       " 2061 │ OCT172013     TRL      P5       KA32         12-11-2013     7.99\n",
       " 2062 │ OCT172013     TRL      P6       KA32         12-11-2013     7.99       ⋯\n",
       "\u001b[36m                                                 7 columns and 2041 rows omitted\u001b[0m"
      ]
     },
     "execution_count": 13,
     "metadata": {},
     "output_type": "execute_result"
    }
   ],
   "source": [
    "filter!(\"Temp.avg (C)\" => (x) -> ~(x < 30.0 && x > 15.0), moderate_temp)"
   ]
  },
  {
   "cell_type": "code",
   "execution_count": 14,
   "metadata": {},
   "outputs": [
    {
     "data": {
      "text/plain": [
       "Two sample t-test (equal variance)\n",
       "----------------------------------\n",
       "Population details:\n",
       "    parameter of interest:   Mean difference\n",
       "    value under h_0:         0\n",
       "    point estimate:          0.0440144\n",
       "    95% confidence interval: (-0.003465, 0.09149)\n",
       "\n",
       "Test summary:\n",
       "    outcome with 95% confidence: fail to reject h_0\n",
       "    two-sided p-value:           0.0692\n",
       "\n",
       "Details:\n",
       "    number of observations:   [2062,10192]\n",
       "    t-statistic:              1.81710915225804\n",
       "    degrees of freedom:       12252\n",
       "    empirical standard error: 0.024222199157210095\n"
      ]
     },
     "execution_count": 14,
     "metadata": {},
     "output_type": "execute_result"
    }
   ],
   "source": [
    "test = EqualVarianceTTest(moderate_temp[!, \"pH\"], Vector{Float64}(df[!, \"pH\"]))"
   ]
  },
  {
   "cell_type": "code",
   "execution_count": 15,
   "metadata": {},
   "outputs": [
    {
     "data": {
      "text/html": [
       "<table class=\"data-frame\"><thead><tr><th></th><th>ExperimentID</th><th>SiteID</th><th>PondID</th><th>StrainID</th><th>Date</th><th>pH</th><th>Temp.avg (C)</th><th>Temp.max (C)</th></tr><tr><th></th><th>String15</th><th>String7</th><th>String3</th><th>String15</th><th>String15</th><th>Float64</th><th>Float64</th><th>Float64</th></tr></thead><tbody><p>10,192 rows × 13 columns (omitted printing of 5 columns)</p><tr><th>1</th><td>SEP102014</td><td>ASU</td><td>P1</td><td>KA32</td><td>09-10-2014</td><td>7.84</td><td>29.47</td><td>33.0</td></tr><tr><th>2</th><td>SEP102014</td><td>ASU</td><td>P2</td><td>KA32</td><td>09-10-2014</td><td>7.76</td><td>29.9</td><td>33.3</td></tr><tr><th>3</th><td>SEP102014</td><td>ASU</td><td>P3</td><td>KA32</td><td>09-10-2014</td><td>7.85</td><td>29.68</td><td>33.0</td></tr><tr><th>4</th><td>SEP102014</td><td>ASU</td><td>P5</td><td>KA32</td><td>09-10-2014</td><td>7.24</td><td>29.15</td><td>32.7</td></tr><tr><th>5</th><td>SEP102014</td><td>ASU</td><td>P6</td><td>KA32</td><td>09-10-2014</td><td>0.08</td><td>29.46</td><td>33.0</td></tr><tr><th>6</th><td>SEP102014</td><td>ASU</td><td>P1</td><td>KA32</td><td>09-11-2014</td><td>7.85</td><td>27.25</td><td>32.6</td></tr><tr><th>7</th><td>SEP102014</td><td>ASU</td><td>P2</td><td>KA32</td><td>09-11-2014</td><td>7.86</td><td>27.39</td><td>32.8</td></tr><tr><th>8</th><td>SEP102014</td><td>ASU</td><td>P3</td><td>KA32</td><td>09-11-2014</td><td>7.94</td><td>27.33</td><td>32.7</td></tr><tr><th>9</th><td>SEP102014</td><td>ASU</td><td>P5</td><td>KA32</td><td>09-11-2014</td><td>7.65</td><td>27.14</td><td>32.6</td></tr><tr><th>10</th><td>SEP102014</td><td>ASU</td><td>P6</td><td>KA32</td><td>09-11-2014</td><td>1.47</td><td>27.36</td><td>32.8</td></tr><tr><th>11</th><td>SEP102014</td><td>ASU</td><td>P1</td><td>KA32</td><td>09-12-2014</td><td>7.86</td><td>24.87</td><td>30.0</td></tr><tr><th>12</th><td>SEP102014</td><td>ASU</td><td>P2</td><td>KA32</td><td>09-12-2014</td><td>7.81</td><td>27.4</td><td>32.9</td></tr><tr><th>13</th><td>SEP102014</td><td>ASU</td><td>P3</td><td>KA32</td><td>09-12-2014</td><td>7.93</td><td>27.43</td><td>32.9</td></tr><tr><th>14</th><td>SEP102014</td><td>ASU</td><td>P5</td><td>KA32</td><td>09-12-2014</td><td>7.82</td><td>27.32</td><td>32.8</td></tr><tr><th>15</th><td>SEP102014</td><td>ASU</td><td>P6</td><td>KA32</td><td>09-12-2014</td><td>6.63</td><td>27.71</td><td>33.4</td></tr><tr><th>16</th><td>SEP102014</td><td>ASU</td><td>P1</td><td>KA32</td><td>09-13-2014</td><td>7.82</td><td>23.59</td><td>25.3</td></tr><tr><th>17</th><td>SEP102014</td><td>ASU</td><td>P2</td><td>KA32</td><td>09-13-2014</td><td>7.89</td><td>25.23</td><td>30.0</td></tr><tr><th>18</th><td>SEP102014</td><td>ASU</td><td>P3</td><td>KA32</td><td>09-13-2014</td><td>7.94</td><td>25.28</td><td>30.2</td></tr><tr><th>19</th><td>SEP102014</td><td>ASU</td><td>P5</td><td>KA32</td><td>09-13-2014</td><td>7.85</td><td>25.05</td><td>29.9</td></tr><tr><th>20</th><td>SEP102014</td><td>ASU</td><td>P6</td><td>KA32</td><td>09-13-2014</td><td>7.6</td><td>25.5</td><td>30.3</td></tr><tr><th>21</th><td>SEP102014</td><td>ASU</td><td>P1</td><td>KA32</td><td>09-14-2014</td><td>7.91</td><td>25.91</td><td>30.9</td></tr><tr><th>22</th><td>SEP102014</td><td>ASU</td><td>P2</td><td>KA32</td><td>09-14-2014</td><td>7.89</td><td>25.93</td><td>31.2</td></tr><tr><th>23</th><td>SEP102014</td><td>ASU</td><td>P3</td><td>KA32</td><td>09-14-2014</td><td>7.95</td><td>25.93</td><td>31.0</td></tr><tr><th>24</th><td>SEP102014</td><td>ASU</td><td>P5</td><td>KA32</td><td>09-14-2014</td><td>7.81</td><td>25.74</td><td>30.8</td></tr><tr><th>25</th><td>SEP102014</td><td>ASU</td><td>P6</td><td>KA32</td><td>09-14-2014</td><td>7.74</td><td>26.14</td><td>31.3</td></tr><tr><th>26</th><td>SEP102014</td><td>ASU</td><td>P1</td><td>KA32</td><td>09-15-2014</td><td>7.95</td><td>29.27</td><td>32.7</td></tr><tr><th>27</th><td>SEP102014</td><td>ASU</td><td>P2</td><td>KA32</td><td>09-15-2014</td><td>7.92</td><td>27.52</td><td>32.9</td></tr><tr><th>28</th><td>SEP102014</td><td>ASU</td><td>P3</td><td>KA32</td><td>09-15-2014</td><td>7.95</td><td>27.46</td><td>32.8</td></tr><tr><th>29</th><td>SEP102014</td><td>ASU</td><td>P5</td><td>KA32</td><td>09-15-2014</td><td>7.85</td><td>27.4</td><td>32.7</td></tr><tr><th>30</th><td>SEP102014</td><td>ASU</td><td>P6</td><td>KA32</td><td>09-15-2014</td><td>8.67</td><td>27.63</td><td>33.0</td></tr><tr><th>&vellip;</th><td>&vellip;</td><td>&vellip;</td><td>&vellip;</td><td>&vellip;</td><td>&vellip;</td><td>&vellip;</td><td>&vellip;</td><td>&vellip;</td></tr></tbody></table>"
      ],
      "text/latex": [
       "\\begin{tabular}{r|ccccccccc}\n",
       "\t& ExperimentID & SiteID & PondID & StrainID & Date & pH & Temp.avg (C) & Temp.max (C) & \\\\\n",
       "\t\\hline\n",
       "\t& String15 & String7 & String3 & String15 & String15 & Float64 & Float64 & Float64 & \\\\\n",
       "\t\\hline\n",
       "\t1 & SEP102014 & ASU & P1 & KA32 & 09-10-2014 & 7.84 & 29.47 & 33.0 & $\\dots$ \\\\\n",
       "\t2 & SEP102014 & ASU & P2 & KA32 & 09-10-2014 & 7.76 & 29.9 & 33.3 & $\\dots$ \\\\\n",
       "\t3 & SEP102014 & ASU & P3 & KA32 & 09-10-2014 & 7.85 & 29.68 & 33.0 & $\\dots$ \\\\\n",
       "\t4 & SEP102014 & ASU & P5 & KA32 & 09-10-2014 & 7.24 & 29.15 & 32.7 & $\\dots$ \\\\\n",
       "\t5 & SEP102014 & ASU & P6 & KA32 & 09-10-2014 & 0.08 & 29.46 & 33.0 & $\\dots$ \\\\\n",
       "\t6 & SEP102014 & ASU & P1 & KA32 & 09-11-2014 & 7.85 & 27.25 & 32.6 & $\\dots$ \\\\\n",
       "\t7 & SEP102014 & ASU & P2 & KA32 & 09-11-2014 & 7.86 & 27.39 & 32.8 & $\\dots$ \\\\\n",
       "\t8 & SEP102014 & ASU & P3 & KA32 & 09-11-2014 & 7.94 & 27.33 & 32.7 & $\\dots$ \\\\\n",
       "\t9 & SEP102014 & ASU & P5 & KA32 & 09-11-2014 & 7.65 & 27.14 & 32.6 & $\\dots$ \\\\\n",
       "\t10 & SEP102014 & ASU & P6 & KA32 & 09-11-2014 & 1.47 & 27.36 & 32.8 & $\\dots$ \\\\\n",
       "\t11 & SEP102014 & ASU & P1 & KA32 & 09-12-2014 & 7.86 & 24.87 & 30.0 & $\\dots$ \\\\\n",
       "\t12 & SEP102014 & ASU & P2 & KA32 & 09-12-2014 & 7.81 & 27.4 & 32.9 & $\\dots$ \\\\\n",
       "\t13 & SEP102014 & ASU & P3 & KA32 & 09-12-2014 & 7.93 & 27.43 & 32.9 & $\\dots$ \\\\\n",
       "\t14 & SEP102014 & ASU & P5 & KA32 & 09-12-2014 & 7.82 & 27.32 & 32.8 & $\\dots$ \\\\\n",
       "\t15 & SEP102014 & ASU & P6 & KA32 & 09-12-2014 & 6.63 & 27.71 & 33.4 & $\\dots$ \\\\\n",
       "\t16 & SEP102014 & ASU & P1 & KA32 & 09-13-2014 & 7.82 & 23.59 & 25.3 & $\\dots$ \\\\\n",
       "\t17 & SEP102014 & ASU & P2 & KA32 & 09-13-2014 & 7.89 & 25.23 & 30.0 & $\\dots$ \\\\\n",
       "\t18 & SEP102014 & ASU & P3 & KA32 & 09-13-2014 & 7.94 & 25.28 & 30.2 & $\\dots$ \\\\\n",
       "\t19 & SEP102014 & ASU & P5 & KA32 & 09-13-2014 & 7.85 & 25.05 & 29.9 & $\\dots$ \\\\\n",
       "\t20 & SEP102014 & ASU & P6 & KA32 & 09-13-2014 & 7.6 & 25.5 & 30.3 & $\\dots$ \\\\\n",
       "\t21 & SEP102014 & ASU & P1 & KA32 & 09-14-2014 & 7.91 & 25.91 & 30.9 & $\\dots$ \\\\\n",
       "\t22 & SEP102014 & ASU & P2 & KA32 & 09-14-2014 & 7.89 & 25.93 & 31.2 & $\\dots$ \\\\\n",
       "\t23 & SEP102014 & ASU & P3 & KA32 & 09-14-2014 & 7.95 & 25.93 & 31.0 & $\\dots$ \\\\\n",
       "\t24 & SEP102014 & ASU & P5 & KA32 & 09-14-2014 & 7.81 & 25.74 & 30.8 & $\\dots$ \\\\\n",
       "\t25 & SEP102014 & ASU & P6 & KA32 & 09-14-2014 & 7.74 & 26.14 & 31.3 & $\\dots$ \\\\\n",
       "\t26 & SEP102014 & ASU & P1 & KA32 & 09-15-2014 & 7.95 & 29.27 & 32.7 & $\\dots$ \\\\\n",
       "\t27 & SEP102014 & ASU & P2 & KA32 & 09-15-2014 & 7.92 & 27.52 & 32.9 & $\\dots$ \\\\\n",
       "\t28 & SEP102014 & ASU & P3 & KA32 & 09-15-2014 & 7.95 & 27.46 & 32.8 & $\\dots$ \\\\\n",
       "\t29 & SEP102014 & ASU & P5 & KA32 & 09-15-2014 & 7.85 & 27.4 & 32.7 & $\\dots$ \\\\\n",
       "\t30 & SEP102014 & ASU & P6 & KA32 & 09-15-2014 & 8.67 & 27.63 & 33.0 & $\\dots$ \\\\\n",
       "\t$\\dots$ & $\\dots$ & $\\dots$ & $\\dots$ & $\\dots$ & $\\dots$ & $\\dots$ & $\\dots$ & $\\dots$ &  \\\\\n",
       "\\end{tabular}\n"
      ],
      "text/plain": [
       "\u001b[1m10192×13 DataFrame\u001b[0m\n",
       "\u001b[1m   Row \u001b[0m│\u001b[1m ExperimentID \u001b[0m\u001b[1m SiteID  \u001b[0m\u001b[1m PondID  \u001b[0m\u001b[1m StrainID \u001b[0m\u001b[1m Date       \u001b[0m\u001b[1m pH      \u001b[0m\u001b[1m Temp.a\u001b[0m ⋯\n",
       "\u001b[1m       \u001b[0m│\u001b[90m String15     \u001b[0m\u001b[90m String7 \u001b[0m\u001b[90m String3 \u001b[0m\u001b[90m String15 \u001b[0m\u001b[90m String15   \u001b[0m\u001b[90m Float64 \u001b[0m\u001b[90m Float6\u001b[0m ⋯\n",
       "───────┼────────────────────────────────────────────────────────────────────────\n",
       "     1 │ SEP102014     ASU      P1       KA32      09-10-2014     7.84         ⋯\n",
       "     2 │ SEP102014     ASU      P2       KA32      09-10-2014     7.76\n",
       "     3 │ SEP102014     ASU      P3       KA32      09-10-2014     7.85\n",
       "     4 │ SEP102014     ASU      P5       KA32      09-10-2014     7.24\n",
       "     5 │ SEP102014     ASU      P6       KA32      09-10-2014     0.08         ⋯\n",
       "     6 │ SEP102014     ASU      P1       KA32      09-11-2014     7.85\n",
       "     7 │ SEP102014     ASU      P2       KA32      09-11-2014     7.86\n",
       "     8 │ SEP102014     ASU      P3       KA32      09-11-2014     7.94\n",
       "     9 │ SEP102014     ASU      P5       KA32      09-11-2014     7.65         ⋯\n",
       "    10 │ SEP102014     ASU      P6       KA32      09-11-2014     1.47\n",
       "    11 │ SEP102014     ASU      P1       KA32      09-12-2014     7.86\n",
       "   ⋮   │      ⋮           ⋮        ⋮        ⋮          ⋮          ⋮          ⋮ ⋱\n",
       " 10183 │ OCT172013     TRL      P3       KA32      12-10-2013     7.96\n",
       " 10184 │ OCT172013     TRL      P4       KA32      12-10-2013     7.93         ⋯\n",
       " 10185 │ OCT172013     TRL      P5       KA32      12-10-2013     7.98\n",
       " 10186 │ OCT172013     TRL      P6       KA32      12-10-2013     7.98\n",
       " 10187 │ OCT172013     TRL      P1       KA32      12-11-2013     7.96\n",
       " 10188 │ OCT172013     TRL      P2       KA32      12-11-2013     7.96         ⋯\n",
       " 10189 │ OCT172013     TRL      P3       KA32      12-11-2013     7.96\n",
       " 10190 │ OCT172013     TRL      P4       KA32      12-11-2013     7.95\n",
       " 10191 │ OCT172013     TRL      P5       KA32      12-11-2013     7.99\n",
       " 10192 │ OCT172013     TRL      P6       KA32      12-11-2013     7.99         ⋯\n",
       "\u001b[36m                                                7 columns and 10171 rows omitted\u001b[0m"
      ]
     },
     "execution_count": 15,
     "metadata": {},
     "output_type": "execute_result"
    }
   ],
   "source": [
    "modifiedmoderate_temp = copy(df)"
   ]
  },
  {
   "cell_type": "code",
   "execution_count": 16,
   "metadata": {},
   "outputs": [
    {
     "data": {
      "text/html": [
       "<table class=\"data-frame\"><thead><tr><th></th><th>ExperimentID</th><th>SiteID</th><th>PondID</th><th>StrainID</th><th>Date</th><th>pH</th><th>Temp.avg (C)</th><th>Temp.max (C)</th></tr><tr><th></th><th>String15</th><th>String7</th><th>String3</th><th>String15</th><th>String15</th><th>Float64</th><th>Float64</th><th>Float64</th></tr></thead><tbody><p>4,114 rows × 13 columns (omitted printing of 5 columns)</p><tr><th>1</th><td>SEP102014</td><td>ASU</td><td>P1</td><td>KA32</td><td>09-10-2014</td><td>7.84</td><td>29.47</td><td>33.0</td></tr><tr><th>2</th><td>SEP102014</td><td>ASU</td><td>P2</td><td>KA32</td><td>09-10-2014</td><td>7.76</td><td>29.9</td><td>33.3</td></tr><tr><th>3</th><td>SEP102014</td><td>ASU</td><td>P3</td><td>KA32</td><td>09-10-2014</td><td>7.85</td><td>29.68</td><td>33.0</td></tr><tr><th>4</th><td>SEP102014</td><td>ASU</td><td>P5</td><td>KA32</td><td>09-10-2014</td><td>7.24</td><td>29.15</td><td>32.7</td></tr><tr><th>5</th><td>SEP102014</td><td>ASU</td><td>P6</td><td>KA32</td><td>09-10-2014</td><td>0.08</td><td>29.46</td><td>33.0</td></tr><tr><th>6</th><td>SEP102014</td><td>ASU</td><td>P1</td><td>KA32</td><td>09-11-2014</td><td>7.85</td><td>27.25</td><td>32.6</td></tr><tr><th>7</th><td>SEP102014</td><td>ASU</td><td>P2</td><td>KA32</td><td>09-11-2014</td><td>7.86</td><td>27.39</td><td>32.8</td></tr><tr><th>8</th><td>SEP102014</td><td>ASU</td><td>P3</td><td>KA32</td><td>09-11-2014</td><td>7.94</td><td>27.33</td><td>32.7</td></tr><tr><th>9</th><td>SEP102014</td><td>ASU</td><td>P5</td><td>KA32</td><td>09-11-2014</td><td>7.65</td><td>27.14</td><td>32.6</td></tr><tr><th>10</th><td>SEP102014</td><td>ASU</td><td>P6</td><td>KA32</td><td>09-11-2014</td><td>1.47</td><td>27.36</td><td>32.8</td></tr><tr><th>11</th><td>SEP102014</td><td>ASU</td><td>P2</td><td>KA32</td><td>09-12-2014</td><td>7.81</td><td>27.4</td><td>32.9</td></tr><tr><th>12</th><td>SEP102014</td><td>ASU</td><td>P3</td><td>KA32</td><td>09-12-2014</td><td>7.93</td><td>27.43</td><td>32.9</td></tr><tr><th>13</th><td>SEP102014</td><td>ASU</td><td>P5</td><td>KA32</td><td>09-12-2014</td><td>7.82</td><td>27.32</td><td>32.8</td></tr><tr><th>14</th><td>SEP102014</td><td>ASU</td><td>P6</td><td>KA32</td><td>09-12-2014</td><td>6.63</td><td>27.71</td><td>33.4</td></tr><tr><th>15</th><td>SEP102014</td><td>ASU</td><td>P2</td><td>KA32</td><td>09-13-2014</td><td>7.89</td><td>25.23</td><td>30.0</td></tr><tr><th>16</th><td>SEP102014</td><td>ASU</td><td>P3</td><td>KA32</td><td>09-13-2014</td><td>7.94</td><td>25.28</td><td>30.2</td></tr><tr><th>17</th><td>SEP102014</td><td>ASU</td><td>P5</td><td>KA32</td><td>09-13-2014</td><td>7.85</td><td>25.05</td><td>29.9</td></tr><tr><th>18</th><td>SEP102014</td><td>ASU</td><td>P6</td><td>KA32</td><td>09-13-2014</td><td>7.6</td><td>25.5</td><td>30.3</td></tr><tr><th>19</th><td>SEP102014</td><td>ASU</td><td>P1</td><td>KA32</td><td>09-14-2014</td><td>7.91</td><td>25.91</td><td>30.9</td></tr><tr><th>20</th><td>SEP102014</td><td>ASU</td><td>P2</td><td>KA32</td><td>09-14-2014</td><td>7.89</td><td>25.93</td><td>31.2</td></tr><tr><th>21</th><td>SEP102014</td><td>ASU</td><td>P3</td><td>KA32</td><td>09-14-2014</td><td>7.95</td><td>25.93</td><td>31.0</td></tr><tr><th>22</th><td>SEP102014</td><td>ASU</td><td>P5</td><td>KA32</td><td>09-14-2014</td><td>7.81</td><td>25.74</td><td>30.8</td></tr><tr><th>23</th><td>SEP102014</td><td>ASU</td><td>P6</td><td>KA32</td><td>09-14-2014</td><td>7.74</td><td>26.14</td><td>31.3</td></tr><tr><th>24</th><td>SEP102014</td><td>ASU</td><td>P1</td><td>KA32</td><td>09-15-2014</td><td>7.95</td><td>29.27</td><td>32.7</td></tr><tr><th>25</th><td>SEP102014</td><td>ASU</td><td>P2</td><td>KA32</td><td>09-15-2014</td><td>7.92</td><td>27.52</td><td>32.9</td></tr><tr><th>26</th><td>SEP102014</td><td>ASU</td><td>P3</td><td>KA32</td><td>09-15-2014</td><td>7.95</td><td>27.46</td><td>32.8</td></tr><tr><th>27</th><td>SEP102014</td><td>ASU</td><td>P5</td><td>KA32</td><td>09-15-2014</td><td>7.85</td><td>27.4</td><td>32.7</td></tr><tr><th>28</th><td>SEP102014</td><td>ASU</td><td>P6</td><td>KA32</td><td>09-15-2014</td><td>8.67</td><td>27.63</td><td>33.0</td></tr><tr><th>29</th><td>SEP102014</td><td>ASU</td><td>P6</td><td>KA32</td><td>09-16-2014</td><td>8.47</td><td>25.05</td><td>32.3</td></tr><tr><th>30</th><td>SEP102014</td><td>ASU</td><td>P1</td><td>KA32</td><td>09-17-2014</td><td>7.91</td><td>25.43</td><td>28.7</td></tr><tr><th>&vellip;</th><td>&vellip;</td><td>&vellip;</td><td>&vellip;</td><td>&vellip;</td><td>&vellip;</td><td>&vellip;</td><td>&vellip;</td><td>&vellip;</td></tr></tbody></table>"
      ],
      "text/latex": [
       "\\begin{tabular}{r|ccccccccc}\n",
       "\t& ExperimentID & SiteID & PondID & StrainID & Date & pH & Temp.avg (C) & Temp.max (C) & \\\\\n",
       "\t\\hline\n",
       "\t& String15 & String7 & String3 & String15 & String15 & Float64 & Float64 & Float64 & \\\\\n",
       "\t\\hline\n",
       "\t1 & SEP102014 & ASU & P1 & KA32 & 09-10-2014 & 7.84 & 29.47 & 33.0 & $\\dots$ \\\\\n",
       "\t2 & SEP102014 & ASU & P2 & KA32 & 09-10-2014 & 7.76 & 29.9 & 33.3 & $\\dots$ \\\\\n",
       "\t3 & SEP102014 & ASU & P3 & KA32 & 09-10-2014 & 7.85 & 29.68 & 33.0 & $\\dots$ \\\\\n",
       "\t4 & SEP102014 & ASU & P5 & KA32 & 09-10-2014 & 7.24 & 29.15 & 32.7 & $\\dots$ \\\\\n",
       "\t5 & SEP102014 & ASU & P6 & KA32 & 09-10-2014 & 0.08 & 29.46 & 33.0 & $\\dots$ \\\\\n",
       "\t6 & SEP102014 & ASU & P1 & KA32 & 09-11-2014 & 7.85 & 27.25 & 32.6 & $\\dots$ \\\\\n",
       "\t7 & SEP102014 & ASU & P2 & KA32 & 09-11-2014 & 7.86 & 27.39 & 32.8 & $\\dots$ \\\\\n",
       "\t8 & SEP102014 & ASU & P3 & KA32 & 09-11-2014 & 7.94 & 27.33 & 32.7 & $\\dots$ \\\\\n",
       "\t9 & SEP102014 & ASU & P5 & KA32 & 09-11-2014 & 7.65 & 27.14 & 32.6 & $\\dots$ \\\\\n",
       "\t10 & SEP102014 & ASU & P6 & KA32 & 09-11-2014 & 1.47 & 27.36 & 32.8 & $\\dots$ \\\\\n",
       "\t11 & SEP102014 & ASU & P2 & KA32 & 09-12-2014 & 7.81 & 27.4 & 32.9 & $\\dots$ \\\\\n",
       "\t12 & SEP102014 & ASU & P3 & KA32 & 09-12-2014 & 7.93 & 27.43 & 32.9 & $\\dots$ \\\\\n",
       "\t13 & SEP102014 & ASU & P5 & KA32 & 09-12-2014 & 7.82 & 27.32 & 32.8 & $\\dots$ \\\\\n",
       "\t14 & SEP102014 & ASU & P6 & KA32 & 09-12-2014 & 6.63 & 27.71 & 33.4 & $\\dots$ \\\\\n",
       "\t15 & SEP102014 & ASU & P2 & KA32 & 09-13-2014 & 7.89 & 25.23 & 30.0 & $\\dots$ \\\\\n",
       "\t16 & SEP102014 & ASU & P3 & KA32 & 09-13-2014 & 7.94 & 25.28 & 30.2 & $\\dots$ \\\\\n",
       "\t17 & SEP102014 & ASU & P5 & KA32 & 09-13-2014 & 7.85 & 25.05 & 29.9 & $\\dots$ \\\\\n",
       "\t18 & SEP102014 & ASU & P6 & KA32 & 09-13-2014 & 7.6 & 25.5 & 30.3 & $\\dots$ \\\\\n",
       "\t19 & SEP102014 & ASU & P1 & KA32 & 09-14-2014 & 7.91 & 25.91 & 30.9 & $\\dots$ \\\\\n",
       "\t20 & SEP102014 & ASU & P2 & KA32 & 09-14-2014 & 7.89 & 25.93 & 31.2 & $\\dots$ \\\\\n",
       "\t21 & SEP102014 & ASU & P3 & KA32 & 09-14-2014 & 7.95 & 25.93 & 31.0 & $\\dots$ \\\\\n",
       "\t22 & SEP102014 & ASU & P5 & KA32 & 09-14-2014 & 7.81 & 25.74 & 30.8 & $\\dots$ \\\\\n",
       "\t23 & SEP102014 & ASU & P6 & KA32 & 09-14-2014 & 7.74 & 26.14 & 31.3 & $\\dots$ \\\\\n",
       "\t24 & SEP102014 & ASU & P1 & KA32 & 09-15-2014 & 7.95 & 29.27 & 32.7 & $\\dots$ \\\\\n",
       "\t25 & SEP102014 & ASU & P2 & KA32 & 09-15-2014 & 7.92 & 27.52 & 32.9 & $\\dots$ \\\\\n",
       "\t26 & SEP102014 & ASU & P3 & KA32 & 09-15-2014 & 7.95 & 27.46 & 32.8 & $\\dots$ \\\\\n",
       "\t27 & SEP102014 & ASU & P5 & KA32 & 09-15-2014 & 7.85 & 27.4 & 32.7 & $\\dots$ \\\\\n",
       "\t28 & SEP102014 & ASU & P6 & KA32 & 09-15-2014 & 8.67 & 27.63 & 33.0 & $\\dots$ \\\\\n",
       "\t29 & SEP102014 & ASU & P6 & KA32 & 09-16-2014 & 8.47 & 25.05 & 32.3 & $\\dots$ \\\\\n",
       "\t30 & SEP102014 & ASU & P1 & KA32 & 09-17-2014 & 7.91 & 25.43 & 28.7 & $\\dots$ \\\\\n",
       "\t$\\dots$ & $\\dots$ & $\\dots$ & $\\dots$ & $\\dots$ & $\\dots$ & $\\dots$ & $\\dots$ & $\\dots$ &  \\\\\n",
       "\\end{tabular}\n"
      ],
      "text/plain": [
       "\u001b[1m4114×13 DataFrame\u001b[0m\n",
       "\u001b[1m  Row \u001b[0m│\u001b[1m ExperimentID \u001b[0m\u001b[1m SiteID  \u001b[0m\u001b[1m PondID  \u001b[0m\u001b[1m StrainID \u001b[0m\u001b[1m Date       \u001b[0m\u001b[1m pH      \u001b[0m\u001b[1m Temp.av\u001b[0m ⋯\n",
       "\u001b[1m      \u001b[0m│\u001b[90m String15     \u001b[0m\u001b[90m String7 \u001b[0m\u001b[90m String3 \u001b[0m\u001b[90m String15 \u001b[0m\u001b[90m String15   \u001b[0m\u001b[90m Float64 \u001b[0m\u001b[90m Float64\u001b[0m ⋯\n",
       "──────┼─────────────────────────────────────────────────────────────────────────\n",
       "    1 │ SEP102014     ASU      P1       KA32      09-10-2014     7.84          ⋯\n",
       "    2 │ SEP102014     ASU      P2       KA32      09-10-2014     7.76\n",
       "    3 │ SEP102014     ASU      P3       KA32      09-10-2014     7.85\n",
       "    4 │ SEP102014     ASU      P5       KA32      09-10-2014     7.24\n",
       "    5 │ SEP102014     ASU      P6       KA32      09-10-2014     0.08          ⋯\n",
       "    6 │ SEP102014     ASU      P1       KA32      09-11-2014     7.85\n",
       "    7 │ SEP102014     ASU      P2       KA32      09-11-2014     7.86\n",
       "    8 │ SEP102014     ASU      P3       KA32      09-11-2014     7.94\n",
       "    9 │ SEP102014     ASU      P5       KA32      09-11-2014     7.65          ⋯\n",
       "   10 │ SEP102014     ASU      P6       KA32      09-11-2014     1.47\n",
       "   11 │ SEP102014     ASU      P2       KA32      09-12-2014     7.81\n",
       "  ⋮   │      ⋮           ⋮        ⋮        ⋮          ⋮          ⋮          ⋮  ⋱\n",
       " 4105 │ OCT172013     GT       P6       KA32      12-11-2013     7.94\n",
       " 4106 │ OCT172013     TRL      P3       KA32      11-24-2013     7.96          ⋯\n",
       " 4107 │ OCT172013     TRL      P5       KA32      11-24-2013     7.98\n",
       " 4108 │ OCT172013     TRL      P6       KA32      11-24-2013     7.98\n",
       " 4109 │ OCT172013     TRL      P1       KA32      12-11-2013     7.96\n",
       " 4110 │ OCT172013     TRL      P2       KA32      12-11-2013     7.96          ⋯\n",
       " 4111 │ OCT172013     TRL      P3       KA32      12-11-2013     7.96\n",
       " 4112 │ OCT172013     TRL      P4       KA32      12-11-2013     7.95\n",
       " 4113 │ OCT172013     TRL      P5       KA32      12-11-2013     7.99\n",
       " 4114 │ OCT172013     TRL      P6       KA32      12-11-2013     7.99          ⋯\n",
       "\u001b[36m                                                 7 columns and 4093 rows omitted\u001b[0m"
      ]
     },
     "execution_count": 16,
     "metadata": {},
     "output_type": "execute_result"
    }
   ],
   "source": [
    "filter!(\"Temp.avg (C)\" => (x) -> ~(x < 25.0 && x > 12.0), modifiedmoderate_temp)"
   ]
  },
  {
   "cell_type": "code",
   "execution_count": 17,
   "metadata": {},
   "outputs": [
    {
     "data": {
      "text/plain": [
       "Two sample t-test (equal variance)\n",
       "----------------------------------\n",
       "Population details:\n",
       "    parameter of interest:   Mean difference\n",
       "    value under h_0:         0\n",
       "    point estimate:          -0.128337\n",
       "    95% confidence interval: (-0.1646, -0.09206)\n",
       "\n",
       "Test summary:\n",
       "    outcome with 95% confidence: reject h_0\n",
       "    two-sided p-value:           <1e-11\n",
       "\n",
       "Details:\n",
       "    number of observations:   [4114,10192]\n",
       "    t-statistic:              -6.933559371529417\n",
       "    degrees of freedom:       14304\n",
       "    empirical standard error: 0.018509506198496783\n"
      ]
     },
     "execution_count": 17,
     "metadata": {},
     "output_type": "execute_result"
    }
   ],
   "source": [
    "test = EqualVarianceTTest(modifiedmoderate_temp[!, \"pH\"], Vector{Float64}(df[!, \"pH\"]))"
   ]
  },
  {
   "cell_type": "code",
   "execution_count": 18,
   "metadata": {},
   "outputs": [
    {
     "data": {
      "text/html": [
       "<table class=\"data-frame\"><thead><tr><th></th><th>ExperimentID</th><th>SiteID</th><th>PondID</th><th>StrainID</th><th>Date</th><th>pH</th><th>Temp.avg (C)</th><th>Temp.max (C)</th></tr><tr><th></th><th>String15</th><th>String7</th><th>String3</th><th>String15</th><th>String15</th><th>Float64</th><th>Float64</th><th>Float64</th></tr></thead><tbody><p>10,192 rows × 13 columns (omitted printing of 5 columns)</p><tr><th>1</th><td>SEP102014</td><td>ASU</td><td>P1</td><td>KA32</td><td>09-10-2014</td><td>7.84</td><td>29.47</td><td>33.0</td></tr><tr><th>2</th><td>SEP102014</td><td>ASU</td><td>P2</td><td>KA32</td><td>09-10-2014</td><td>7.76</td><td>29.9</td><td>33.3</td></tr><tr><th>3</th><td>SEP102014</td><td>ASU</td><td>P3</td><td>KA32</td><td>09-10-2014</td><td>7.85</td><td>29.68</td><td>33.0</td></tr><tr><th>4</th><td>SEP102014</td><td>ASU</td><td>P5</td><td>KA32</td><td>09-10-2014</td><td>7.24</td><td>29.15</td><td>32.7</td></tr><tr><th>5</th><td>SEP102014</td><td>ASU</td><td>P6</td><td>KA32</td><td>09-10-2014</td><td>0.08</td><td>29.46</td><td>33.0</td></tr><tr><th>6</th><td>SEP102014</td><td>ASU</td><td>P1</td><td>KA32</td><td>09-11-2014</td><td>7.85</td><td>27.25</td><td>32.6</td></tr><tr><th>7</th><td>SEP102014</td><td>ASU</td><td>P2</td><td>KA32</td><td>09-11-2014</td><td>7.86</td><td>27.39</td><td>32.8</td></tr><tr><th>8</th><td>SEP102014</td><td>ASU</td><td>P3</td><td>KA32</td><td>09-11-2014</td><td>7.94</td><td>27.33</td><td>32.7</td></tr><tr><th>9</th><td>SEP102014</td><td>ASU</td><td>P5</td><td>KA32</td><td>09-11-2014</td><td>7.65</td><td>27.14</td><td>32.6</td></tr><tr><th>10</th><td>SEP102014</td><td>ASU</td><td>P6</td><td>KA32</td><td>09-11-2014</td><td>1.47</td><td>27.36</td><td>32.8</td></tr><tr><th>11</th><td>SEP102014</td><td>ASU</td><td>P1</td><td>KA32</td><td>09-12-2014</td><td>7.86</td><td>24.87</td><td>30.0</td></tr><tr><th>12</th><td>SEP102014</td><td>ASU</td><td>P2</td><td>KA32</td><td>09-12-2014</td><td>7.81</td><td>27.4</td><td>32.9</td></tr><tr><th>13</th><td>SEP102014</td><td>ASU</td><td>P3</td><td>KA32</td><td>09-12-2014</td><td>7.93</td><td>27.43</td><td>32.9</td></tr><tr><th>14</th><td>SEP102014</td><td>ASU</td><td>P5</td><td>KA32</td><td>09-12-2014</td><td>7.82</td><td>27.32</td><td>32.8</td></tr><tr><th>15</th><td>SEP102014</td><td>ASU</td><td>P6</td><td>KA32</td><td>09-12-2014</td><td>6.63</td><td>27.71</td><td>33.4</td></tr><tr><th>16</th><td>SEP102014</td><td>ASU</td><td>P1</td><td>KA32</td><td>09-13-2014</td><td>7.82</td><td>23.59</td><td>25.3</td></tr><tr><th>17</th><td>SEP102014</td><td>ASU</td><td>P2</td><td>KA32</td><td>09-13-2014</td><td>7.89</td><td>25.23</td><td>30.0</td></tr><tr><th>18</th><td>SEP102014</td><td>ASU</td><td>P3</td><td>KA32</td><td>09-13-2014</td><td>7.94</td><td>25.28</td><td>30.2</td></tr><tr><th>19</th><td>SEP102014</td><td>ASU</td><td>P5</td><td>KA32</td><td>09-13-2014</td><td>7.85</td><td>25.05</td><td>29.9</td></tr><tr><th>20</th><td>SEP102014</td><td>ASU</td><td>P6</td><td>KA32</td><td>09-13-2014</td><td>7.6</td><td>25.5</td><td>30.3</td></tr><tr><th>21</th><td>SEP102014</td><td>ASU</td><td>P1</td><td>KA32</td><td>09-14-2014</td><td>7.91</td><td>25.91</td><td>30.9</td></tr><tr><th>22</th><td>SEP102014</td><td>ASU</td><td>P2</td><td>KA32</td><td>09-14-2014</td><td>7.89</td><td>25.93</td><td>31.2</td></tr><tr><th>23</th><td>SEP102014</td><td>ASU</td><td>P3</td><td>KA32</td><td>09-14-2014</td><td>7.95</td><td>25.93</td><td>31.0</td></tr><tr><th>24</th><td>SEP102014</td><td>ASU</td><td>P5</td><td>KA32</td><td>09-14-2014</td><td>7.81</td><td>25.74</td><td>30.8</td></tr><tr><th>25</th><td>SEP102014</td><td>ASU</td><td>P6</td><td>KA32</td><td>09-14-2014</td><td>7.74</td><td>26.14</td><td>31.3</td></tr><tr><th>26</th><td>SEP102014</td><td>ASU</td><td>P1</td><td>KA32</td><td>09-15-2014</td><td>7.95</td><td>29.27</td><td>32.7</td></tr><tr><th>27</th><td>SEP102014</td><td>ASU</td><td>P2</td><td>KA32</td><td>09-15-2014</td><td>7.92</td><td>27.52</td><td>32.9</td></tr><tr><th>28</th><td>SEP102014</td><td>ASU</td><td>P3</td><td>KA32</td><td>09-15-2014</td><td>7.95</td><td>27.46</td><td>32.8</td></tr><tr><th>29</th><td>SEP102014</td><td>ASU</td><td>P5</td><td>KA32</td><td>09-15-2014</td><td>7.85</td><td>27.4</td><td>32.7</td></tr><tr><th>30</th><td>SEP102014</td><td>ASU</td><td>P6</td><td>KA32</td><td>09-15-2014</td><td>8.67</td><td>27.63</td><td>33.0</td></tr><tr><th>&vellip;</th><td>&vellip;</td><td>&vellip;</td><td>&vellip;</td><td>&vellip;</td><td>&vellip;</td><td>&vellip;</td><td>&vellip;</td><td>&vellip;</td></tr></tbody></table>"
      ],
      "text/latex": [
       "\\begin{tabular}{r|ccccccccc}\n",
       "\t& ExperimentID & SiteID & PondID & StrainID & Date & pH & Temp.avg (C) & Temp.max (C) & \\\\\n",
       "\t\\hline\n",
       "\t& String15 & String7 & String3 & String15 & String15 & Float64 & Float64 & Float64 & \\\\\n",
       "\t\\hline\n",
       "\t1 & SEP102014 & ASU & P1 & KA32 & 09-10-2014 & 7.84 & 29.47 & 33.0 & $\\dots$ \\\\\n",
       "\t2 & SEP102014 & ASU & P2 & KA32 & 09-10-2014 & 7.76 & 29.9 & 33.3 & $\\dots$ \\\\\n",
       "\t3 & SEP102014 & ASU & P3 & KA32 & 09-10-2014 & 7.85 & 29.68 & 33.0 & $\\dots$ \\\\\n",
       "\t4 & SEP102014 & ASU & P5 & KA32 & 09-10-2014 & 7.24 & 29.15 & 32.7 & $\\dots$ \\\\\n",
       "\t5 & SEP102014 & ASU & P6 & KA32 & 09-10-2014 & 0.08 & 29.46 & 33.0 & $\\dots$ \\\\\n",
       "\t6 & SEP102014 & ASU & P1 & KA32 & 09-11-2014 & 7.85 & 27.25 & 32.6 & $\\dots$ \\\\\n",
       "\t7 & SEP102014 & ASU & P2 & KA32 & 09-11-2014 & 7.86 & 27.39 & 32.8 & $\\dots$ \\\\\n",
       "\t8 & SEP102014 & ASU & P3 & KA32 & 09-11-2014 & 7.94 & 27.33 & 32.7 & $\\dots$ \\\\\n",
       "\t9 & SEP102014 & ASU & P5 & KA32 & 09-11-2014 & 7.65 & 27.14 & 32.6 & $\\dots$ \\\\\n",
       "\t10 & SEP102014 & ASU & P6 & KA32 & 09-11-2014 & 1.47 & 27.36 & 32.8 & $\\dots$ \\\\\n",
       "\t11 & SEP102014 & ASU & P1 & KA32 & 09-12-2014 & 7.86 & 24.87 & 30.0 & $\\dots$ \\\\\n",
       "\t12 & SEP102014 & ASU & P2 & KA32 & 09-12-2014 & 7.81 & 27.4 & 32.9 & $\\dots$ \\\\\n",
       "\t13 & SEP102014 & ASU & P3 & KA32 & 09-12-2014 & 7.93 & 27.43 & 32.9 & $\\dots$ \\\\\n",
       "\t14 & SEP102014 & ASU & P5 & KA32 & 09-12-2014 & 7.82 & 27.32 & 32.8 & $\\dots$ \\\\\n",
       "\t15 & SEP102014 & ASU & P6 & KA32 & 09-12-2014 & 6.63 & 27.71 & 33.4 & $\\dots$ \\\\\n",
       "\t16 & SEP102014 & ASU & P1 & KA32 & 09-13-2014 & 7.82 & 23.59 & 25.3 & $\\dots$ \\\\\n",
       "\t17 & SEP102014 & ASU & P2 & KA32 & 09-13-2014 & 7.89 & 25.23 & 30.0 & $\\dots$ \\\\\n",
       "\t18 & SEP102014 & ASU & P3 & KA32 & 09-13-2014 & 7.94 & 25.28 & 30.2 & $\\dots$ \\\\\n",
       "\t19 & SEP102014 & ASU & P5 & KA32 & 09-13-2014 & 7.85 & 25.05 & 29.9 & $\\dots$ \\\\\n",
       "\t20 & SEP102014 & ASU & P6 & KA32 & 09-13-2014 & 7.6 & 25.5 & 30.3 & $\\dots$ \\\\\n",
       "\t21 & SEP102014 & ASU & P1 & KA32 & 09-14-2014 & 7.91 & 25.91 & 30.9 & $\\dots$ \\\\\n",
       "\t22 & SEP102014 & ASU & P2 & KA32 & 09-14-2014 & 7.89 & 25.93 & 31.2 & $\\dots$ \\\\\n",
       "\t23 & SEP102014 & ASU & P3 & KA32 & 09-14-2014 & 7.95 & 25.93 & 31.0 & $\\dots$ \\\\\n",
       "\t24 & SEP102014 & ASU & P5 & KA32 & 09-14-2014 & 7.81 & 25.74 & 30.8 & $\\dots$ \\\\\n",
       "\t25 & SEP102014 & ASU & P6 & KA32 & 09-14-2014 & 7.74 & 26.14 & 31.3 & $\\dots$ \\\\\n",
       "\t26 & SEP102014 & ASU & P1 & KA32 & 09-15-2014 & 7.95 & 29.27 & 32.7 & $\\dots$ \\\\\n",
       "\t27 & SEP102014 & ASU & P2 & KA32 & 09-15-2014 & 7.92 & 27.52 & 32.9 & $\\dots$ \\\\\n",
       "\t28 & SEP102014 & ASU & P3 & KA32 & 09-15-2014 & 7.95 & 27.46 & 32.8 & $\\dots$ \\\\\n",
       "\t29 & SEP102014 & ASU & P5 & KA32 & 09-15-2014 & 7.85 & 27.4 & 32.7 & $\\dots$ \\\\\n",
       "\t30 & SEP102014 & ASU & P6 & KA32 & 09-15-2014 & 8.67 & 27.63 & 33.0 & $\\dots$ \\\\\n",
       "\t$\\dots$ & $\\dots$ & $\\dots$ & $\\dots$ & $\\dots$ & $\\dots$ & $\\dots$ & $\\dots$ & $\\dots$ &  \\\\\n",
       "\\end{tabular}\n"
      ],
      "text/plain": [
       "\u001b[1m10192×13 DataFrame\u001b[0m\n",
       "\u001b[1m   Row \u001b[0m│\u001b[1m ExperimentID \u001b[0m\u001b[1m SiteID  \u001b[0m\u001b[1m PondID  \u001b[0m\u001b[1m StrainID \u001b[0m\u001b[1m Date       \u001b[0m\u001b[1m pH      \u001b[0m\u001b[1m Temp.a\u001b[0m ⋯\n",
       "\u001b[1m       \u001b[0m│\u001b[90m String15     \u001b[0m\u001b[90m String7 \u001b[0m\u001b[90m String3 \u001b[0m\u001b[90m String15 \u001b[0m\u001b[90m String15   \u001b[0m\u001b[90m Float64 \u001b[0m\u001b[90m Float6\u001b[0m ⋯\n",
       "───────┼────────────────────────────────────────────────────────────────────────\n",
       "     1 │ SEP102014     ASU      P1       KA32      09-10-2014     7.84         ⋯\n",
       "     2 │ SEP102014     ASU      P2       KA32      09-10-2014     7.76\n",
       "     3 │ SEP102014     ASU      P3       KA32      09-10-2014     7.85\n",
       "     4 │ SEP102014     ASU      P5       KA32      09-10-2014     7.24\n",
       "     5 │ SEP102014     ASU      P6       KA32      09-10-2014     0.08         ⋯\n",
       "     6 │ SEP102014     ASU      P1       KA32      09-11-2014     7.85\n",
       "     7 │ SEP102014     ASU      P2       KA32      09-11-2014     7.86\n",
       "     8 │ SEP102014     ASU      P3       KA32      09-11-2014     7.94\n",
       "     9 │ SEP102014     ASU      P5       KA32      09-11-2014     7.65         ⋯\n",
       "    10 │ SEP102014     ASU      P6       KA32      09-11-2014     1.47\n",
       "    11 │ SEP102014     ASU      P1       KA32      09-12-2014     7.86\n",
       "   ⋮   │      ⋮           ⋮        ⋮        ⋮          ⋮          ⋮          ⋮ ⋱\n",
       " 10183 │ OCT172013     TRL      P3       KA32      12-10-2013     7.96\n",
       " 10184 │ OCT172013     TRL      P4       KA32      12-10-2013     7.93         ⋯\n",
       " 10185 │ OCT172013     TRL      P5       KA32      12-10-2013     7.98\n",
       " 10186 │ OCT172013     TRL      P6       KA32      12-10-2013     7.98\n",
       " 10187 │ OCT172013     TRL      P1       KA32      12-11-2013     7.96\n",
       " 10188 │ OCT172013     TRL      P2       KA32      12-11-2013     7.96         ⋯\n",
       " 10189 │ OCT172013     TRL      P3       KA32      12-11-2013     7.96\n",
       " 10190 │ OCT172013     TRL      P4       KA32      12-11-2013     7.95\n",
       " 10191 │ OCT172013     TRL      P5       KA32      12-11-2013     7.99\n",
       " 10192 │ OCT172013     TRL      P6       KA32      12-11-2013     7.99         ⋯\n",
       "\u001b[36m                                                7 columns and 10171 rows omitted\u001b[0m"
      ]
     },
     "execution_count": 18,
     "metadata": {},
     "output_type": "execute_result"
    }
   ],
   "source": [
    "df = dropmissing!(df)"
   ]
  },
  {
   "cell_type": "code",
   "execution_count": 19,
   "metadata": {},
   "outputs": [
    {
     "data": {
      "text/plain": [
       "(\u001b[1m7616×13 DataFrame\u001b[0m\n",
       "\u001b[1m  Row \u001b[0m│\u001b[1m ExperimentID \u001b[0m\u001b[1m SiteID  \u001b[0m\u001b[1m PondID  \u001b[0m\u001b[1m StrainID \u001b[0m\u001b[1m Date       \u001b[0m\u001b[1m pH      \u001b[0m\u001b[1m Temp.av\u001b[0m ⋯\n",
       "\u001b[1m      \u001b[0m│\u001b[90m String15     \u001b[0m\u001b[90m String7 \u001b[0m\u001b[90m String3 \u001b[0m\u001b[90m String15 \u001b[0m\u001b[90m String15   \u001b[0m\u001b[90m Float64 \u001b[0m\u001b[90m Float64\u001b[0m ⋯\n",
       "──────┼─────────────────────────────────────────────────────────────────────────\n",
       "    1 │ SEP102014     ASU      P2       KA32      09-10-2014     7.76          ⋯\n",
       "    2 │ SEP102014     ASU      P3       KA32      09-10-2014     7.85\n",
       "    3 │ SEP102014     ASU      P6       KA32      09-10-2014     0.08\n",
       "    4 │ SEP102014     ASU      P2       KA32      09-11-2014     7.86\n",
       "    5 │ SEP102014     ASU      P5       KA32      09-11-2014     7.65          ⋯\n",
       "    6 │ SEP102014     ASU      P6       KA32      09-11-2014     1.47\n",
       "    7 │ SEP102014     ASU      P1       KA32      09-12-2014     7.86\n",
       "    8 │ SEP102014     ASU      P2       KA32      09-12-2014     7.81\n",
       "    9 │ SEP102014     ASU      P3       KA32      09-12-2014     7.93          ⋯\n",
       "   10 │ SEP102014     ASU      P5       KA32      09-12-2014     7.82\n",
       "   11 │ SEP102014     ASU      P6       KA32      09-12-2014     6.63\n",
       "  ⋮   │      ⋮           ⋮        ⋮        ⋮          ⋮          ⋮          ⋮  ⋱\n",
       " 7607 │ OCT172013     TRL      P2       KA32      12-09-2013     7.95\n",
       " 7608 │ OCT172013     TRL      P4       KA32      12-09-2013     7.93          ⋯\n",
       " 7609 │ OCT172013     TRL      P6       KA32      12-09-2013     7.97\n",
       " 7610 │ OCT172013     TRL      P1       KA32      12-10-2013     7.95\n",
       " 7611 │ OCT172013     TRL      P2       KA32      12-10-2013     7.95\n",
       " 7612 │ OCT172013     TRL      P4       KA32      12-10-2013     7.93          ⋯\n",
       " 7613 │ OCT172013     TRL      P5       KA32      12-10-2013     7.98\n",
       " 7614 │ OCT172013     TRL      P1       KA32      12-11-2013     7.96\n",
       " 7615 │ OCT172013     TRL      P2       KA32      12-11-2013     7.96\n",
       " 7616 │ OCT172013     TRL      P5       KA32      12-11-2013     7.99          ⋯\n",
       "\u001b[36m                                                 7 columns and 7595 rows omitted\u001b[0m, \u001b[1m2576×13 DataFrame\u001b[0m\n",
       "\u001b[1m  Row \u001b[0m│\u001b[1m ExperimentID \u001b[0m\u001b[1m SiteID  \u001b[0m\u001b[1m PondID  \u001b[0m\u001b[1m StrainID \u001b[0m\u001b[1m Date       \u001b[0m\u001b[1m pH      \u001b[0m\u001b[1m Temp.av\u001b[0m ⋯\n",
       "\u001b[1m      \u001b[0m│\u001b[90m String15     \u001b[0m\u001b[90m String7 \u001b[0m\u001b[90m String3 \u001b[0m\u001b[90m String15 \u001b[0m\u001b[90m String15   \u001b[0m\u001b[90m Float64 \u001b[0m\u001b[90m Float64\u001b[0m ⋯\n",
       "──────┼─────────────────────────────────────────────────────────────────────────\n",
       "    1 │ SEP102014     ASU      P1       KA32      09-10-2014     7.84          ⋯\n",
       "    2 │ SEP102014     ASU      P5       KA32      09-10-2014     7.24\n",
       "    3 │ SEP102014     ASU      P1       KA32      09-11-2014     7.85\n",
       "    4 │ SEP102014     ASU      P3       KA32      09-11-2014     7.94\n",
       "    5 │ SEP102014     ASU      P3       KA32      09-13-2014     7.94          ⋯\n",
       "    6 │ SEP102014     ASU      P6       KA32      09-13-2014     7.6\n",
       "    7 │ SEP102014     ASU      P2       KA32      09-16-2014     7.92\n",
       "    8 │ SEP102014     ASU      P3       KA32      09-17-2014     7.96\n",
       "    9 │ SEP102014     ASU      P2       KA32      09-18-2014     7.92          ⋯\n",
       "   10 │ SEP102014     ASU      P5       KA32      09-19-2014     7.83\n",
       "   11 │ SEP102014     ASU      P3       KA32      09-20-2014     7.94\n",
       "  ⋮   │      ⋮           ⋮        ⋮        ⋮          ⋮          ⋮          ⋮  ⋱\n",
       " 2567 │ OCT172013     TRL      P4       KA32      12-06-2013     7.93\n",
       " 2568 │ OCT172013     TRL      P5       KA32      12-06-2013     7.98          ⋯\n",
       " 2569 │ OCT172013     TRL      P5       KA32      12-08-2013     7.99\n",
       " 2570 │ OCT172013     TRL      P3       KA32      12-09-2013     7.95\n",
       " 2571 │ OCT172013     TRL      P5       KA32      12-09-2013     7.98\n",
       " 2572 │ OCT172013     TRL      P3       KA32      12-10-2013     7.96          ⋯\n",
       " 2573 │ OCT172013     TRL      P6       KA32      12-10-2013     7.98\n",
       " 2574 │ OCT172013     TRL      P3       KA32      12-11-2013     7.96\n",
       " 2575 │ OCT172013     TRL      P4       KA32      12-11-2013     7.95\n",
       " 2576 │ OCT172013     TRL      P6       KA32      12-11-2013     7.99          ⋯\n",
       "\u001b[36m                                                 7 columns and 2555 rows omitted\u001b[0m)"
      ]
     },
     "execution_count": 19,
     "metadata": {},
     "output_type": "execute_result"
    }
   ],
   "source": [
    "train, test = TrainTestSplit(df)"
   ]
  },
  {
   "cell_type": "code",
   "execution_count": 20,
   "metadata": {},
   "outputs": [
    {
     "data": {
      "text/plain": [
       "\"pH\""
      ]
     },
     "execution_count": 20,
     "metadata": {},
     "output_type": "execute_result"
    }
   ],
   "source": [
    "x = \"Temp.avg (C)\"\n",
    "y = \"pH\""
   ]
  },
  {
   "cell_type": "code",
   "execution_count": 21,
   "metadata": {},
   "outputs": [
    {
     "data": {
      "text/plain": [
       "LinearRegression{Lathe.models.var\"#predict#29\"{Float64, Float64}}(8.11054295110816, -0.012031906413947815, Lathe.models.var\"#predict#29\"{Float64, Float64}(-0.012031906413947815, 8.11054295110816), Lathe.models.LinearModel[])"
      ]
     },
     "execution_count": 21,
     "metadata": {},
     "output_type": "execute_result"
    }
   ],
   "source": [
    "model = LinearRegression(train[!, x], train[!, y])"
   ]
  },
  {
   "cell_type": "code",
   "execution_count": 22,
   "metadata": {},
   "outputs": [
    {
     "data": {
      "text/plain": [
       "2576-element Vector{Float64}:\n",
       " 7.755962669089118\n",
       " 7.759812879141581\n",
       " 7.782673501328082\n",
       " 7.7817109488149665\n",
       " 7.806376356963559\n",
       " 7.8037293375524905\n",
       " 7.815761243966438\n",
       " 7.803488699424212\n",
       " 7.797232108088959\n",
       " 7.785079882610871\n",
       " 7.788689454535056\n",
       " 7.78772690202194\n",
       " 7.795186683998588\n",
       " ⋮\n",
       " 7.901669055762026\n",
       " 7.901308098569608\n",
       " 7.9323504171175925\n",
       " 7.9323504171175925\n",
       " 7.953526572406141\n",
       " 7.947871576391585\n",
       " 7.947510619199167\n",
       " 7.955571996496512\n",
       " 7.957015825266186\n",
       " 7.973860494245713\n",
       " 7.973379217989155\n",
       " 7.975184003951247"
      ]
     },
     "execution_count": 22,
     "metadata": {},
     "output_type": "execute_result"
    }
   ],
   "source": [
    "yhat = model.predict(test[!, x])"
   ]
  },
  {
   "cell_type": "code",
   "execution_count": 23,
   "metadata": {},
   "outputs": [
    {
     "data": {
      "text/plain": [
       "correlationcoeff (generic function with 1 method)"
      ]
     },
     "execution_count": 23,
     "metadata": {},
     "output_type": "execute_result"
    }
   ],
   "source": [
    "function correlationcoeff(x::Vector, y::Vector)\n",
    "    n = length(x)\n",
    "    xy = x .* y\n",
    "    sx = sum(x)\n",
    "    sy = sum(y)\n",
    "    sxy = sum(xy)\n",
    "    x2 = x .^ 2\n",
    "    y2 = y .^ 2\n",
    "    sx2 = sum(x2)\n",
    "    sy2 = sum(y2)\n",
    "    ((n*sxy) - (sx * sy)) / (sqrt((((n*sx2)-(sx^2)) * ((n*sy2)-(sy^2)))))\n",
    "end"
   ]
  },
  {
   "cell_type": "code",
   "execution_count": 24,
   "metadata": {},
   "outputs": [
    {
     "data": {
      "text/plain": [
       "0.009653398611664551"
      ]
     },
     "execution_count": 24,
     "metadata": {},
     "output_type": "execute_result"
    }
   ],
   "source": [
    "correlationcoeff(yhat, test[!, y]) ^ 2"
   ]
  },
  {
   "cell_type": "code",
   "execution_count": null,
   "metadata": {},
   "outputs": [],
   "source": []
  }
 ],
 "metadata": {
  "kernelspec": {
   "display_name": "Julia 1.7.2",
   "language": "julia",
   "name": "julia-1.7"
  },
  "language_info": {
   "file_extension": ".jl",
   "mimetype": "application/julia",
   "name": "julia",
   "version": "1.7.2"
  }
 },
 "nbformat": 4,
 "nbformat_minor": 4
}
